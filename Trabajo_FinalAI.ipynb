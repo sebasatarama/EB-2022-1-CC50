{
  "nbformat": 4,
  "nbformat_minor": 0,
  "metadata": {
    "colab": {
      "name": "Copy of Trabajo_finalAI.ipynb",
      "provenance": [],
      "collapsed_sections": [],
      "include_colab_link": true
    },
    "kernelspec": {
      "name": "python3",
      "display_name": "Python 3"
    },
    "language_info": {
      "name": "python"
    }
  },
  "cells": [
    {
      "cell_type": "markdown",
      "metadata": {
        "id": "view-in-github",
        "colab_type": "text"
      },
      "source": [
        "<a href=\"https://colab.research.google.com/github/sebasatarama/EB-2022-1-CC50/blob/main/Trabajo_FinalAI.ipynb\" target=\"_parent\"><img src=\"https://colab.research.google.com/assets/colab-badge.svg\" alt=\"Open In Colab\"/></a>"
      ]
    },
    {
      "cell_type": "markdown",
      "source": [
        "<div style=\"width: 100%; clear: both;\">\n",
        "<div style=\"float: left; width: 50%;\">\n",
        "<img src=\"https://upload.wikimedia.org/wikipedia/commons/f/fc/UPC_logo_transparente.png\", align=\"left\">\n",
        "</div>\n",
        "<div style=\"float: right; width: 50%;\">\n",
        "<p style=\"margin: 0; padding-top: 22px; text-align:right;\">\n",
        "</p>\n",
        "<p style=\"margin: 0; text-align:right;\"><b>Administración de la Información</b></p>\n",
        "<p style=\"margin: 0; text-align:right;\"> <b>Profesora:</b> Patricia Reyes Silva</p>\n",
        "<p style=\"margin: 0; text-align:right; padding-button: 100px;\"><b>Alumnos: </b>   \n",
        "  \n",
        "  -Diego Sebastián Atarama León - U202010279  \n",
        "  -Sebastian Gonzales Sotomayor - U201923816  \n",
        "  -Diego André Pereira Jacobs - U201723546 \n",
        "</div>\n",
        "</div>\n",
        "<div style=\"width:100%;\">&nbsp;</div>\n",
        "<center><h1>TF -Creacion de Conocimiento a Partir de los Datos en Python</h1></center>\n"
      ],
      "metadata": {
        "id": "SrdHLUvUKCRH"
      }
    },
    {
      "cell_type": "markdown",
      "source": [
        "#Importación de las librerías a emplear"
      ],
      "metadata": {
        "id": "dqxGcHwGV4Rg"
      }
    },
    {
      "cell_type": "code",
      "execution_count": 115,
      "metadata": {
        "id": "O7NX1xkNiyK4"
      },
      "outputs": [],
      "source": [
        "import pandas as pd\n",
        "import numpy as np\n",
        "import matplotlib.pyplot as plt\n",
        "import plotly.express as px\n",
        "import json\n",
        "import seaborn as sns"
      ]
    },
    {
      "cell_type": "markdown",
      "source": [
        "#1. Carga e inspección de los datos"
      ],
      "metadata": {
        "id": "vQXx0Uj9ALPv"
      }
    },
    {
      "cell_type": "code",
      "source": [
        "ds_url = 'https://raw.githubusercontent.com/sebasatarama/EB-2022-1-CC50/main/data/DEvideos_cc50.csv'\n",
        "ds = pd.read_csv(ds_url)\n",
        "ds"
      ],
      "metadata": {
        "id": "EO70xKT4jTlB",
        "colab": {
          "base_uri": "https://localhost:8080/",
          "height": 0
        },
        "outputId": "53db5639-01c8-49a2-bd74-2dc689df2763"
      },
      "execution_count": 116,
      "outputs": [
        {
          "output_type": "execute_result",
          "data": {
            "text/plain": [
              "          video_id trending_date  \\\n",
              "0      LgVi6y5QIjM      17.14.11   \n",
              "1      Bayt7uQith4      17.14.11   \n",
              "2      1ZAPwfrtAFY      17.14.11   \n",
              "3      AHtypnRk7JE      17.14.11   \n",
              "4      ZJ9We4bjcg0      17.14.11   \n",
              "...            ...           ...   \n",
              "40835  fn5WNxy-Wcw      18.14.06   \n",
              "40836  zAFv43lxqHE      18.14.06   \n",
              "40837  zSXG5I6Y2fA      18.14.06   \n",
              "40838  5d115sePmaU      18.14.06   \n",
              "40839  go-F6xvezAM      18.14.06   \n",
              "\n",
              "                                                   title  \\\n",
              "0      Sing zu Ende! | Gesangseinlagen vom Feinsten |...   \n",
              "1      Kinder ferngesteuert im Kiosk! Erwachsene abzo...   \n",
              "2      The Trump Presidency: Last Week Tonight with J...   \n",
              "3                                    Das Fermi-Paradoxon   \n",
              "4               18 SONGS mit Kelly MissesVlog (Sing-off)   \n",
              "...                                                  ...   \n",
              "40835  KINGDOM HEARTS III – E3 2018 Pirates of the Ca...   \n",
              "40836                                     YMS: The Visit   \n",
              "40837  Ungut umgeschult – Grünwald als Ersthelfer am ...   \n",
              "40838  Assassin's Creed Odyssey: E3 2018 Welt-Enthüll...   \n",
              "40839  Гироскутер - Азбука Уральских Пельменей Б - Ур...   \n",
              "\n",
              "                 channel_title  category_id              publish_time  \\\n",
              "0                    inscope21           24  2017-11-13T17:08:49.000Z   \n",
              "1      LUKE! Die Woche und ich           23  2017-11-12T22:30:01.000Z   \n",
              "2              LastWeekTonight           24  2017-11-13T07:30:00.000Z   \n",
              "3            100SekundenPhysik           27  2017-11-12T15:00:01.000Z   \n",
              "4                         rezo           24  2017-11-12T13:10:36.000Z   \n",
              "...                        ...          ...                       ...   \n",
              "40835           Kingdom Hearts           20  2018-06-12T01:54:02.000Z   \n",
              "40836     YourMovieSucksDOTorg           24  2018-06-13T21:58:43.000Z   \n",
              "40837  Grünwald Freitagscomedy           24  2018-06-12T10:01:28.000Z   \n",
              "40838      Assassin's Creed DE           20  2018-06-11T21:16:55.000Z   \n",
              "40839       Уральские Пельмени           23  2018-06-13T15:02:15.000Z   \n",
              "\n",
              "                                                    tags    views   likes  \\\n",
              "0      inscope21|\"sing zu ende\"|\"gesangseinlagen\"|\"ge...   252786   35885   \n",
              "1      Kinder|\"ferngesteuert\"|\"Kinder ferngesteuert\"|...   797196   53576   \n",
              "2      last week tonight trump presidency|\"last week ...  2418783   97190   \n",
              "3      Physik|\"Wissenschaft\"|\"Technik\"|\"Science-Ficti...   380247   31821   \n",
              "4      kelly|\"missesvlog\"|\"kelly song\"|\"bausa\"|\"bausa...   822213  100684   \n",
              "...                                                  ...      ...     ...   \n",
              "40835  Kingdom Hearts|\"KH3\"|\"Kingdom Hearts 3\"|\"Pirat...  1394530   46778   \n",
              "40836                                             [none]   139733   11155   \n",
              "40837  Günter Grünwald|\"Grünwald Freitagscomedy\"|\"Gün...    26054     364   \n",
              "40838  Assassin's Creed|\"Assassins Creed\"|\"Assassin's...  1139198   14900   \n",
              "40839  Гироскутер|\"уральские пельмени гироскутер\"|\"мя...   316328   11394   \n",
              "\n",
              "       dislikes  comment_count  \\\n",
              "0           230           1539   \n",
              "1           302           1278   \n",
              "2          6146          12703   \n",
              "3           458           1955   \n",
              "4          2467          10244   \n",
              "...         ...            ...   \n",
              "40835       501           9878   \n",
              "40836       119           1968   \n",
              "40837        11              8   \n",
              "40838      1421           1587   \n",
              "40839       352            550   \n",
              "\n",
              "                                       thumbnail_link  comments_disabled  \\\n",
              "0      https://i.ytimg.com/vi/LgVi6y5QIjM/default.jpg              False   \n",
              "1      https://i.ytimg.com/vi/Bayt7uQith4/default.jpg              False   \n",
              "2      https://i.ytimg.com/vi/1ZAPwfrtAFY/default.jpg              False   \n",
              "3      https://i.ytimg.com/vi/AHtypnRk7JE/default.jpg              False   \n",
              "4      https://i.ytimg.com/vi/ZJ9We4bjcg0/default.jpg              False   \n",
              "...                                               ...                ...   \n",
              "40835  https://i.ytimg.com/vi/fn5WNxy-Wcw/default.jpg              False   \n",
              "40836  https://i.ytimg.com/vi/zAFv43lxqHE/default.jpg              False   \n",
              "40837  https://i.ytimg.com/vi/zSXG5I6Y2fA/default.jpg              False   \n",
              "40838  https://i.ytimg.com/vi/5d115sePmaU/default.jpg              False   \n",
              "40839  https://i.ytimg.com/vi/go-F6xvezAM/default.jpg              False   \n",
              "\n",
              "       ratings_disabled  video_error_or_removed  \\\n",
              "0                 False                   False   \n",
              "1                 False                   False   \n",
              "2                 False                   False   \n",
              "3                 False                   False   \n",
              "4                 False                   False   \n",
              "...                 ...                     ...   \n",
              "40835             False                   False   \n",
              "40836             False                   False   \n",
              "40837             False                   False   \n",
              "40838             False                   False   \n",
              "40839             False                   False   \n",
              "\n",
              "                                             description                state  \\\n",
              "0      Heute gibt es mal wieder ein neues Format... w...   Schleswig Holstein   \n",
              "1      Kinder ferngesteuert! Kinder lassen sich sooo ...  Nordrhein Westfalen   \n",
              "2      One year after the presidential election, John...             Saarland   \n",
              "3      ►Alle Videos: http://bit.ly/1fa7Tw3\\n\\n\\n✚Snap...               Bayern   \n",
              "4      18 Song Mashup über den (veränderten) Beat von...               Berlin   \n",
              "...                                                  ...                  ...   \n",
              "40835  Find out more about Kingdom Hearts 3: https://...               Hessen   \n",
              "40836  Patreon: http://www.patreon.com/YMSTwitch: htt...               Berlin   \n",
              "40837  Günter versucht sich als Ersthelfer bei einem ...             Saarland   \n",
              "40838  Vom verstoßenen Söldner zum legendären Helden,...          Brandenburg   \n",
              "40839  Популярный номер из нового шоу Азбука Уральски...              Hamburg   \n",
              "\n",
              "             lat        lon                               geometry  \n",
              "0      54.783748   9.433315        POINT (9.433315388 54.78374778)  \n",
              "1      52.029988   8.530011  POINT (8.530011351000001 52.02998822)  \n",
              "2      49.250390   6.970003        POINT (6.970003213 49.25039044)  \n",
              "3      50.266607  10.966607        POINT (10.96660681 50.26660748)  \n",
              "4      52.521819  13.401549        POINT (13.40154862 52.52181866)  \n",
              "...          ...        ...                                    ...  \n",
              "40835  51.300007   9.500030  POINT (9.500029661999999 51.30000694)  \n",
              "40836  52.521819  13.401549        POINT (13.40154862 52.52181866)  \n",
              "40837  49.250390   6.970003        POINT (6.970003213 49.25039044)  \n",
              "40838  51.770418  14.329967         POINT (14.32996741 51.7704175)  \n",
              "40839  53.550025   9.999999        POINT (9.999999144 53.55002464)  \n",
              "\n",
              "[40840 rows x 20 columns]"
            ],
            "text/html": [
              "\n",
              "  <div id=\"df-f29d5f28-3530-4d5f-b614-9fbe532a4676\">\n",
              "    <div class=\"colab-df-container\">\n",
              "      <div>\n",
              "<style scoped>\n",
              "    .dataframe tbody tr th:only-of-type {\n",
              "        vertical-align: middle;\n",
              "    }\n",
              "\n",
              "    .dataframe tbody tr th {\n",
              "        vertical-align: top;\n",
              "    }\n",
              "\n",
              "    .dataframe thead th {\n",
              "        text-align: right;\n",
              "    }\n",
              "</style>\n",
              "<table border=\"1\" class=\"dataframe\">\n",
              "  <thead>\n",
              "    <tr style=\"text-align: right;\">\n",
              "      <th></th>\n",
              "      <th>video_id</th>\n",
              "      <th>trending_date</th>\n",
              "      <th>title</th>\n",
              "      <th>channel_title</th>\n",
              "      <th>category_id</th>\n",
              "      <th>publish_time</th>\n",
              "      <th>tags</th>\n",
              "      <th>views</th>\n",
              "      <th>likes</th>\n",
              "      <th>dislikes</th>\n",
              "      <th>comment_count</th>\n",
              "      <th>thumbnail_link</th>\n",
              "      <th>comments_disabled</th>\n",
              "      <th>ratings_disabled</th>\n",
              "      <th>video_error_or_removed</th>\n",
              "      <th>description</th>\n",
              "      <th>state</th>\n",
              "      <th>lat</th>\n",
              "      <th>lon</th>\n",
              "      <th>geometry</th>\n",
              "    </tr>\n",
              "  </thead>\n",
              "  <tbody>\n",
              "    <tr>\n",
              "      <th>0</th>\n",
              "      <td>LgVi6y5QIjM</td>\n",
              "      <td>17.14.11</td>\n",
              "      <td>Sing zu Ende! | Gesangseinlagen vom Feinsten |...</td>\n",
              "      <td>inscope21</td>\n",
              "      <td>24</td>\n",
              "      <td>2017-11-13T17:08:49.000Z</td>\n",
              "      <td>inscope21|\"sing zu ende\"|\"gesangseinlagen\"|\"ge...</td>\n",
              "      <td>252786</td>\n",
              "      <td>35885</td>\n",
              "      <td>230</td>\n",
              "      <td>1539</td>\n",
              "      <td>https://i.ytimg.com/vi/LgVi6y5QIjM/default.jpg</td>\n",
              "      <td>False</td>\n",
              "      <td>False</td>\n",
              "      <td>False</td>\n",
              "      <td>Heute gibt es mal wieder ein neues Format... w...</td>\n",
              "      <td>Schleswig Holstein</td>\n",
              "      <td>54.783748</td>\n",
              "      <td>9.433315</td>\n",
              "      <td>POINT (9.433315388 54.78374778)</td>\n",
              "    </tr>\n",
              "    <tr>\n",
              "      <th>1</th>\n",
              "      <td>Bayt7uQith4</td>\n",
              "      <td>17.14.11</td>\n",
              "      <td>Kinder ferngesteuert im Kiosk! Erwachsene abzo...</td>\n",
              "      <td>LUKE! Die Woche und ich</td>\n",
              "      <td>23</td>\n",
              "      <td>2017-11-12T22:30:01.000Z</td>\n",
              "      <td>Kinder|\"ferngesteuert\"|\"Kinder ferngesteuert\"|...</td>\n",
              "      <td>797196</td>\n",
              "      <td>53576</td>\n",
              "      <td>302</td>\n",
              "      <td>1278</td>\n",
              "      <td>https://i.ytimg.com/vi/Bayt7uQith4/default.jpg</td>\n",
              "      <td>False</td>\n",
              "      <td>False</td>\n",
              "      <td>False</td>\n",
              "      <td>Kinder ferngesteuert! Kinder lassen sich sooo ...</td>\n",
              "      <td>Nordrhein Westfalen</td>\n",
              "      <td>52.029988</td>\n",
              "      <td>8.530011</td>\n",
              "      <td>POINT (8.530011351000001 52.02998822)</td>\n",
              "    </tr>\n",
              "    <tr>\n",
              "      <th>2</th>\n",
              "      <td>1ZAPwfrtAFY</td>\n",
              "      <td>17.14.11</td>\n",
              "      <td>The Trump Presidency: Last Week Tonight with J...</td>\n",
              "      <td>LastWeekTonight</td>\n",
              "      <td>24</td>\n",
              "      <td>2017-11-13T07:30:00.000Z</td>\n",
              "      <td>last week tonight trump presidency|\"last week ...</td>\n",
              "      <td>2418783</td>\n",
              "      <td>97190</td>\n",
              "      <td>6146</td>\n",
              "      <td>12703</td>\n",
              "      <td>https://i.ytimg.com/vi/1ZAPwfrtAFY/default.jpg</td>\n",
              "      <td>False</td>\n",
              "      <td>False</td>\n",
              "      <td>False</td>\n",
              "      <td>One year after the presidential election, John...</td>\n",
              "      <td>Saarland</td>\n",
              "      <td>49.250390</td>\n",
              "      <td>6.970003</td>\n",
              "      <td>POINT (6.970003213 49.25039044)</td>\n",
              "    </tr>\n",
              "    <tr>\n",
              "      <th>3</th>\n",
              "      <td>AHtypnRk7JE</td>\n",
              "      <td>17.14.11</td>\n",
              "      <td>Das Fermi-Paradoxon</td>\n",
              "      <td>100SekundenPhysik</td>\n",
              "      <td>27</td>\n",
              "      <td>2017-11-12T15:00:01.000Z</td>\n",
              "      <td>Physik|\"Wissenschaft\"|\"Technik\"|\"Science-Ficti...</td>\n",
              "      <td>380247</td>\n",
              "      <td>31821</td>\n",
              "      <td>458</td>\n",
              "      <td>1955</td>\n",
              "      <td>https://i.ytimg.com/vi/AHtypnRk7JE/default.jpg</td>\n",
              "      <td>False</td>\n",
              "      <td>False</td>\n",
              "      <td>False</td>\n",
              "      <td>►Alle Videos: http://bit.ly/1fa7Tw3\\n\\n\\n✚Snap...</td>\n",
              "      <td>Bayern</td>\n",
              "      <td>50.266607</td>\n",
              "      <td>10.966607</td>\n",
              "      <td>POINT (10.96660681 50.26660748)</td>\n",
              "    </tr>\n",
              "    <tr>\n",
              "      <th>4</th>\n",
              "      <td>ZJ9We4bjcg0</td>\n",
              "      <td>17.14.11</td>\n",
              "      <td>18 SONGS mit Kelly MissesVlog (Sing-off)</td>\n",
              "      <td>rezo</td>\n",
              "      <td>24</td>\n",
              "      <td>2017-11-12T13:10:36.000Z</td>\n",
              "      <td>kelly|\"missesvlog\"|\"kelly song\"|\"bausa\"|\"bausa...</td>\n",
              "      <td>822213</td>\n",
              "      <td>100684</td>\n",
              "      <td>2467</td>\n",
              "      <td>10244</td>\n",
              "      <td>https://i.ytimg.com/vi/ZJ9We4bjcg0/default.jpg</td>\n",
              "      <td>False</td>\n",
              "      <td>False</td>\n",
              "      <td>False</td>\n",
              "      <td>18 Song Mashup über den (veränderten) Beat von...</td>\n",
              "      <td>Berlin</td>\n",
              "      <td>52.521819</td>\n",
              "      <td>13.401549</td>\n",
              "      <td>POINT (13.40154862 52.52181866)</td>\n",
              "    </tr>\n",
              "    <tr>\n",
              "      <th>...</th>\n",
              "      <td>...</td>\n",
              "      <td>...</td>\n",
              "      <td>...</td>\n",
              "      <td>...</td>\n",
              "      <td>...</td>\n",
              "      <td>...</td>\n",
              "      <td>...</td>\n",
              "      <td>...</td>\n",
              "      <td>...</td>\n",
              "      <td>...</td>\n",
              "      <td>...</td>\n",
              "      <td>...</td>\n",
              "      <td>...</td>\n",
              "      <td>...</td>\n",
              "      <td>...</td>\n",
              "      <td>...</td>\n",
              "      <td>...</td>\n",
              "      <td>...</td>\n",
              "      <td>...</td>\n",
              "      <td>...</td>\n",
              "    </tr>\n",
              "    <tr>\n",
              "      <th>40835</th>\n",
              "      <td>fn5WNxy-Wcw</td>\n",
              "      <td>18.14.06</td>\n",
              "      <td>KINGDOM HEARTS III – E3 2018 Pirates of the Ca...</td>\n",
              "      <td>Kingdom Hearts</td>\n",
              "      <td>20</td>\n",
              "      <td>2018-06-12T01:54:02.000Z</td>\n",
              "      <td>Kingdom Hearts|\"KH3\"|\"Kingdom Hearts 3\"|\"Pirat...</td>\n",
              "      <td>1394530</td>\n",
              "      <td>46778</td>\n",
              "      <td>501</td>\n",
              "      <td>9878</td>\n",
              "      <td>https://i.ytimg.com/vi/fn5WNxy-Wcw/default.jpg</td>\n",
              "      <td>False</td>\n",
              "      <td>False</td>\n",
              "      <td>False</td>\n",
              "      <td>Find out more about Kingdom Hearts 3: https://...</td>\n",
              "      <td>Hessen</td>\n",
              "      <td>51.300007</td>\n",
              "      <td>9.500030</td>\n",
              "      <td>POINT (9.500029661999999 51.30000694)</td>\n",
              "    </tr>\n",
              "    <tr>\n",
              "      <th>40836</th>\n",
              "      <td>zAFv43lxqHE</td>\n",
              "      <td>18.14.06</td>\n",
              "      <td>YMS: The Visit</td>\n",
              "      <td>YourMovieSucksDOTorg</td>\n",
              "      <td>24</td>\n",
              "      <td>2018-06-13T21:58:43.000Z</td>\n",
              "      <td>[none]</td>\n",
              "      <td>139733</td>\n",
              "      <td>11155</td>\n",
              "      <td>119</td>\n",
              "      <td>1968</td>\n",
              "      <td>https://i.ytimg.com/vi/zAFv43lxqHE/default.jpg</td>\n",
              "      <td>False</td>\n",
              "      <td>False</td>\n",
              "      <td>False</td>\n",
              "      <td>Patreon: http://www.patreon.com/YMSTwitch: htt...</td>\n",
              "      <td>Berlin</td>\n",
              "      <td>52.521819</td>\n",
              "      <td>13.401549</td>\n",
              "      <td>POINT (13.40154862 52.52181866)</td>\n",
              "    </tr>\n",
              "    <tr>\n",
              "      <th>40837</th>\n",
              "      <td>zSXG5I6Y2fA</td>\n",
              "      <td>18.14.06</td>\n",
              "      <td>Ungut umgeschult – Grünwald als Ersthelfer am ...</td>\n",
              "      <td>Grünwald Freitagscomedy</td>\n",
              "      <td>24</td>\n",
              "      <td>2018-06-12T10:01:28.000Z</td>\n",
              "      <td>Günter Grünwald|\"Grünwald Freitagscomedy\"|\"Gün...</td>\n",
              "      <td>26054</td>\n",
              "      <td>364</td>\n",
              "      <td>11</td>\n",
              "      <td>8</td>\n",
              "      <td>https://i.ytimg.com/vi/zSXG5I6Y2fA/default.jpg</td>\n",
              "      <td>False</td>\n",
              "      <td>False</td>\n",
              "      <td>False</td>\n",
              "      <td>Günter versucht sich als Ersthelfer bei einem ...</td>\n",
              "      <td>Saarland</td>\n",
              "      <td>49.250390</td>\n",
              "      <td>6.970003</td>\n",
              "      <td>POINT (6.970003213 49.25039044)</td>\n",
              "    </tr>\n",
              "    <tr>\n",
              "      <th>40838</th>\n",
              "      <td>5d115sePmaU</td>\n",
              "      <td>18.14.06</td>\n",
              "      <td>Assassin's Creed Odyssey: E3 2018 Welt-Enthüll...</td>\n",
              "      <td>Assassin's Creed DE</td>\n",
              "      <td>20</td>\n",
              "      <td>2018-06-11T21:16:55.000Z</td>\n",
              "      <td>Assassin's Creed|\"Assassins Creed\"|\"Assassin's...</td>\n",
              "      <td>1139198</td>\n",
              "      <td>14900</td>\n",
              "      <td>1421</td>\n",
              "      <td>1587</td>\n",
              "      <td>https://i.ytimg.com/vi/5d115sePmaU/default.jpg</td>\n",
              "      <td>False</td>\n",
              "      <td>False</td>\n",
              "      <td>False</td>\n",
              "      <td>Vom verstoßenen Söldner zum legendären Helden,...</td>\n",
              "      <td>Brandenburg</td>\n",
              "      <td>51.770418</td>\n",
              "      <td>14.329967</td>\n",
              "      <td>POINT (14.32996741 51.7704175)</td>\n",
              "    </tr>\n",
              "    <tr>\n",
              "      <th>40839</th>\n",
              "      <td>go-F6xvezAM</td>\n",
              "      <td>18.14.06</td>\n",
              "      <td>Гироскутер - Азбука Уральских Пельменей Б - Ур...</td>\n",
              "      <td>Уральские Пельмени</td>\n",
              "      <td>23</td>\n",
              "      <td>2018-06-13T15:02:15.000Z</td>\n",
              "      <td>Гироскутер|\"уральские пельмени гироскутер\"|\"мя...</td>\n",
              "      <td>316328</td>\n",
              "      <td>11394</td>\n",
              "      <td>352</td>\n",
              "      <td>550</td>\n",
              "      <td>https://i.ytimg.com/vi/go-F6xvezAM/default.jpg</td>\n",
              "      <td>False</td>\n",
              "      <td>False</td>\n",
              "      <td>False</td>\n",
              "      <td>Популярный номер из нового шоу Азбука Уральски...</td>\n",
              "      <td>Hamburg</td>\n",
              "      <td>53.550025</td>\n",
              "      <td>9.999999</td>\n",
              "      <td>POINT (9.999999144 53.55002464)</td>\n",
              "    </tr>\n",
              "  </tbody>\n",
              "</table>\n",
              "<p>40840 rows × 20 columns</p>\n",
              "</div>\n",
              "      <button class=\"colab-df-convert\" onclick=\"convertToInteractive('df-f29d5f28-3530-4d5f-b614-9fbe532a4676')\"\n",
              "              title=\"Convert this dataframe to an interactive table.\"\n",
              "              style=\"display:none;\">\n",
              "        \n",
              "  <svg xmlns=\"http://www.w3.org/2000/svg\" height=\"24px\"viewBox=\"0 0 24 24\"\n",
              "       width=\"24px\">\n",
              "    <path d=\"M0 0h24v24H0V0z\" fill=\"none\"/>\n",
              "    <path d=\"M18.56 5.44l.94 2.06.94-2.06 2.06-.94-2.06-.94-.94-2.06-.94 2.06-2.06.94zm-11 1L8.5 8.5l.94-2.06 2.06-.94-2.06-.94L8.5 2.5l-.94 2.06-2.06.94zm10 10l.94 2.06.94-2.06 2.06-.94-2.06-.94-.94-2.06-.94 2.06-2.06.94z\"/><path d=\"M17.41 7.96l-1.37-1.37c-.4-.4-.92-.59-1.43-.59-.52 0-1.04.2-1.43.59L10.3 9.45l-7.72 7.72c-.78.78-.78 2.05 0 2.83L4 21.41c.39.39.9.59 1.41.59.51 0 1.02-.2 1.41-.59l7.78-7.78 2.81-2.81c.8-.78.8-2.07 0-2.86zM5.41 20L4 18.59l7.72-7.72 1.47 1.35L5.41 20z\"/>\n",
              "  </svg>\n",
              "      </button>\n",
              "      \n",
              "  <style>\n",
              "    .colab-df-container {\n",
              "      display:flex;\n",
              "      flex-wrap:wrap;\n",
              "      gap: 12px;\n",
              "    }\n",
              "\n",
              "    .colab-df-convert {\n",
              "      background-color: #E8F0FE;\n",
              "      border: none;\n",
              "      border-radius: 50%;\n",
              "      cursor: pointer;\n",
              "      display: none;\n",
              "      fill: #1967D2;\n",
              "      height: 32px;\n",
              "      padding: 0 0 0 0;\n",
              "      width: 32px;\n",
              "    }\n",
              "\n",
              "    .colab-df-convert:hover {\n",
              "      background-color: #E2EBFA;\n",
              "      box-shadow: 0px 1px 2px rgba(60, 64, 67, 0.3), 0px 1px 3px 1px rgba(60, 64, 67, 0.15);\n",
              "      fill: #174EA6;\n",
              "    }\n",
              "\n",
              "    [theme=dark] .colab-df-convert {\n",
              "      background-color: #3B4455;\n",
              "      fill: #D2E3FC;\n",
              "    }\n",
              "\n",
              "    [theme=dark] .colab-df-convert:hover {\n",
              "      background-color: #434B5C;\n",
              "      box-shadow: 0px 1px 3px 1px rgba(0, 0, 0, 0.15);\n",
              "      filter: drop-shadow(0px 1px 2px rgba(0, 0, 0, 0.3));\n",
              "      fill: #FFFFFF;\n",
              "    }\n",
              "  </style>\n",
              "\n",
              "      <script>\n",
              "        const buttonEl =\n",
              "          document.querySelector('#df-f29d5f28-3530-4d5f-b614-9fbe532a4676 button.colab-df-convert');\n",
              "        buttonEl.style.display =\n",
              "          google.colab.kernel.accessAllowed ? 'block' : 'none';\n",
              "\n",
              "        async function convertToInteractive(key) {\n",
              "          const element = document.querySelector('#df-f29d5f28-3530-4d5f-b614-9fbe532a4676');\n",
              "          const dataTable =\n",
              "            await google.colab.kernel.invokeFunction('convertToInteractive',\n",
              "                                                     [key], {});\n",
              "          if (!dataTable) return;\n",
              "\n",
              "          const docLinkHtml = 'Like what you see? Visit the ' +\n",
              "            '<a target=\"_blank\" href=https://colab.research.google.com/notebooks/data_table.ipynb>data table notebook</a>'\n",
              "            + ' to learn more about interactive tables.';\n",
              "          element.innerHTML = '';\n",
              "          dataTable['output_type'] = 'display_data';\n",
              "          await google.colab.output.renderOutput(dataTable, element);\n",
              "          const docLink = document.createElement('div');\n",
              "          docLink.innerHTML = docLinkHtml;\n",
              "          element.appendChild(docLink);\n",
              "        }\n",
              "      </script>\n",
              "    </div>\n",
              "  </div>\n",
              "  "
            ]
          },
          "metadata": {},
          "execution_count": 116
        }
      ]
    },
    {
      "cell_type": "code",
      "source": [
        "ds.info()"
      ],
      "metadata": {
        "colab": {
          "base_uri": "https://localhost:8080/"
        },
        "id": "mm0ufMeHswkC",
        "outputId": "18d4cf8e-ab26-44ec-bc51-b2f6a239340b"
      },
      "execution_count": 117,
      "outputs": [
        {
          "output_type": "stream",
          "name": "stdout",
          "text": [
            "<class 'pandas.core.frame.DataFrame'>\n",
            "RangeIndex: 40840 entries, 0 to 40839\n",
            "Data columns (total 20 columns):\n",
            " #   Column                  Non-Null Count  Dtype  \n",
            "---  ------                  --------------  -----  \n",
            " 0   video_id                40840 non-null  object \n",
            " 1   trending_date           40840 non-null  object \n",
            " 2   title                   40840 non-null  object \n",
            " 3   channel_title           40840 non-null  object \n",
            " 4   category_id             40840 non-null  int64  \n",
            " 5   publish_time            40840 non-null  object \n",
            " 6   tags                    40840 non-null  object \n",
            " 7   views                   40840 non-null  int64  \n",
            " 8   likes                   40840 non-null  int64  \n",
            " 9   dislikes                40840 non-null  int64  \n",
            " 10  comment_count           40840 non-null  int64  \n",
            " 11  thumbnail_link          40840 non-null  object \n",
            " 12  comments_disabled       40840 non-null  bool   \n",
            " 13  ratings_disabled        40840 non-null  bool   \n",
            " 14  video_error_or_removed  40840 non-null  bool   \n",
            " 15  description             39288 non-null  object \n",
            " 16  state                   40840 non-null  object \n",
            " 17  lat                     40840 non-null  float64\n",
            " 18  lon                     40840 non-null  float64\n",
            " 19  geometry                40840 non-null  object \n",
            "dtypes: bool(3), float64(2), int64(5), object(10)\n",
            "memory usage: 5.4+ MB\n"
          ]
        }
      ]
    },
    {
      "cell_type": "markdown",
      "source": [
        "#2. Pre-procesamiento de los datos"
      ],
      "metadata": {
        "id": "GW9hi7HHASit"
      }
    },
    {
      "cell_type": "markdown",
      "source": [
        "##Agregamos los nombres de la categoría como nueva columna al data set"
      ],
      "metadata": {
        "id": "OFXNv73nCnZ3"
      }
    },
    {
      "cell_type": "code",
      "source": [
        "titulos_categorias = []\n",
        "id_categorias = []\n",
        "json_url = 'https://raw.githubusercontent.com/sebasatarama/EB-2022-1-CC50/main/data/json/US_category_id.json'\n",
        "data = pd.read_json(json_url)\n",
        "for t in data['items']:\n",
        "  id_categorias.append(t['id'])\n",
        "  titulos_categorias.append(t['snippet']['title'])"
      ],
      "metadata": {
        "id": "OZfu9mJmCOYl"
      },
      "execution_count": 118,
      "outputs": []
    },
    {
      "cell_type": "code",
      "source": [
        "for i in range(len(id_categorias)):\n",
        "  id_categorias[i] = int(id_categorias[i])"
      ],
      "metadata": {
        "id": "WOmTFoRLCSV4"
      },
      "execution_count": 119,
      "outputs": []
    },
    {
      "cell_type": "code",
      "source": [
        "dic = dict(zip(id_categorias, titulos_categorias))"
      ],
      "metadata": {
        "id": "9iNptAEMCS1J"
      },
      "execution_count": 120,
      "outputs": []
    },
    {
      "cell_type": "code",
      "source": [
        "titulos=[]\n",
        "for i in range(len(ds)):\n",
        "  titulos.append(dic[ds['category_id'][i]])"
      ],
      "metadata": {
        "id": "48PHeFLKCWJQ"
      },
      "execution_count": 121,
      "outputs": []
    },
    {
      "cell_type": "code",
      "source": [
        "ds['category_title'] = titulos"
      ],
      "metadata": {
        "id": "qCvbIJYvCZzQ"
      },
      "execution_count": 122,
      "outputs": []
    },
    {
      "cell_type": "code",
      "source": [
        "ds.head()"
      ],
      "metadata": {
        "colab": {
          "base_uri": "https://localhost:8080/",
          "height": 525
        },
        "id": "fse08DRQjinG",
        "outputId": "4df90eaa-12bc-433f-d78a-e871180965f0"
      },
      "execution_count": 123,
      "outputs": [
        {
          "output_type": "execute_result",
          "data": {
            "text/plain": [
              "      video_id trending_date  \\\n",
              "0  LgVi6y5QIjM      17.14.11   \n",
              "1  Bayt7uQith4      17.14.11   \n",
              "2  1ZAPwfrtAFY      17.14.11   \n",
              "3  AHtypnRk7JE      17.14.11   \n",
              "4  ZJ9We4bjcg0      17.14.11   \n",
              "\n",
              "                                               title            channel_title  \\\n",
              "0  Sing zu Ende! | Gesangseinlagen vom Feinsten |...                inscope21   \n",
              "1  Kinder ferngesteuert im Kiosk! Erwachsene abzo...  LUKE! Die Woche und ich   \n",
              "2  The Trump Presidency: Last Week Tonight with J...          LastWeekTonight   \n",
              "3                                Das Fermi-Paradoxon        100SekundenPhysik   \n",
              "4           18 SONGS mit Kelly MissesVlog (Sing-off)                     rezo   \n",
              "\n",
              "   category_id              publish_time  \\\n",
              "0           24  2017-11-13T17:08:49.000Z   \n",
              "1           23  2017-11-12T22:30:01.000Z   \n",
              "2           24  2017-11-13T07:30:00.000Z   \n",
              "3           27  2017-11-12T15:00:01.000Z   \n",
              "4           24  2017-11-12T13:10:36.000Z   \n",
              "\n",
              "                                                tags    views   likes  \\\n",
              "0  inscope21|\"sing zu ende\"|\"gesangseinlagen\"|\"ge...   252786   35885   \n",
              "1  Kinder|\"ferngesteuert\"|\"Kinder ferngesteuert\"|...   797196   53576   \n",
              "2  last week tonight trump presidency|\"last week ...  2418783   97190   \n",
              "3  Physik|\"Wissenschaft\"|\"Technik\"|\"Science-Ficti...   380247   31821   \n",
              "4  kelly|\"missesvlog\"|\"kelly song\"|\"bausa\"|\"bausa...   822213  100684   \n",
              "\n",
              "   dislikes  ...                                  thumbnail_link  \\\n",
              "0       230  ...  https://i.ytimg.com/vi/LgVi6y5QIjM/default.jpg   \n",
              "1       302  ...  https://i.ytimg.com/vi/Bayt7uQith4/default.jpg   \n",
              "2      6146  ...  https://i.ytimg.com/vi/1ZAPwfrtAFY/default.jpg   \n",
              "3       458  ...  https://i.ytimg.com/vi/AHtypnRk7JE/default.jpg   \n",
              "4      2467  ...  https://i.ytimg.com/vi/ZJ9We4bjcg0/default.jpg   \n",
              "\n",
              "  comments_disabled  ratings_disabled  video_error_or_removed  \\\n",
              "0             False             False                   False   \n",
              "1             False             False                   False   \n",
              "2             False             False                   False   \n",
              "3             False             False                   False   \n",
              "4             False             False                   False   \n",
              "\n",
              "                                         description                state  \\\n",
              "0  Heute gibt es mal wieder ein neues Format... w...   Schleswig Holstein   \n",
              "1  Kinder ferngesteuert! Kinder lassen sich sooo ...  Nordrhein Westfalen   \n",
              "2  One year after the presidential election, John...             Saarland   \n",
              "3  ►Alle Videos: http://bit.ly/1fa7Tw3\\n\\n\\n✚Snap...               Bayern   \n",
              "4  18 Song Mashup über den (veränderten) Beat von...               Berlin   \n",
              "\n",
              "         lat        lon                               geometry category_title  \n",
              "0  54.783748   9.433315        POINT (9.433315388 54.78374778)  Entertainment  \n",
              "1  52.029988   8.530011  POINT (8.530011351000001 52.02998822)         Comedy  \n",
              "2  49.250390   6.970003        POINT (6.970003213 49.25039044)  Entertainment  \n",
              "3  50.266607  10.966607        POINT (10.96660681 50.26660748)      Education  \n",
              "4  52.521819  13.401549        POINT (13.40154862 52.52181866)  Entertainment  \n",
              "\n",
              "[5 rows x 21 columns]"
            ],
            "text/html": [
              "\n",
              "  <div id=\"df-e41ec4e0-1691-4dd3-acec-2ea8ef63ed70\">\n",
              "    <div class=\"colab-df-container\">\n",
              "      <div>\n",
              "<style scoped>\n",
              "    .dataframe tbody tr th:only-of-type {\n",
              "        vertical-align: middle;\n",
              "    }\n",
              "\n",
              "    .dataframe tbody tr th {\n",
              "        vertical-align: top;\n",
              "    }\n",
              "\n",
              "    .dataframe thead th {\n",
              "        text-align: right;\n",
              "    }\n",
              "</style>\n",
              "<table border=\"1\" class=\"dataframe\">\n",
              "  <thead>\n",
              "    <tr style=\"text-align: right;\">\n",
              "      <th></th>\n",
              "      <th>video_id</th>\n",
              "      <th>trending_date</th>\n",
              "      <th>title</th>\n",
              "      <th>channel_title</th>\n",
              "      <th>category_id</th>\n",
              "      <th>publish_time</th>\n",
              "      <th>tags</th>\n",
              "      <th>views</th>\n",
              "      <th>likes</th>\n",
              "      <th>dislikes</th>\n",
              "      <th>...</th>\n",
              "      <th>thumbnail_link</th>\n",
              "      <th>comments_disabled</th>\n",
              "      <th>ratings_disabled</th>\n",
              "      <th>video_error_or_removed</th>\n",
              "      <th>description</th>\n",
              "      <th>state</th>\n",
              "      <th>lat</th>\n",
              "      <th>lon</th>\n",
              "      <th>geometry</th>\n",
              "      <th>category_title</th>\n",
              "    </tr>\n",
              "  </thead>\n",
              "  <tbody>\n",
              "    <tr>\n",
              "      <th>0</th>\n",
              "      <td>LgVi6y5QIjM</td>\n",
              "      <td>17.14.11</td>\n",
              "      <td>Sing zu Ende! | Gesangseinlagen vom Feinsten |...</td>\n",
              "      <td>inscope21</td>\n",
              "      <td>24</td>\n",
              "      <td>2017-11-13T17:08:49.000Z</td>\n",
              "      <td>inscope21|\"sing zu ende\"|\"gesangseinlagen\"|\"ge...</td>\n",
              "      <td>252786</td>\n",
              "      <td>35885</td>\n",
              "      <td>230</td>\n",
              "      <td>...</td>\n",
              "      <td>https://i.ytimg.com/vi/LgVi6y5QIjM/default.jpg</td>\n",
              "      <td>False</td>\n",
              "      <td>False</td>\n",
              "      <td>False</td>\n",
              "      <td>Heute gibt es mal wieder ein neues Format... w...</td>\n",
              "      <td>Schleswig Holstein</td>\n",
              "      <td>54.783748</td>\n",
              "      <td>9.433315</td>\n",
              "      <td>POINT (9.433315388 54.78374778)</td>\n",
              "      <td>Entertainment</td>\n",
              "    </tr>\n",
              "    <tr>\n",
              "      <th>1</th>\n",
              "      <td>Bayt7uQith4</td>\n",
              "      <td>17.14.11</td>\n",
              "      <td>Kinder ferngesteuert im Kiosk! Erwachsene abzo...</td>\n",
              "      <td>LUKE! Die Woche und ich</td>\n",
              "      <td>23</td>\n",
              "      <td>2017-11-12T22:30:01.000Z</td>\n",
              "      <td>Kinder|\"ferngesteuert\"|\"Kinder ferngesteuert\"|...</td>\n",
              "      <td>797196</td>\n",
              "      <td>53576</td>\n",
              "      <td>302</td>\n",
              "      <td>...</td>\n",
              "      <td>https://i.ytimg.com/vi/Bayt7uQith4/default.jpg</td>\n",
              "      <td>False</td>\n",
              "      <td>False</td>\n",
              "      <td>False</td>\n",
              "      <td>Kinder ferngesteuert! Kinder lassen sich sooo ...</td>\n",
              "      <td>Nordrhein Westfalen</td>\n",
              "      <td>52.029988</td>\n",
              "      <td>8.530011</td>\n",
              "      <td>POINT (8.530011351000001 52.02998822)</td>\n",
              "      <td>Comedy</td>\n",
              "    </tr>\n",
              "    <tr>\n",
              "      <th>2</th>\n",
              "      <td>1ZAPwfrtAFY</td>\n",
              "      <td>17.14.11</td>\n",
              "      <td>The Trump Presidency: Last Week Tonight with J...</td>\n",
              "      <td>LastWeekTonight</td>\n",
              "      <td>24</td>\n",
              "      <td>2017-11-13T07:30:00.000Z</td>\n",
              "      <td>last week tonight trump presidency|\"last week ...</td>\n",
              "      <td>2418783</td>\n",
              "      <td>97190</td>\n",
              "      <td>6146</td>\n",
              "      <td>...</td>\n",
              "      <td>https://i.ytimg.com/vi/1ZAPwfrtAFY/default.jpg</td>\n",
              "      <td>False</td>\n",
              "      <td>False</td>\n",
              "      <td>False</td>\n",
              "      <td>One year after the presidential election, John...</td>\n",
              "      <td>Saarland</td>\n",
              "      <td>49.250390</td>\n",
              "      <td>6.970003</td>\n",
              "      <td>POINT (6.970003213 49.25039044)</td>\n",
              "      <td>Entertainment</td>\n",
              "    </tr>\n",
              "    <tr>\n",
              "      <th>3</th>\n",
              "      <td>AHtypnRk7JE</td>\n",
              "      <td>17.14.11</td>\n",
              "      <td>Das Fermi-Paradoxon</td>\n",
              "      <td>100SekundenPhysik</td>\n",
              "      <td>27</td>\n",
              "      <td>2017-11-12T15:00:01.000Z</td>\n",
              "      <td>Physik|\"Wissenschaft\"|\"Technik\"|\"Science-Ficti...</td>\n",
              "      <td>380247</td>\n",
              "      <td>31821</td>\n",
              "      <td>458</td>\n",
              "      <td>...</td>\n",
              "      <td>https://i.ytimg.com/vi/AHtypnRk7JE/default.jpg</td>\n",
              "      <td>False</td>\n",
              "      <td>False</td>\n",
              "      <td>False</td>\n",
              "      <td>►Alle Videos: http://bit.ly/1fa7Tw3\\n\\n\\n✚Snap...</td>\n",
              "      <td>Bayern</td>\n",
              "      <td>50.266607</td>\n",
              "      <td>10.966607</td>\n",
              "      <td>POINT (10.96660681 50.26660748)</td>\n",
              "      <td>Education</td>\n",
              "    </tr>\n",
              "    <tr>\n",
              "      <th>4</th>\n",
              "      <td>ZJ9We4bjcg0</td>\n",
              "      <td>17.14.11</td>\n",
              "      <td>18 SONGS mit Kelly MissesVlog (Sing-off)</td>\n",
              "      <td>rezo</td>\n",
              "      <td>24</td>\n",
              "      <td>2017-11-12T13:10:36.000Z</td>\n",
              "      <td>kelly|\"missesvlog\"|\"kelly song\"|\"bausa\"|\"bausa...</td>\n",
              "      <td>822213</td>\n",
              "      <td>100684</td>\n",
              "      <td>2467</td>\n",
              "      <td>...</td>\n",
              "      <td>https://i.ytimg.com/vi/ZJ9We4bjcg0/default.jpg</td>\n",
              "      <td>False</td>\n",
              "      <td>False</td>\n",
              "      <td>False</td>\n",
              "      <td>18 Song Mashup über den (veränderten) Beat von...</td>\n",
              "      <td>Berlin</td>\n",
              "      <td>52.521819</td>\n",
              "      <td>13.401549</td>\n",
              "      <td>POINT (13.40154862 52.52181866)</td>\n",
              "      <td>Entertainment</td>\n",
              "    </tr>\n",
              "  </tbody>\n",
              "</table>\n",
              "<p>5 rows × 21 columns</p>\n",
              "</div>\n",
              "      <button class=\"colab-df-convert\" onclick=\"convertToInteractive('df-e41ec4e0-1691-4dd3-acec-2ea8ef63ed70')\"\n",
              "              title=\"Convert this dataframe to an interactive table.\"\n",
              "              style=\"display:none;\">\n",
              "        \n",
              "  <svg xmlns=\"http://www.w3.org/2000/svg\" height=\"24px\"viewBox=\"0 0 24 24\"\n",
              "       width=\"24px\">\n",
              "    <path d=\"M0 0h24v24H0V0z\" fill=\"none\"/>\n",
              "    <path d=\"M18.56 5.44l.94 2.06.94-2.06 2.06-.94-2.06-.94-.94-2.06-.94 2.06-2.06.94zm-11 1L8.5 8.5l.94-2.06 2.06-.94-2.06-.94L8.5 2.5l-.94 2.06-2.06.94zm10 10l.94 2.06.94-2.06 2.06-.94-2.06-.94-.94-2.06-.94 2.06-2.06.94z\"/><path d=\"M17.41 7.96l-1.37-1.37c-.4-.4-.92-.59-1.43-.59-.52 0-1.04.2-1.43.59L10.3 9.45l-7.72 7.72c-.78.78-.78 2.05 0 2.83L4 21.41c.39.39.9.59 1.41.59.51 0 1.02-.2 1.41-.59l7.78-7.78 2.81-2.81c.8-.78.8-2.07 0-2.86zM5.41 20L4 18.59l7.72-7.72 1.47 1.35L5.41 20z\"/>\n",
              "  </svg>\n",
              "      </button>\n",
              "      \n",
              "  <style>\n",
              "    .colab-df-container {\n",
              "      display:flex;\n",
              "      flex-wrap:wrap;\n",
              "      gap: 12px;\n",
              "    }\n",
              "\n",
              "    .colab-df-convert {\n",
              "      background-color: #E8F0FE;\n",
              "      border: none;\n",
              "      border-radius: 50%;\n",
              "      cursor: pointer;\n",
              "      display: none;\n",
              "      fill: #1967D2;\n",
              "      height: 32px;\n",
              "      padding: 0 0 0 0;\n",
              "      width: 32px;\n",
              "    }\n",
              "\n",
              "    .colab-df-convert:hover {\n",
              "      background-color: #E2EBFA;\n",
              "      box-shadow: 0px 1px 2px rgba(60, 64, 67, 0.3), 0px 1px 3px 1px rgba(60, 64, 67, 0.15);\n",
              "      fill: #174EA6;\n",
              "    }\n",
              "\n",
              "    [theme=dark] .colab-df-convert {\n",
              "      background-color: #3B4455;\n",
              "      fill: #D2E3FC;\n",
              "    }\n",
              "\n",
              "    [theme=dark] .colab-df-convert:hover {\n",
              "      background-color: #434B5C;\n",
              "      box-shadow: 0px 1px 3px 1px rgba(0, 0, 0, 0.15);\n",
              "      filter: drop-shadow(0px 1px 2px rgba(0, 0, 0, 0.3));\n",
              "      fill: #FFFFFF;\n",
              "    }\n",
              "  </style>\n",
              "\n",
              "      <script>\n",
              "        const buttonEl =\n",
              "          document.querySelector('#df-e41ec4e0-1691-4dd3-acec-2ea8ef63ed70 button.colab-df-convert');\n",
              "        buttonEl.style.display =\n",
              "          google.colab.kernel.accessAllowed ? 'block' : 'none';\n",
              "\n",
              "        async function convertToInteractive(key) {\n",
              "          const element = document.querySelector('#df-e41ec4e0-1691-4dd3-acec-2ea8ef63ed70');\n",
              "          const dataTable =\n",
              "            await google.colab.kernel.invokeFunction('convertToInteractive',\n",
              "                                                     [key], {});\n",
              "          if (!dataTable) return;\n",
              "\n",
              "          const docLinkHtml = 'Like what you see? Visit the ' +\n",
              "            '<a target=\"_blank\" href=https://colab.research.google.com/notebooks/data_table.ipynb>data table notebook</a>'\n",
              "            + ' to learn more about interactive tables.';\n",
              "          element.innerHTML = '';\n",
              "          dataTable['output_type'] = 'display_data';\n",
              "          await google.colab.output.renderOutput(dataTable, element);\n",
              "          const docLink = document.createElement('div');\n",
              "          docLink.innerHTML = docLinkHtml;\n",
              "          element.appendChild(docLink);\n",
              "        }\n",
              "      </script>\n",
              "    </div>\n",
              "  </div>\n",
              "  "
            ]
          },
          "metadata": {},
          "execution_count": 123
        }
      ]
    },
    {
      "cell_type": "markdown",
      "source": [
        "##Cambiando tipo de dato de las fechas"
      ],
      "metadata": {
        "id": "R_STMJiwAujU"
      }
    },
    {
      "cell_type": "code",
      "source": [
        "#Cambiando los formatos de las fechas\n",
        "ds['trending_date'] = pd.to_datetime(ds['trending_date'], format='%y.%d.%m')\n",
        "ds['publish_time'] = pd.to_datetime(ds['publish_time'], infer_datetime_format=True)"
      ],
      "metadata": {
        "id": "Q4oe3vSkOlEz"
      },
      "execution_count": 124,
      "outputs": []
    },
    {
      "cell_type": "code",
      "source": [
        "ds.info()"
      ],
      "metadata": {
        "colab": {
          "base_uri": "https://localhost:8080/"
        },
        "id": "bIOW8S2NA4dX",
        "outputId": "ebbcf37e-e30a-4776-bdf4-555ef0ec7d31"
      },
      "execution_count": 125,
      "outputs": [
        {
          "output_type": "stream",
          "name": "stdout",
          "text": [
            "<class 'pandas.core.frame.DataFrame'>\n",
            "RangeIndex: 40840 entries, 0 to 40839\n",
            "Data columns (total 21 columns):\n",
            " #   Column                  Non-Null Count  Dtype              \n",
            "---  ------                  --------------  -----              \n",
            " 0   video_id                40840 non-null  object             \n",
            " 1   trending_date           40840 non-null  datetime64[ns]     \n",
            " 2   title                   40840 non-null  object             \n",
            " 3   channel_title           40840 non-null  object             \n",
            " 4   category_id             40840 non-null  int64              \n",
            " 5   publish_time            40840 non-null  datetime64[ns, UTC]\n",
            " 6   tags                    40840 non-null  object             \n",
            " 7   views                   40840 non-null  int64              \n",
            " 8   likes                   40840 non-null  int64              \n",
            " 9   dislikes                40840 non-null  int64              \n",
            " 10  comment_count           40840 non-null  int64              \n",
            " 11  thumbnail_link          40840 non-null  object             \n",
            " 12  comments_disabled       40840 non-null  bool               \n",
            " 13  ratings_disabled        40840 non-null  bool               \n",
            " 14  video_error_or_removed  40840 non-null  bool               \n",
            " 15  description             39288 non-null  object             \n",
            " 16  state                   40840 non-null  object             \n",
            " 17  lat                     40840 non-null  float64            \n",
            " 18  lon                     40840 non-null  float64            \n",
            " 19  geometry                40840 non-null  object             \n",
            " 20  category_title          40840 non-null  object             \n",
            "dtypes: bool(3), datetime64[ns, UTC](1), datetime64[ns](1), float64(2), int64(5), object(9)\n",
            "memory usage: 5.7+ MB\n"
          ]
        }
      ]
    },
    {
      "cell_type": "markdown",
      "source": [
        "##Cambiando datos atípicos y faltantes"
      ],
      "metadata": {
        "id": "ijhxdZUBA8Gr"
      }
    },
    {
      "cell_type": "markdown",
      "source": [
        "Vemos cuantos valores faltantes tiene el dataset"
      ],
      "metadata": {
        "id": "D2rN6u8tMddV"
      }
    },
    {
      "cell_type": "code",
      "source": [
        "ds.isnull().sum()"
      ],
      "metadata": {
        "colab": {
          "base_uri": "https://localhost:8080/"
        },
        "id": "6D4QxykDMchj",
        "outputId": "c50a1fae-eeab-4c81-d5cf-c393a98e6679"
      },
      "execution_count": 126,
      "outputs": [
        {
          "output_type": "execute_result",
          "data": {
            "text/plain": [
              "video_id                     0\n",
              "trending_date                0\n",
              "title                        0\n",
              "channel_title                0\n",
              "category_id                  0\n",
              "publish_time                 0\n",
              "tags                         0\n",
              "views                        0\n",
              "likes                        0\n",
              "dislikes                     0\n",
              "comment_count                0\n",
              "thumbnail_link               0\n",
              "comments_disabled            0\n",
              "ratings_disabled             0\n",
              "video_error_or_removed       0\n",
              "description               1552\n",
              "state                        0\n",
              "lat                          0\n",
              "lon                          0\n",
              "geometry                     0\n",
              "category_title               0\n",
              "dtype: int64"
            ]
          },
          "metadata": {},
          "execution_count": 126
        }
      ]
    },
    {
      "cell_type": "markdown",
      "source": [
        "Llenamos la descripción con el video_id y el título de la categoría"
      ],
      "metadata": {
        "id": "agG4KAXpQPdF"
      }
    },
    {
      "cell_type": "code",
      "source": [
        "ds['description'].fillna('Video_id:' + ds['video_id'] +' Category: ' + ds['category_title'], inplace = True)"
      ],
      "metadata": {
        "id": "2rQcAHp8Mkft"
      },
      "execution_count": 127,
      "outputs": []
    },
    {
      "cell_type": "code",
      "source": [
        "ds.isnull().sum()"
      ],
      "metadata": {
        "colab": {
          "base_uri": "https://localhost:8080/"
        },
        "id": "jFSY2SIwMk4q",
        "outputId": "3d2b67d4-dc7d-461f-955e-64cc152a9b76"
      },
      "execution_count": 128,
      "outputs": [
        {
          "output_type": "execute_result",
          "data": {
            "text/plain": [
              "video_id                  0\n",
              "trending_date             0\n",
              "title                     0\n",
              "channel_title             0\n",
              "category_id               0\n",
              "publish_time              0\n",
              "tags                      0\n",
              "views                     0\n",
              "likes                     0\n",
              "dislikes                  0\n",
              "comment_count             0\n",
              "thumbnail_link            0\n",
              "comments_disabled         0\n",
              "ratings_disabled          0\n",
              "video_error_or_removed    0\n",
              "description               0\n",
              "state                     0\n",
              "lat                       0\n",
              "lon                       0\n",
              "geometry                  0\n",
              "category_title            0\n",
              "dtype: int64"
            ]
          },
          "metadata": {},
          "execution_count": 128
        }
      ]
    },
    {
      "cell_type": "code",
      "source": [
        "ds.describe()[['views','likes','dislikes','comment_count']]"
      ],
      "metadata": {
        "colab": {
          "base_uri": "https://localhost:8080/",
          "height": 300
        },
        "id": "RfEJ9R3cZ6IT",
        "outputId": "0a41561f-6217-4346-dfc0-bec280477058"
      },
      "execution_count": 129,
      "outputs": [
        {
          "output_type": "execute_result",
          "data": {
            "text/plain": [
              "              views         likes      dislikes  comment_count\n",
              "count  4.084000e+04  4.084000e+04  4.084000e+04   4.084000e+04\n",
              "mean   6.034553e+05  2.187550e+04  1.397136e+03   2.785857e+03\n",
              "std    2.348963e+06  1.018000e+05  1.457738e+04   1.745803e+04\n",
              "min    5.180000e+02  0.000000e+00  0.000000e+00   0.000000e+00\n",
              "25%    2.706875e+04  5.330000e+02  2.900000e+01   7.900000e+01\n",
              "50%    1.192770e+05  2.699000e+03  1.340000e+02   3.760000e+02\n",
              "75%    4.431015e+05  1.179625e+04  5.320000e+02   1.376000e+03\n",
              "max    1.138762e+08  4.924056e+06  1.470386e+06   1.084435e+06"
            ],
            "text/html": [
              "\n",
              "  <div id=\"df-f9aa9e7a-6f4e-42c8-b00a-5baaa7d37438\">\n",
              "    <div class=\"colab-df-container\">\n",
              "      <div>\n",
              "<style scoped>\n",
              "    .dataframe tbody tr th:only-of-type {\n",
              "        vertical-align: middle;\n",
              "    }\n",
              "\n",
              "    .dataframe tbody tr th {\n",
              "        vertical-align: top;\n",
              "    }\n",
              "\n",
              "    .dataframe thead th {\n",
              "        text-align: right;\n",
              "    }\n",
              "</style>\n",
              "<table border=\"1\" class=\"dataframe\">\n",
              "  <thead>\n",
              "    <tr style=\"text-align: right;\">\n",
              "      <th></th>\n",
              "      <th>views</th>\n",
              "      <th>likes</th>\n",
              "      <th>dislikes</th>\n",
              "      <th>comment_count</th>\n",
              "    </tr>\n",
              "  </thead>\n",
              "  <tbody>\n",
              "    <tr>\n",
              "      <th>count</th>\n",
              "      <td>4.084000e+04</td>\n",
              "      <td>4.084000e+04</td>\n",
              "      <td>4.084000e+04</td>\n",
              "      <td>4.084000e+04</td>\n",
              "    </tr>\n",
              "    <tr>\n",
              "      <th>mean</th>\n",
              "      <td>6.034553e+05</td>\n",
              "      <td>2.187550e+04</td>\n",
              "      <td>1.397136e+03</td>\n",
              "      <td>2.785857e+03</td>\n",
              "    </tr>\n",
              "    <tr>\n",
              "      <th>std</th>\n",
              "      <td>2.348963e+06</td>\n",
              "      <td>1.018000e+05</td>\n",
              "      <td>1.457738e+04</td>\n",
              "      <td>1.745803e+04</td>\n",
              "    </tr>\n",
              "    <tr>\n",
              "      <th>min</th>\n",
              "      <td>5.180000e+02</td>\n",
              "      <td>0.000000e+00</td>\n",
              "      <td>0.000000e+00</td>\n",
              "      <td>0.000000e+00</td>\n",
              "    </tr>\n",
              "    <tr>\n",
              "      <th>25%</th>\n",
              "      <td>2.706875e+04</td>\n",
              "      <td>5.330000e+02</td>\n",
              "      <td>2.900000e+01</td>\n",
              "      <td>7.900000e+01</td>\n",
              "    </tr>\n",
              "    <tr>\n",
              "      <th>50%</th>\n",
              "      <td>1.192770e+05</td>\n",
              "      <td>2.699000e+03</td>\n",
              "      <td>1.340000e+02</td>\n",
              "      <td>3.760000e+02</td>\n",
              "    </tr>\n",
              "    <tr>\n",
              "      <th>75%</th>\n",
              "      <td>4.431015e+05</td>\n",
              "      <td>1.179625e+04</td>\n",
              "      <td>5.320000e+02</td>\n",
              "      <td>1.376000e+03</td>\n",
              "    </tr>\n",
              "    <tr>\n",
              "      <th>max</th>\n",
              "      <td>1.138762e+08</td>\n",
              "      <td>4.924056e+06</td>\n",
              "      <td>1.470386e+06</td>\n",
              "      <td>1.084435e+06</td>\n",
              "    </tr>\n",
              "  </tbody>\n",
              "</table>\n",
              "</div>\n",
              "      <button class=\"colab-df-convert\" onclick=\"convertToInteractive('df-f9aa9e7a-6f4e-42c8-b00a-5baaa7d37438')\"\n",
              "              title=\"Convert this dataframe to an interactive table.\"\n",
              "              style=\"display:none;\">\n",
              "        \n",
              "  <svg xmlns=\"http://www.w3.org/2000/svg\" height=\"24px\"viewBox=\"0 0 24 24\"\n",
              "       width=\"24px\">\n",
              "    <path d=\"M0 0h24v24H0V0z\" fill=\"none\"/>\n",
              "    <path d=\"M18.56 5.44l.94 2.06.94-2.06 2.06-.94-2.06-.94-.94-2.06-.94 2.06-2.06.94zm-11 1L8.5 8.5l.94-2.06 2.06-.94-2.06-.94L8.5 2.5l-.94 2.06-2.06.94zm10 10l.94 2.06.94-2.06 2.06-.94-2.06-.94-.94-2.06-.94 2.06-2.06.94z\"/><path d=\"M17.41 7.96l-1.37-1.37c-.4-.4-.92-.59-1.43-.59-.52 0-1.04.2-1.43.59L10.3 9.45l-7.72 7.72c-.78.78-.78 2.05 0 2.83L4 21.41c.39.39.9.59 1.41.59.51 0 1.02-.2 1.41-.59l7.78-7.78 2.81-2.81c.8-.78.8-2.07 0-2.86zM5.41 20L4 18.59l7.72-7.72 1.47 1.35L5.41 20z\"/>\n",
              "  </svg>\n",
              "      </button>\n",
              "      \n",
              "  <style>\n",
              "    .colab-df-container {\n",
              "      display:flex;\n",
              "      flex-wrap:wrap;\n",
              "      gap: 12px;\n",
              "    }\n",
              "\n",
              "    .colab-df-convert {\n",
              "      background-color: #E8F0FE;\n",
              "      border: none;\n",
              "      border-radius: 50%;\n",
              "      cursor: pointer;\n",
              "      display: none;\n",
              "      fill: #1967D2;\n",
              "      height: 32px;\n",
              "      padding: 0 0 0 0;\n",
              "      width: 32px;\n",
              "    }\n",
              "\n",
              "    .colab-df-convert:hover {\n",
              "      background-color: #E2EBFA;\n",
              "      box-shadow: 0px 1px 2px rgba(60, 64, 67, 0.3), 0px 1px 3px 1px rgba(60, 64, 67, 0.15);\n",
              "      fill: #174EA6;\n",
              "    }\n",
              "\n",
              "    [theme=dark] .colab-df-convert {\n",
              "      background-color: #3B4455;\n",
              "      fill: #D2E3FC;\n",
              "    }\n",
              "\n",
              "    [theme=dark] .colab-df-convert:hover {\n",
              "      background-color: #434B5C;\n",
              "      box-shadow: 0px 1px 3px 1px rgba(0, 0, 0, 0.15);\n",
              "      filter: drop-shadow(0px 1px 2px rgba(0, 0, 0, 0.3));\n",
              "      fill: #FFFFFF;\n",
              "    }\n",
              "  </style>\n",
              "\n",
              "      <script>\n",
              "        const buttonEl =\n",
              "          document.querySelector('#df-f9aa9e7a-6f4e-42c8-b00a-5baaa7d37438 button.colab-df-convert');\n",
              "        buttonEl.style.display =\n",
              "          google.colab.kernel.accessAllowed ? 'block' : 'none';\n",
              "\n",
              "        async function convertToInteractive(key) {\n",
              "          const element = document.querySelector('#df-f9aa9e7a-6f4e-42c8-b00a-5baaa7d37438');\n",
              "          const dataTable =\n",
              "            await google.colab.kernel.invokeFunction('convertToInteractive',\n",
              "                                                     [key], {});\n",
              "          if (!dataTable) return;\n",
              "\n",
              "          const docLinkHtml = 'Like what you see? Visit the ' +\n",
              "            '<a target=\"_blank\" href=https://colab.research.google.com/notebooks/data_table.ipynb>data table notebook</a>'\n",
              "            + ' to learn more about interactive tables.';\n",
              "          element.innerHTML = '';\n",
              "          dataTable['output_type'] = 'display_data';\n",
              "          await google.colab.output.renderOutput(dataTable, element);\n",
              "          const docLink = document.createElement('div');\n",
              "          docLink.innerHTML = docLinkHtml;\n",
              "          element.appendChild(docLink);\n",
              "        }\n",
              "      </script>\n",
              "    </div>\n",
              "  </div>\n",
              "  "
            ]
          },
          "metadata": {},
          "execution_count": 129
        }
      ]
    },
    {
      "cell_type": "markdown",
      "source": [
        "Se observa que se cuenta con valores atípicos en estas 4 columnas del dataset"
      ],
      "metadata": {
        "id": "B5_bW2rgE_SG"
      }
    },
    {
      "cell_type": "code",
      "source": [
        "labels =['likes', 'dislikes', 'views', 'comment_count']\n",
        "fig= plt.figure()\n",
        "fig.suptitle('Distribución de los Datos')\n",
        "ax = fig.add_subplot(111)\n",
        "ax.set_ylabel('Cantidad')\n",
        "ax.boxplot(x=[ds['likes'], ds['dislikes'], ds['views'], ds['comment_count']],labels=labels)"
      ],
      "metadata": {
        "colab": {
          "base_uri": "https://localhost:8080/",
          "height": 798
        },
        "id": "qz8Lzc5VE4Hj",
        "outputId": "811e843e-5d1e-4dc4-daf5-38f886885e2e"
      },
      "execution_count": 130,
      "outputs": [
        {
          "output_type": "execute_result",
          "data": {
            "text/plain": [
              "{'boxes': [<matplotlib.lines.Line2D at 0x7f4e93bcce50>,\n",
              "  <matplotlib.lines.Line2D at 0x7f4e93d1e4d0>,\n",
              "  <matplotlib.lines.Line2D at 0x7f4e93c559d0>,\n",
              "  <matplotlib.lines.Line2D at 0x7f4e93ac7f90>],\n",
              " 'caps': [<matplotlib.lines.Line2D at 0x7f4e93bbeed0>,\n",
              "  <matplotlib.lines.Line2D at 0x7f4e93d07450>,\n",
              "  <matplotlib.lines.Line2D at 0x7f4e93c66490>,\n",
              "  <matplotlib.lines.Line2D at 0x7f4e93c669d0>,\n",
              "  <matplotlib.lines.Line2D at 0x7f4e93aeea10>,\n",
              "  <matplotlib.lines.Line2D at 0x7f4e93aeef90>,\n",
              "  <matplotlib.lines.Line2D at 0x7f4e93b53f90>,\n",
              "  <matplotlib.lines.Line2D at 0x7f4e93b4d510>],\n",
              " 'fliers': [<matplotlib.lines.Line2D at 0x7f4e93d07f10>,\n",
              "  <matplotlib.lines.Line2D at 0x7f4e93c55490>,\n",
              "  <matplotlib.lines.Line2D at 0x7f4e93ac7a50>,\n",
              "  <matplotlib.lines.Line2D at 0x7f4e93b4df90>],\n",
              " 'means': [],\n",
              " 'medians': [<matplotlib.lines.Line2D at 0x7f4e93d079d0>,\n",
              "  <matplotlib.lines.Line2D at 0x7f4e93c66f10>,\n",
              "  <matplotlib.lines.Line2D at 0x7f4e93ac7510>,\n",
              "  <matplotlib.lines.Line2D at 0x7f4e93b4da50>],\n",
              " 'whiskers': [<matplotlib.lines.Line2D at 0x7f4e93bbe450>,\n",
              "  <matplotlib.lines.Line2D at 0x7f4e93bbe990>,\n",
              "  <matplotlib.lines.Line2D at 0x7f4e93d1ea10>,\n",
              "  <matplotlib.lines.Line2D at 0x7f4e93d1ef10>,\n",
              "  <matplotlib.lines.Line2D at 0x7f4e93c55f10>,\n",
              "  <matplotlib.lines.Line2D at 0x7f4e93aee4d0>,\n",
              "  <matplotlib.lines.Line2D at 0x7f4e93b53510>,\n",
              "  <matplotlib.lines.Line2D at 0x7f4e93b53a50>]}"
            ]
          },
          "metadata": {},
          "execution_count": 130
        },
        {
          "output_type": "display_data",
          "data": {
            "text/plain": [
              "<Figure size 432x288 with 1 Axes>"
            ],
            "image/png": "[encoded data removed]"
          },
          "metadata": {
            "needs_background": "light"
          }
        }
      ]
    },
    {
      "cell_type": "markdown",
      "source": [
        "Creamos una función que encuentra los valores atípicos y los cambia por la media"
      ],
      "metadata": {
        "id": "nxucdfPiBJdC"
      }
    },
    {
      "cell_type": "code",
      "source": [
        "def impute_outliers_IQR(df):\n",
        "   q1=df.quantile(0.25)\n",
        "   q3=df.quantile(0.75)\n",
        "   IQR=q3-q1\n",
        "   upper = df[~(df>(q3+1.5*IQR))].max()\n",
        "   lower = df[~(df<(q1-1.5*IQR))].min()\n",
        "   df = np.where(df > upper,\n",
        "       int(df.mean()),\n",
        "       np.where(\n",
        "           df < lower,\n",
        "           int(df.mean()), #Deben ser números enteros\n",
        "           df\n",
        "           )\n",
        "       )\n",
        "   return df"
      ],
      "metadata": {
        "id": "ADwRa8bABJPA"
      },
      "execution_count": 131,
      "outputs": []
    },
    {
      "cell_type": "code",
      "source": [
        "ds['likes'] = impute_outliers_IQR(ds['likes'])\n",
        "ds['dislikes'] = impute_outliers_IQR(ds['dislikes'])\n",
        "ds['views'] = impute_outliers_IQR(ds['views'])\n",
        "ds['comment_count'] = impute_outliers_IQR(ds['comment_count'])"
      ],
      "metadata": {
        "id": "4dT0EjcYBvZf"
      },
      "execution_count": 132,
      "outputs": []
    },
    {
      "cell_type": "code",
      "source": [
        "ds['dislikes'].describe()"
      ],
      "metadata": {
        "colab": {
          "base_uri": "https://localhost:8080/"
        },
        "id": "JRFgAbvVEIUR",
        "outputId": "01c1123c-2138-413a-fd40-6c68126bbd3b"
      },
      "execution_count": 133,
      "outputs": [
        {
          "output_type": "execute_result",
          "data": {
            "text/plain": [
              "count    40840.000000\n",
              "mean       376.080460\n",
              "std        482.302883\n",
              "min          0.000000\n",
              "25%         29.000000\n",
              "50%        134.000000\n",
              "75%        532.000000\n",
              "max       1397.000000\n",
              "Name: dislikes, dtype: float64"
            ]
          },
          "metadata": {},
          "execution_count": 133
        }
      ]
    },
    {
      "cell_type": "code",
      "source": [
        "ds['comment_count'].describe()"
      ],
      "metadata": {
        "colab": {
          "base_uri": "https://localhost:8080/"
        },
        "id": "NeDaQlByEOxC",
        "outputId": "86414ad5-24da-43b5-acd4-f8e82c646410"
      },
      "execution_count": 134,
      "outputs": [
        {
          "output_type": "execute_result",
          "data": {
            "text/plain": [
              "count    40840.000000\n",
              "mean       867.571841\n",
              "std       1011.406669\n",
              "min          0.000000\n",
              "25%         79.000000\n",
              "50%        376.000000\n",
              "75%       1376.000000\n",
              "max       3320.000000\n",
              "Name: comment_count, dtype: float64"
            ]
          },
          "metadata": {},
          "execution_count": 134
        }
      ]
    },
    {
      "cell_type": "markdown",
      "source": [
        "Box plot donde se observa que los valores atípicos han desaparecido"
      ],
      "metadata": {
        "id": "GivtRSB5EtFC"
      }
    },
    {
      "cell_type": "code",
      "source": [
        "fig= plt.figure()\n",
        "fig.suptitle('Distribución de los likes')\n",
        "ax = fig.add_subplot(111)\n",
        "ax.set_ylabel('Cantidad')\n",
        "ax.boxplot(x=[ds['likes']],labels=[labels[0]])"
      ],
      "metadata": {
        "colab": {
          "base_uri": "https://localhost:8080/",
          "height": 433
        },
        "id": "ytEZ1PUY4-pQ",
        "outputId": "dff4dbdc-e507-41f1-9f13-1b9b623abc2d"
      },
      "execution_count": 135,
      "outputs": [
        {
          "output_type": "execute_result",
          "data": {
            "text/plain": [
              "{'boxes': [<matplotlib.lines.Line2D at 0x7f4e93b85910>],\n",
              " 'caps': [<matplotlib.lines.Line2D at 0x7f4e93b7a990>,\n",
              "  <matplotlib.lines.Line2D at 0x7f4e93b7aed0>],\n",
              " 'fliers': [<matplotlib.lines.Line2D at 0x7f4e93a209d0>],\n",
              " 'means': [],\n",
              " 'medians': [<matplotlib.lines.Line2D at 0x7f4e93a20490>],\n",
              " 'whiskers': [<matplotlib.lines.Line2D at 0x7f4e93b85ed0>,\n",
              "  <matplotlib.lines.Line2D at 0x7f4e93b7a450>]}"
            ]
          },
          "metadata": {},
          "execution_count": 135
        },
        {
          "output_type": "display_data",
          "data": {
            "text/plain": [
              "<Figure size 432x288 with 1 Axes>"
            ],
            "image/png": "[encoded data removed]"
          },
          "metadata": {
            "needs_background": "light"
          }
        }
      ]
    },
    {
      "cell_type": "code",
      "source": [
        "fig= plt.figure()\n",
        "fig.suptitle('Distribución de los dislikes')\n",
        "ax = fig.add_subplot(111)\n",
        "ax.set_ylabel('Cantidad')\n",
        "ax.boxplot(x=[ds['dislikes']],labels=[labels[1]])"
      ],
      "metadata": {
        "colab": {
          "base_uri": "https://localhost:8080/",
          "height": 433
        },
        "id": "y84ITO0y6yAE",
        "outputId": "27de1367-d14a-498c-e703-8959a09927e6"
      },
      "execution_count": 136,
      "outputs": [
        {
          "output_type": "execute_result",
          "data": {
            "text/plain": [
              "{'boxes': [<matplotlib.lines.Line2D at 0x7f4e93610690>],\n",
              " 'caps': [<matplotlib.lines.Line2D at 0x7f4e93617c50>,\n",
              "  <matplotlib.lines.Line2D at 0x7f4e9361c1d0>],\n",
              " 'fliers': [<matplotlib.lines.Line2D at 0x7f4e9361cc90>],\n",
              " 'means': [],\n",
              " 'medians': [<matplotlib.lines.Line2D at 0x7f4e9361c750>],\n",
              " 'whiskers': [<matplotlib.lines.Line2D at 0x7f4e936171d0>,\n",
              "  <matplotlib.lines.Line2D at 0x7f4e93617710>]}"
            ]
          },
          "metadata": {},
          "execution_count": 136
        },
        {
          "output_type": "display_data",
          "data": {
            "text/plain": [
              "<Figure size 432x288 with 1 Axes>"
            ],
            "image/png": "[encoded data removed]"
          },
          "metadata": {
            "needs_background": "light"
          }
        }
      ]
    },
    {
      "cell_type": "code",
      "source": [
        "fig= plt.figure()\n",
        "fig.suptitle('Distribución de los views')\n",
        "ax = fig.add_subplot(111)\n",
        "ax.set_ylabel('Cantidad')\n",
        "ax.boxplot(x=[ds['views']],labels=[labels[2]])"
      ],
      "metadata": {
        "colab": {
          "base_uri": "https://localhost:8080/",
          "height": 433
        },
        "id": "4v7y0N0j7hnp",
        "outputId": "a34cf58b-2f8f-49df-f78b-3c303b0706ae"
      },
      "execution_count": 137,
      "outputs": [
        {
          "output_type": "execute_result",
          "data": {
            "text/plain": [
              "{'boxes': [<matplotlib.lines.Line2D at 0x7f4e93975710>],\n",
              " 'caps': [<matplotlib.lines.Line2D at 0x7f4e9397a790>,\n",
              "  <matplotlib.lines.Line2D at 0x7f4e9397acd0>],\n",
              " 'fliers': [<matplotlib.lines.Line2D at 0x7f4e939807d0>],\n",
              " 'means': [],\n",
              " 'medians': [<matplotlib.lines.Line2D at 0x7f4e93980290>],\n",
              " 'whiskers': [<matplotlib.lines.Line2D at 0x7f4e93975cd0>,\n",
              "  <matplotlib.lines.Line2D at 0x7f4e9397a250>]}"
            ]
          },
          "metadata": {},
          "execution_count": 137
        },
        {
          "output_type": "display_data",
          "data": {
            "text/plain": [
              "<Figure size 432x288 with 1 Axes>"
            ],
            "image/png": "[encoded data removed]"
          },
          "metadata": {
            "needs_background": "light"
          }
        }
      ]
    },
    {
      "cell_type": "code",
      "source": [
        "fig= plt.figure()\n",
        "fig.suptitle('Distribución de los comentarios')\n",
        "ax = fig.add_subplot(111)\n",
        "ax.set_ylabel('Cantidad')\n",
        "ax.boxplot(x=[ds['comment_count']],labels=[labels[3]])"
      ],
      "metadata": {
        "colab": {
          "base_uri": "https://localhost:8080/",
          "height": 434
        },
        "id": "VObfNO6a7kIi",
        "outputId": "bf92e7b7-366b-4de2-fbe0-60300b7cf6f4"
      },
      "execution_count": 138,
      "outputs": [
        {
          "output_type": "execute_result",
          "data": {
            "text/plain": [
              "{'boxes': [<matplotlib.lines.Line2D at 0x7f4e939543d0>],\n",
              " 'caps': [<matplotlib.lines.Line2D at 0x7f4e93959450>,\n",
              "  <matplotlib.lines.Line2D at 0x7f4e93959990>],\n",
              " 'fliers': [<matplotlib.lines.Line2D at 0x7f4e9395f490>],\n",
              " 'means': [],\n",
              " 'medians': [<matplotlib.lines.Line2D at 0x7f4e93959f10>],\n",
              " 'whiskers': [<matplotlib.lines.Line2D at 0x7f4e93954990>,\n",
              "  <matplotlib.lines.Line2D at 0x7f4e93954ed0>]}"
            ]
          },
          "metadata": {},
          "execution_count": 138
        },
        {
          "output_type": "display_data",
          "data": {
            "text/plain": [
              "<Figure size 432x288 with 1 Axes>"
            ],
            "image/png": "[encoded data removed]"
          },
          "metadata": {
            "needs_background": "light"
          }
        }
      ]
    },
    {
      "cell_type": "code",
      "source": [
        "ax = plt.boxplot(x=[ds['likes'], ds['dislikes'], ds['views'], ds['comment_count']], labels=labels)"
      ],
      "metadata": {
        "colab": {
          "base_uri": "https://localhost:8080/",
          "height": 277
        },
        "id": "J6g4kEtgC5Kk",
        "outputId": "9073de59-d3ee-430f-cefa-26e6416d542f"
      },
      "execution_count": 139,
      "outputs": [
        {
          "output_type": "display_data",
          "data": {
            "text/plain": [
              "<Figure size 432x288 with 1 Axes>"
            ],
            "image/png": "[encoded data removed]"
          },
          "metadata": {
            "needs_background": "light"
          }
        }
      ]
    },
    {
      "cell_type": "markdown",
      "source": [
        "#3. Procesamiento y visualización"
      ],
      "metadata": {
        "id": "GemHaDEEBJIH"
      }
    },
    {
      "cell_type": "markdown",
      "source": [
        "Para la realización de ciertas preguntas de esta sección se hará uso de\n",
        "un nuevo dataframe creado a partir del ya existente."
      ],
      "metadata": {
        "id": "ma63xz4Rju96"
      }
    },
    {
      "cell_type": "markdown",
      "source": [
        "##Preguntas por categoría de Videos"
      ],
      "metadata": {
        "id": "7wuitjBNC_pm"
      }
    },
    {
      "cell_type": "markdown",
      "source": [
        "###Pregunta 1: ¿Qué categorías de videos son las de mayor tendencia?\n"
      ],
      "metadata": {
        "id": "NujlQOTlw1_M"
      }
    },
    {
      "cell_type": "markdown",
      "source": [
        "Respuesta:\n",
        "Se puede observar, gracias al grafico de barras horizontal, que la categoría Entertainment fue la que más estuvo en trending."
      ],
      "metadata": {
        "id": "q7qUqijB1IeY"
      }
    },
    {
      "cell_type": "code",
      "source": [
        "ax = sns.countplot(y = 'category_title', data = ds)\n",
        "ax.set(ylabel = 'Categoría', xlabel='Cantidad', title='Cantidad de veces que fue trend una categoria')\n",
        "plt.show()"
      ],
      "metadata": {
        "colab": {
          "base_uri": "https://localhost:8080/",
          "height": 295
        },
        "id": "yPT749aQz00O",
        "outputId": "150e3604-1d68-4a32-aa6d-18f1c9ea0110"
      },
      "execution_count": 144,
      "outputs": [
        {
          "output_type": "display_data",
          "data": {
            "text/plain": [
              "<Figure size 432x288 with 1 Axes>"
            ],
            "image/png": "[encoded data removed]"
          },
          "metadata": {
            "needs_background": "light"
          }
        }
      ]
    },
    {
      "cell_type": "markdown",
      "source": [
        "Cantidades exactas  \n",
        "La función value_counts, integrada en pandas, nos muestra una lista detallada\n",
        "y ordenada de forma descendente"
      ],
      "metadata": {
        "id": "1N5ZlwZF9Ooi"
      }
    },
    {
      "cell_type": "code",
      "source": [
        "ds['category_title'].value_counts()"
      ],
      "metadata": {
        "colab": {
          "base_uri": "https://localhost:8080/"
        },
        "id": "50Ty0fRG0KCv",
        "outputId": "38d1d62c-0ee8-42cf-b135-fb63cbcb4c88"
      },
      "execution_count": 142,
      "outputs": [
        {
          "output_type": "execute_result",
          "data": {
            "text/plain": [
              "Entertainment            15292\n",
              "People & Blogs            5988\n",
              "News & Politics           2935\n",
              "Sports                    2752\n",
              "Comedy                    2534\n",
              "Film & Animation          2376\n",
              "Music                     2372\n",
              "Howto & Style             1745\n",
              "Gaming                    1565\n",
              "Autos & Vehicles           873\n",
              "Education                  844\n",
              "Science & Technology       806\n",
              "Nonprofits & Activism      256\n",
              "Pets & Animals             251\n",
              "Travel & Events            141\n",
              "Shows                      107\n",
              "Movies                       2\n",
              "Trailers                     1\n",
              "Name: category_title, dtype: int64"
            ]
          },
          "metadata": {},
          "execution_count": 142
        }
      ]
    },
    {
      "cell_type": "markdown",
      "source": [
        "###Pregunta 2:¿Qué categorías de videos son los que más gustan? ¿Y las que menos gustan?"
      ],
      "metadata": {
        "id": "-DZ9S1e6CCSx"
      }
    },
    {
      "cell_type": "code",
      "source": [
        "titulos_gb = ds.groupby('category_title')"
      ],
      "metadata": {
        "id": "BbJKWxHS1m5p"
      },
      "execution_count": 24,
      "outputs": []
    },
    {
      "cell_type": "code",
      "source": [
        "titulos = ds['category_title'].unique()"
      ],
      "metadata": {
        "id": "AVpeTbFN544j"
      },
      "execution_count": 25,
      "outputs": []
    },
    {
      "cell_type": "code",
      "source": [
        "#ordenamos alfabeticamente\n",
        "titulos=np.sort(titulos)"
      ],
      "metadata": {
        "id": "8bVOZg9g5-dg"
      },
      "execution_count": 26,
      "outputs": []
    },
    {
      "cell_type": "code",
      "source": [
        "#Estos dos array ya se guardan ordenados alfabeticamente.\n",
        "likes = titulos_gb.sum()['likes'].unique()\n",
        "dislikes = titulos_gb.sum()['dislikes'].unique()"
      ],
      "metadata": {
        "id": "3BzX5eYw2krZ"
      },
      "execution_count": 27,
      "outputs": []
    },
    {
      "cell_type": "code",
      "source": [
        "ld = pd.DataFrame()"
      ],
      "metadata": {
        "id": "86YEazW52sQF"
      },
      "execution_count": 28,
      "outputs": []
    },
    {
      "cell_type": "code",
      "source": [
        "#Ordenamos todo en un nuevo dataframe, para facilitar el calculo\n",
        "ld['category_title'] = titulos\n",
        "ld['likes'] = likes\n",
        "ld['dislikes'] = dislikes"
      ],
      "metadata": {
        "id": "iMIwINKz75y5"
      },
      "execution_count": 29,
      "outputs": []
    },
    {
      "cell_type": "markdown",
      "source": [
        "La tabla muestra cantidad de likes y dislikes por categoría"
      ],
      "metadata": {
        "id": "LZ4loj6GCLUr"
      }
    },
    {
      "cell_type": "code",
      "source": [
        "ld"
      ],
      "metadata": {
        "colab": {
          "base_uri": "https://localhost:8080/",
          "height": 614
        },
        "id": "4-HMWgnA8ytk",
        "outputId": "4addde85-2693-4f0e-cb0b-e4d4193d5831"
      },
      "execution_count": 30,
      "outputs": [
        {
          "output_type": "execute_result",
          "data": {
            "text/plain": [
              "           category_title      likes  dislikes\n",
              "0        Autos & Vehicles    5357072    144918\n",
              "1                  Comedy   32744543   1342101\n",
              "2               Education    3229071    146787\n",
              "3           Entertainment  108874006   6104293\n",
              "4        Film & Animation   16913384    860352\n",
              "5                  Gaming   14047339    624146\n",
              "6           Howto & Style    8518180    417930\n",
              "7                  Movies      43902      2180\n",
              "8                   Music   33277605   1772209\n",
              "9         News & Politics    8588593    886577\n",
              "10  Nonprofits & Activism    1552422    112895\n",
              "11         People & Blogs   27644808   1553292\n",
              "12         Pets & Animals    1861775     56753\n",
              "13   Science & Technology    6356849    308288\n",
              "14                  Shows     378819     89643\n",
              "15                 Sports   15726644    908482\n",
              "16               Trailers          0         0\n",
              "17        Travel & Events     748797     28280"
            ],
            "text/html": [
              "\n",
              "  <div id=\"df-53a458b4-7474-408f-a675-c53eb436582a\">\n",
              "    <div class=\"colab-df-container\">\n",
              "      <div>\n",
              "<style scoped>\n",
              "    .dataframe tbody tr th:only-of-type {\n",
              "        vertical-align: middle;\n",
              "    }\n",
              "\n",
              "    .dataframe tbody tr th {\n",
              "        vertical-align: top;\n",
              "    }\n",
              "\n",
              "    .dataframe thead th {\n",
              "        text-align: right;\n",
              "    }\n",
              "</style>\n",
              "<table border=\"1\" class=\"dataframe\">\n",
              "  <thead>\n",
              "    <tr style=\"text-align: right;\">\n",
              "      <th></th>\n",
              "      <th>category_title</th>\n",
              "      <th>likes</th>\n",
              "      <th>dislikes</th>\n",
              "    </tr>\n",
              "  </thead>\n",
              "  <tbody>\n",
              "    <tr>\n",
              "      <th>0</th>\n",
              "      <td>Autos &amp; Vehicles</td>\n",
              "      <td>5357072</td>\n",
              "      <td>144918</td>\n",
              "    </tr>\n",
              "    <tr>\n",
              "      <th>1</th>\n",
              "      <td>Comedy</td>\n",
              "      <td>32744543</td>\n",
              "      <td>1342101</td>\n",
              "    </tr>\n",
              "    <tr>\n",
              "      <th>2</th>\n",
              "      <td>Education</td>\n",
              "      <td>3229071</td>\n",
              "      <td>146787</td>\n",
              "    </tr>\n",
              "    <tr>\n",
              "      <th>3</th>\n",
              "      <td>Entertainment</td>\n",
              "      <td>108874006</td>\n",
              "      <td>6104293</td>\n",
              "    </tr>\n",
              "    <tr>\n",
              "      <th>4</th>\n",
              "      <td>Film &amp; Animation</td>\n",
              "      <td>16913384</td>\n",
              "      <td>860352</td>\n",
              "    </tr>\n",
              "    <tr>\n",
              "      <th>5</th>\n",
              "      <td>Gaming</td>\n",
              "      <td>14047339</td>\n",
              "      <td>624146</td>\n",
              "    </tr>\n",
              "    <tr>\n",
              "      <th>6</th>\n",
              "      <td>Howto &amp; Style</td>\n",
              "      <td>8518180</td>\n",
              "      <td>417930</td>\n",
              "    </tr>\n",
              "    <tr>\n",
              "      <th>7</th>\n",
              "      <td>Movies</td>\n",
              "      <td>43902</td>\n",
              "      <td>2180</td>\n",
              "    </tr>\n",
              "    <tr>\n",
              "      <th>8</th>\n",
              "      <td>Music</td>\n",
              "      <td>33277605</td>\n",
              "      <td>1772209</td>\n",
              "    </tr>\n",
              "    <tr>\n",
              "      <th>9</th>\n",
              "      <td>News &amp; Politics</td>\n",
              "      <td>8588593</td>\n",
              "      <td>886577</td>\n",
              "    </tr>\n",
              "    <tr>\n",
              "      <th>10</th>\n",
              "      <td>Nonprofits &amp; Activism</td>\n",
              "      <td>1552422</td>\n",
              "      <td>112895</td>\n",
              "    </tr>\n",
              "    <tr>\n",
              "      <th>11</th>\n",
              "      <td>People &amp; Blogs</td>\n",
              "      <td>27644808</td>\n",
              "      <td>1553292</td>\n",
              "    </tr>\n",
              "    <tr>\n",
              "      <th>12</th>\n",
              "      <td>Pets &amp; Animals</td>\n",
              "      <td>1861775</td>\n",
              "      <td>56753</td>\n",
              "    </tr>\n",
              "    <tr>\n",
              "      <th>13</th>\n",
              "      <td>Science &amp; Technology</td>\n",
              "      <td>6356849</td>\n",
              "      <td>308288</td>\n",
              "    </tr>\n",
              "    <tr>\n",
              "      <th>14</th>\n",
              "      <td>Shows</td>\n",
              "      <td>378819</td>\n",
              "      <td>89643</td>\n",
              "    </tr>\n",
              "    <tr>\n",
              "      <th>15</th>\n",
              "      <td>Sports</td>\n",
              "      <td>15726644</td>\n",
              "      <td>908482</td>\n",
              "    </tr>\n",
              "    <tr>\n",
              "      <th>16</th>\n",
              "      <td>Trailers</td>\n",
              "      <td>0</td>\n",
              "      <td>0</td>\n",
              "    </tr>\n",
              "    <tr>\n",
              "      <th>17</th>\n",
              "      <td>Travel &amp; Events</td>\n",
              "      <td>748797</td>\n",
              "      <td>28280</td>\n",
              "    </tr>\n",
              "  </tbody>\n",
              "</table>\n",
              "</div>\n",
              "      <button class=\"colab-df-convert\" onclick=\"convertToInteractive('df-53a458b4-7474-408f-a675-c53eb436582a')\"\n",
              "              title=\"Convert this dataframe to an interactive table.\"\n",
              "              style=\"display:none;\">\n",
              "        \n",
              "  <svg xmlns=\"http://www.w3.org/2000/svg\" height=\"24px\"viewBox=\"0 0 24 24\"\n",
              "       width=\"24px\">\n",
              "    <path d=\"M0 0h24v24H0V0z\" fill=\"none\"/>\n",
              "    <path d=\"M18.56 5.44l.94 2.06.94-2.06 2.06-.94-2.06-.94-.94-2.06-.94 2.06-2.06.94zm-11 1L8.5 8.5l.94-2.06 2.06-.94-2.06-.94L8.5 2.5l-.94 2.06-2.06.94zm10 10l.94 2.06.94-2.06 2.06-.94-2.06-.94-.94-2.06-.94 2.06-2.06.94z\"/><path d=\"M17.41 7.96l-1.37-1.37c-.4-.4-.92-.59-1.43-.59-.52 0-1.04.2-1.43.59L10.3 9.45l-7.72 7.72c-.78.78-.78 2.05 0 2.83L4 21.41c.39.39.9.59 1.41.59.51 0 1.02-.2 1.41-.59l7.78-7.78 2.81-2.81c.8-.78.8-2.07 0-2.86zM5.41 20L4 18.59l7.72-7.72 1.47 1.35L5.41 20z\"/>\n",
              "  </svg>\n",
              "      </button>\n",
              "      \n",
              "  <style>\n",
              "    .colab-df-container {\n",
              "      display:flex;\n",
              "      flex-wrap:wrap;\n",
              "      gap: 12px;\n",
              "    }\n",
              "\n",
              "    .colab-df-convert {\n",
              "      background-color: #E8F0FE;\n",
              "      border: none;\n",
              "      border-radius: 50%;\n",
              "      cursor: pointer;\n",
              "      display: none;\n",
              "      fill: #1967D2;\n",
              "      height: 32px;\n",
              "      padding: 0 0 0 0;\n",
              "      width: 32px;\n",
              "    }\n",
              "\n",
              "    .colab-df-convert:hover {\n",
              "      background-color: #E2EBFA;\n",
              "      box-shadow: 0px 1px 2px rgba(60, 64, 67, 0.3), 0px 1px 3px 1px rgba(60, 64, 67, 0.15);\n",
              "      fill: #174EA6;\n",
              "    }\n",
              "\n",
              "    [theme=dark] .colab-df-convert {\n",
              "      background-color: #3B4455;\n",
              "      fill: #D2E3FC;\n",
              "    }\n",
              "\n",
              "    [theme=dark] .colab-df-convert:hover {\n",
              "      background-color: #434B5C;\n",
              "      box-shadow: 0px 1px 3px 1px rgba(0, 0, 0, 0.15);\n",
              "      filter: drop-shadow(0px 1px 2px rgba(0, 0, 0, 0.3));\n",
              "      fill: #FFFFFF;\n",
              "    }\n",
              "  </style>\n",
              "\n",
              "      <script>\n",
              "        const buttonEl =\n",
              "          document.querySelector('#df-53a458b4-7474-408f-a675-c53eb436582a button.colab-df-convert');\n",
              "        buttonEl.style.display =\n",
              "          google.colab.kernel.accessAllowed ? 'block' : 'none';\n",
              "\n",
              "        async function convertToInteractive(key) {\n",
              "          const element = document.querySelector('#df-53a458b4-7474-408f-a675-c53eb436582a');\n",
              "          const dataTable =\n",
              "            await google.colab.kernel.invokeFunction('convertToInteractive',\n",
              "                                                     [key], {});\n",
              "          if (!dataTable) return;\n",
              "\n",
              "          const docLinkHtml = 'Like what you see? Visit the ' +\n",
              "            '<a target=\"_blank\" href=https://colab.research.google.com/notebooks/data_table.ipynb>data table notebook</a>'\n",
              "            + ' to learn more about interactive tables.';\n",
              "          element.innerHTML = '';\n",
              "          dataTable['output_type'] = 'display_data';\n",
              "          await google.colab.output.renderOutput(dataTable, element);\n",
              "          const docLink = document.createElement('div');\n",
              "          docLink.innerHTML = docLinkHtml;\n",
              "          element.appendChild(docLink);\n",
              "        }\n",
              "      </script>\n",
              "    </div>\n",
              "  </div>\n",
              "  "
            ]
          },
          "metadata": {},
          "execution_count": 30
        }
      ]
    },
    {
      "cell_type": "markdown",
      "source": [
        "####Gráficos"
      ],
      "metadata": {
        "id": "FIa-Swn5CPR6"
      }
    },
    {
      "cell_type": "code",
      "source": [
        "#La cantidad de likes se debe multiplicar por 10^8 en el gráfico (se puede\n",
        "#observar abajo a la derecha)\n",
        "ax = sns.barplot(y = 'category_title', x='likes', data = ld)\n",
        "ax.set(ylabel = 'Categoría', xlabel='Cantidad de likes', title='Cantidad de likes por categoria')\n",
        "plt.show()"
      ],
      "metadata": {
        "colab": {
          "base_uri": "https://localhost:8080/",
          "height": 295
        },
        "id": "9O6qvZT98zht",
        "outputId": "e76a29e3-6a85-450d-a98b-dc277775eb1c"
      },
      "execution_count": 31,
      "outputs": [
        {
          "output_type": "display_data",
          "data": {
            "text/plain": [
              "<Figure size 432x288 with 1 Axes>"
            ],
            "image/png": "[encoded data removed]"
          },
          "metadata": {
            "needs_background": "light"
          }
        }
      ]
    },
    {
      "cell_type": "code",
      "source": [
        "#La cantidad de dislikes se debe multiplicar por 10^7 en el gráfico (se puede\n",
        "#observar abajo a la derecha)\n",
        "ax = sns.barplot(y = 'category_title', x='dislikes', data = ld)\n",
        "ax.set(ylabel = 'Categoría', xlabel='Cantidad de dislikes', title='Cantidad de dislikes por categoria')\n",
        "plt.show()"
      ],
      "metadata": {
        "colab": {
          "base_uri": "https://localhost:8080/",
          "height": 295
        },
        "id": "H7j2E9jH_mIB",
        "outputId": "5e55c12c-4c47-4dfb-b99e-73209e49bd7f"
      },
      "execution_count": 32,
      "outputs": [
        {
          "output_type": "display_data",
          "data": {
            "text/plain": [
              "<Figure size 432x288 with 1 Axes>"
            ],
            "image/png": "[encoded data removed]"
          },
          "metadata": {
            "needs_background": "light"
          }
        }
      ]
    },
    {
      "cell_type": "markdown",
      "source": [
        "###Pregunta 3: ¿Qué categorías de videos tienen la mejor proporción (ratio) de “Me gusta” / “No me gusta”?"
      ],
      "metadata": {
        "id": "IRKnV-H-CvcY"
      }
    },
    {
      "cell_type": "code",
      "source": [
        "ld['ratio_like_dislike'] = ld['likes']/ld['dislikes']"
      ],
      "metadata": {
        "id": "2XE2OuGTB8AG"
      },
      "execution_count": 33,
      "outputs": []
    },
    {
      "cell_type": "code",
      "source": [
        "ld.fillna(0, inplace=True)"
      ],
      "metadata": {
        "id": "BAMLkLKzDT71"
      },
      "execution_count": 34,
      "outputs": []
    },
    {
      "cell_type": "code",
      "source": [
        "#Tabla que muestra el ratio de cada categoría\n",
        "ld"
      ],
      "metadata": {
        "colab": {
          "base_uri": "https://localhost:8080/",
          "height": 614
        },
        "id": "9832dmgiDUnS",
        "outputId": "8579937e-9b59-4a66-e9b7-f9d8236e6e55"
      },
      "execution_count": 35,
      "outputs": [
        {
          "output_type": "execute_result",
          "data": {
            "text/plain": [
              "           category_title      likes  dislikes  ratio_like_dislike\n",
              "0        Autos & Vehicles    5357072    144918           36.966229\n",
              "1                  Comedy   32744543   1342101           24.397972\n",
              "2               Education    3229071    146787           21.998345\n",
              "3           Entertainment  108874006   6104293           17.835646\n",
              "4        Film & Animation   16913384    860352           19.658679\n",
              "5                  Gaming   14047339    624146           22.506495\n",
              "6           Howto & Style    8518180    417930           20.381834\n",
              "7                  Movies      43902      2180           20.138532\n",
              "8                   Music   33277605   1772209           18.777472\n",
              "9         News & Politics    8588593    886577            9.687363\n",
              "10  Nonprofits & Activism    1552422    112895           13.751025\n",
              "11         People & Blogs   27644808   1553292           17.797560\n",
              "12         Pets & Animals    1861775     56753           32.804874\n",
              "13   Science & Technology    6356849    308288           20.619839\n",
              "14                  Shows     378819     89643            4.225863\n",
              "15                 Sports   15726644    908482           17.310903\n",
              "16               Trailers          0         0            0.000000\n",
              "17        Travel & Events     748797     28280           26.477970"
            ],
            "text/html": [
              "\n",
              "  <div id=\"df-47b6ac89-fa35-4c03-b28c-be695a137976\">\n",
              "    <div class=\"colab-df-container\">\n",
              "      <div>\n",
              "<style scoped>\n",
              "    .dataframe tbody tr th:only-of-type {\n",
              "        vertical-align: middle;\n",
              "    }\n",
              "\n",
              "    .dataframe tbody tr th {\n",
              "        vertical-align: top;\n",
              "    }\n",
              "\n",
              "    .dataframe thead th {\n",
              "        text-align: right;\n",
              "    }\n",
              "</style>\n",
              "<table border=\"1\" class=\"dataframe\">\n",
              "  <thead>\n",
              "    <tr style=\"text-align: right;\">\n",
              "      <th></th>\n",
              "      <th>category_title</th>\n",
              "      <th>likes</th>\n",
              "      <th>dislikes</th>\n",
              "      <th>ratio_like_dislike</th>\n",
              "    </tr>\n",
              "  </thead>\n",
              "  <tbody>\n",
              "    <tr>\n",
              "      <th>0</th>\n",
              "      <td>Autos &amp; Vehicles</td>\n",
              "      <td>5357072</td>\n",
              "      <td>144918</td>\n",
              "      <td>36.966229</td>\n",
              "    </tr>\n",
              "    <tr>\n",
              "      <th>1</th>\n",
              "      <td>Comedy</td>\n",
              "      <td>32744543</td>\n",
              "      <td>1342101</td>\n",
              "      <td>24.397972</td>\n",
              "    </tr>\n",
              "    <tr>\n",
              "      <th>2</th>\n",
              "      <td>Education</td>\n",
              "      <td>3229071</td>\n",
              "      <td>146787</td>\n",
              "      <td>21.998345</td>\n",
              "    </tr>\n",
              "    <tr>\n",
              "      <th>3</th>\n",
              "      <td>Entertainment</td>\n",
              "      <td>108874006</td>\n",
              "      <td>6104293</td>\n",
              "      <td>17.835646</td>\n",
              "    </tr>\n",
              "    <tr>\n",
              "      <th>4</th>\n",
              "      <td>Film &amp; Animation</td>\n",
              "      <td>16913384</td>\n",
              "      <td>860352</td>\n",
              "      <td>19.658679</td>\n",
              "    </tr>\n",
              "    <tr>\n",
              "      <th>5</th>\n",
              "      <td>Gaming</td>\n",
              "      <td>14047339</td>\n",
              "      <td>624146</td>\n",
              "      <td>22.506495</td>\n",
              "    </tr>\n",
              "    <tr>\n",
              "      <th>6</th>\n",
              "      <td>Howto &amp; Style</td>\n",
              "      <td>8518180</td>\n",
              "      <td>417930</td>\n",
              "      <td>20.381834</td>\n",
              "    </tr>\n",
              "    <tr>\n",
              "      <th>7</th>\n",
              "      <td>Movies</td>\n",
              "      <td>43902</td>\n",
              "      <td>2180</td>\n",
              "      <td>20.138532</td>\n",
              "    </tr>\n",
              "    <tr>\n",
              "      <th>8</th>\n",
              "      <td>Music</td>\n",
              "      <td>33277605</td>\n",
              "      <td>1772209</td>\n",
              "      <td>18.777472</td>\n",
              "    </tr>\n",
              "    <tr>\n",
              "      <th>9</th>\n",
              "      <td>News &amp; Politics</td>\n",
              "      <td>8588593</td>\n",
              "      <td>886577</td>\n",
              "      <td>9.687363</td>\n",
              "    </tr>\n",
              "    <tr>\n",
              "      <th>10</th>\n",
              "      <td>Nonprofits &amp; Activism</td>\n",
              "      <td>1552422</td>\n",
              "      <td>112895</td>\n",
              "      <td>13.751025</td>\n",
              "    </tr>\n",
              "    <tr>\n",
              "      <th>11</th>\n",
              "      <td>People &amp; Blogs</td>\n",
              "      <td>27644808</td>\n",
              "      <td>1553292</td>\n",
              "      <td>17.797560</td>\n",
              "    </tr>\n",
              "    <tr>\n",
              "      <th>12</th>\n",
              "      <td>Pets &amp; Animals</td>\n",
              "      <td>1861775</td>\n",
              "      <td>56753</td>\n",
              "      <td>32.804874</td>\n",
              "    </tr>\n",
              "    <tr>\n",
              "      <th>13</th>\n",
              "      <td>Science &amp; Technology</td>\n",
              "      <td>6356849</td>\n",
              "      <td>308288</td>\n",
              "      <td>20.619839</td>\n",
              "    </tr>\n",
              "    <tr>\n",
              "      <th>14</th>\n",
              "      <td>Shows</td>\n",
              "      <td>378819</td>\n",
              "      <td>89643</td>\n",
              "      <td>4.225863</td>\n",
              "    </tr>\n",
              "    <tr>\n",
              "      <th>15</th>\n",
              "      <td>Sports</td>\n",
              "      <td>15726644</td>\n",
              "      <td>908482</td>\n",
              "      <td>17.310903</td>\n",
              "    </tr>\n",
              "    <tr>\n",
              "      <th>16</th>\n",
              "      <td>Trailers</td>\n",
              "      <td>0</td>\n",
              "      <td>0</td>\n",
              "      <td>0.000000</td>\n",
              "    </tr>\n",
              "    <tr>\n",
              "      <th>17</th>\n",
              "      <td>Travel &amp; Events</td>\n",
              "      <td>748797</td>\n",
              "      <td>28280</td>\n",
              "      <td>26.477970</td>\n",
              "    </tr>\n",
              "  </tbody>\n",
              "</table>\n",
              "</div>\n",
              "      <button class=\"colab-df-convert\" onclick=\"convertToInteractive('df-47b6ac89-fa35-4c03-b28c-be695a137976')\"\n",
              "              title=\"Convert this dataframe to an interactive table.\"\n",
              "              style=\"display:none;\">\n",
              "        \n",
              "  <svg xmlns=\"http://www.w3.org/2000/svg\" height=\"24px\"viewBox=\"0 0 24 24\"\n",
              "       width=\"24px\">\n",
              "    <path d=\"M0 0h24v24H0V0z\" fill=\"none\"/>\n",
              "    <path d=\"M18.56 5.44l.94 2.06.94-2.06 2.06-.94-2.06-.94-.94-2.06-.94 2.06-2.06.94zm-11 1L8.5 8.5l.94-2.06 2.06-.94-2.06-.94L8.5 2.5l-.94 2.06-2.06.94zm10 10l.94 2.06.94-2.06 2.06-.94-2.06-.94-.94-2.06-.94 2.06-2.06.94z\"/><path d=\"M17.41 7.96l-1.37-1.37c-.4-.4-.92-.59-1.43-.59-.52 0-1.04.2-1.43.59L10.3 9.45l-7.72 7.72c-.78.78-.78 2.05 0 2.83L4 21.41c.39.39.9.59 1.41.59.51 0 1.02-.2 1.41-.59l7.78-7.78 2.81-2.81c.8-.78.8-2.07 0-2.86zM5.41 20L4 18.59l7.72-7.72 1.47 1.35L5.41 20z\"/>\n",
              "  </svg>\n",
              "      </button>\n",
              "      \n",
              "  <style>\n",
              "    .colab-df-container {\n",
              "      display:flex;\n",
              "      flex-wrap:wrap;\n",
              "      gap: 12px;\n",
              "    }\n",
              "\n",
              "    .colab-df-convert {\n",
              "      background-color: #E8F0FE;\n",
              "      border: none;\n",
              "      border-radius: 50%;\n",
              "      cursor: pointer;\n",
              "      display: none;\n",
              "      fill: #1967D2;\n",
              "      height: 32px;\n",
              "      padding: 0 0 0 0;\n",
              "      width: 32px;\n",
              "    }\n",
              "\n",
              "    .colab-df-convert:hover {\n",
              "      background-color: #E2EBFA;\n",
              "      box-shadow: 0px 1px 2px rgba(60, 64, 67, 0.3), 0px 1px 3px 1px rgba(60, 64, 67, 0.15);\n",
              "      fill: #174EA6;\n",
              "    }\n",
              "\n",
              "    [theme=dark] .colab-df-convert {\n",
              "      background-color: #3B4455;\n",
              "      fill: #D2E3FC;\n",
              "    }\n",
              "\n",
              "    [theme=dark] .colab-df-convert:hover {\n",
              "      background-color: #434B5C;\n",
              "      box-shadow: 0px 1px 3px 1px rgba(0, 0, 0, 0.15);\n",
              "      filter: drop-shadow(0px 1px 2px rgba(0, 0, 0, 0.3));\n",
              "      fill: #FFFFFF;\n",
              "    }\n",
              "  </style>\n",
              "\n",
              "      <script>\n",
              "        const buttonEl =\n",
              "          document.querySelector('#df-47b6ac89-fa35-4c03-b28c-be695a137976 button.colab-df-convert');\n",
              "        buttonEl.style.display =\n",
              "          google.colab.kernel.accessAllowed ? 'block' : 'none';\n",
              "\n",
              "        async function convertToInteractive(key) {\n",
              "          const element = document.querySelector('#df-47b6ac89-fa35-4c03-b28c-be695a137976');\n",
              "          const dataTable =\n",
              "            await google.colab.kernel.invokeFunction('convertToInteractive',\n",
              "                                                     [key], {});\n",
              "          if (!dataTable) return;\n",
              "\n",
              "          const docLinkHtml = 'Like what you see? Visit the ' +\n",
              "            '<a target=\"_blank\" href=https://colab.research.google.com/notebooks/data_table.ipynb>data table notebook</a>'\n",
              "            + ' to learn more about interactive tables.';\n",
              "          element.innerHTML = '';\n",
              "          dataTable['output_type'] = 'display_data';\n",
              "          await google.colab.output.renderOutput(dataTable, element);\n",
              "          const docLink = document.createElement('div');\n",
              "          docLink.innerHTML = docLinkHtml;\n",
              "          element.appendChild(docLink);\n",
              "        }\n",
              "      </script>\n",
              "    </div>\n",
              "  </div>\n",
              "  "
            ]
          },
          "metadata": {},
          "execution_count": 35
        }
      ]
    },
    {
      "cell_type": "markdown",
      "source": [
        "Gráfico"
      ],
      "metadata": {
        "id": "c1SKI25fE2HZ"
      }
    },
    {
      "cell_type": "code",
      "source": [
        "ax = sns.barplot(y = 'category_title', x='ratio_like_dislike', data = ld)\n",
        "ax.set(ylabel = 'Categoría', xlabel='Ratio Like/Dislike', title='Ratio Like/Dislike por categoria')\n",
        "plt.show()"
      ],
      "metadata": {
        "colab": {
          "base_uri": "https://localhost:8080/",
          "height": 295
        },
        "id": "znAY3kJLDeAU",
        "outputId": "a8078e64-781b-4595-e22a-942ea23dcf12"
      },
      "execution_count": 36,
      "outputs": [
        {
          "output_type": "display_data",
          "data": {
            "text/plain": [
              "<Figure size 432x288 with 1 Axes>"
            ],
            "image/png": "[encoded data removed]"
          },
          "metadata": {
            "needs_background": "light"
          }
        }
      ]
    },
    {
      "cell_type": "markdown",
      "source": [
        "###Pregunta 4: ¿Qué categorías de videos tienen la mejor proporción (ratio) de “Vistas” / “Comentarios”?"
      ],
      "metadata": {
        "id": "jRYZAY4kE3rP"
      }
    },
    {
      "cell_type": "code",
      "source": [
        "#Agregamos las nuevas columnas necesarias\n",
        "ld['comment_count'] = titulos_gb.sum()['comment_count'].unique()\n",
        "ld['views'] = titulos_gb.sum()['views'].unique()"
      ],
      "metadata": {
        "id": "fXe_RJbOEfs8"
      },
      "execution_count": 37,
      "outputs": []
    },
    {
      "cell_type": "code",
      "source": [
        "ld['ratio_view_comment'] = ld['views']/ld['comment_count']"
      ],
      "metadata": {
        "id": "o79HXIPVGVsp"
      },
      "execution_count": 38,
      "outputs": []
    },
    {
      "cell_type": "code",
      "source": [
        "ld"
      ],
      "metadata": {
        "colab": {
          "base_uri": "https://localhost:8080/",
          "height": 693
        },
        "id": "r-MXDzK4FvVf",
        "outputId": "5b8661bd-97e6-4338-9407-832e0532a1c4"
      },
      "execution_count": 39,
      "outputs": [
        {
          "output_type": "execute_result",
          "data": {
            "text/plain": [
              "           category_title      likes  dislikes  ratio_like_dislike  \\\n",
              "0        Autos & Vehicles    5357072    144918           36.966229   \n",
              "1                  Comedy   32744543   1342101           24.397972   \n",
              "2               Education    3229071    146787           21.998345   \n",
              "3           Entertainment  108874006   6104293           17.835646   \n",
              "4        Film & Animation   16913384    860352           19.658679   \n",
              "5                  Gaming   14047339    624146           22.506495   \n",
              "6           Howto & Style    8518180    417930           20.381834   \n",
              "7                  Movies      43902      2180           20.138532   \n",
              "8                   Music   33277605   1772209           18.777472   \n",
              "9         News & Politics    8588593    886577            9.687363   \n",
              "10  Nonprofits & Activism    1552422    112895           13.751025   \n",
              "11         People & Blogs   27644808   1553292           17.797560   \n",
              "12         Pets & Animals    1861775     56753           32.804874   \n",
              "13   Science & Technology    6356849    308288           20.619839   \n",
              "14                  Shows     378819     89643            4.225863   \n",
              "15                 Sports   15726644    908482           17.310903   \n",
              "16               Trailers          0         0            0.000000   \n",
              "17        Travel & Events     748797     28280           26.477970   \n",
              "\n",
              "    comment_count       views  ratio_view_comment  \n",
              "0          545707   152089943          278.702569  \n",
              "1         3475707   984173869          283.157892  \n",
              "2          461632    85670557          185.581929  \n",
              "3        13526428  3758816373          277.886843  \n",
              "4         2126868   664803587          312.573976  \n",
              "5         1543233   331592781          214.868902  \n",
              "6          900440   236473006          262.619393  \n",
              "7            3249     1385432          426.417975  \n",
              "8         3725036   935438953          251.122124  \n",
              "9         1966963   484528348          246.333229  \n",
              "10         241257    54912730          227.610929  \n",
              "11        3722915  1158125323          311.080248  \n",
              "12         199815    44911855          224.767185  \n",
              "13         877589   185639462          211.533488  \n",
              "14          63388    50252588          792.777624  \n",
              "15        1956546   782295659          399.835046  \n",
              "16              0        8804                 inf  \n",
              "17          94861    18519072          195.223242  "
            ],
            "text/html": [
              "\n",
              "  <div id=\"df-f80f5d33-a888-4695-89ee-e6236f290e2c\">\n",
              "    <div class=\"colab-df-container\">\n",
              "      <div>\n",
              "<style scoped>\n",
              "    .dataframe tbody tr th:only-of-type {\n",
              "        vertical-align: middle;\n",
              "    }\n",
              "\n",
              "    .dataframe tbody tr th {\n",
              "        vertical-align: top;\n",
              "    }\n",
              "\n",
              "    .dataframe thead th {\n",
              "        text-align: right;\n",
              "    }\n",
              "</style>\n",
              "<table border=\"1\" class=\"dataframe\">\n",
              "  <thead>\n",
              "    <tr style=\"text-align: right;\">\n",
              "      <th></th>\n",
              "      <th>category_title</th>\n",
              "      <th>likes</th>\n",
              "      <th>dislikes</th>\n",
              "      <th>ratio_like_dislike</th>\n",
              "      <th>comment_count</th>\n",
              "      <th>views</th>\n",
              "      <th>ratio_view_comment</th>\n",
              "    </tr>\n",
              "  </thead>\n",
              "  <tbody>\n",
              "    <tr>\n",
              "      <th>0</th>\n",
              "      <td>Autos &amp; Vehicles</td>\n",
              "      <td>5357072</td>\n",
              "      <td>144918</td>\n",
              "      <td>36.966229</td>\n",
              "      <td>545707</td>\n",
              "      <td>152089943</td>\n",
              "      <td>278.702569</td>\n",
              "    </tr>\n",
              "    <tr>\n",
              "      <th>1</th>\n",
              "      <td>Comedy</td>\n",
              "      <td>32744543</td>\n",
              "      <td>1342101</td>\n",
              "      <td>24.397972</td>\n",
              "      <td>3475707</td>\n",
              "      <td>984173869</td>\n",
              "      <td>283.157892</td>\n",
              "    </tr>\n",
              "    <tr>\n",
              "      <th>2</th>\n",
              "      <td>Education</td>\n",
              "      <td>3229071</td>\n",
              "      <td>146787</td>\n",
              "      <td>21.998345</td>\n",
              "      <td>461632</td>\n",
              "      <td>85670557</td>\n",
              "      <td>185.581929</td>\n",
              "    </tr>\n",
              "    <tr>\n",
              "      <th>3</th>\n",
              "      <td>Entertainment</td>\n",
              "      <td>108874006</td>\n",
              "      <td>6104293</td>\n",
              "      <td>17.835646</td>\n",
              "      <td>13526428</td>\n",
              "      <td>3758816373</td>\n",
              "      <td>277.886843</td>\n",
              "    </tr>\n",
              "    <tr>\n",
              "      <th>4</th>\n",
              "      <td>Film &amp; Animation</td>\n",
              "      <td>16913384</td>\n",
              "      <td>860352</td>\n",
              "      <td>19.658679</td>\n",
              "      <td>2126868</td>\n",
              "      <td>664803587</td>\n",
              "      <td>312.573976</td>\n",
              "    </tr>\n",
              "    <tr>\n",
              "      <th>5</th>\n",
              "      <td>Gaming</td>\n",
              "      <td>14047339</td>\n",
              "      <td>624146</td>\n",
              "      <td>22.506495</td>\n",
              "      <td>1543233</td>\n",
              "      <td>331592781</td>\n",
              "      <td>214.868902</td>\n",
              "    </tr>\n",
              "    <tr>\n",
              "      <th>6</th>\n",
              "      <td>Howto &amp; Style</td>\n",
              "      <td>8518180</td>\n",
              "      <td>417930</td>\n",
              "      <td>20.381834</td>\n",
              "      <td>900440</td>\n",
              "      <td>236473006</td>\n",
              "      <td>262.619393</td>\n",
              "    </tr>\n",
              "    <tr>\n",
              "      <th>7</th>\n",
              "      <td>Movies</td>\n",
              "      <td>43902</td>\n",
              "      <td>2180</td>\n",
              "      <td>20.138532</td>\n",
              "      <td>3249</td>\n",
              "      <td>1385432</td>\n",
              "      <td>426.417975</td>\n",
              "    </tr>\n",
              "    <tr>\n",
              "      <th>8</th>\n",
              "      <td>Music</td>\n",
              "      <td>33277605</td>\n",
              "      <td>1772209</td>\n",
              "      <td>18.777472</td>\n",
              "      <td>3725036</td>\n",
              "      <td>935438953</td>\n",
              "      <td>251.122124</td>\n",
              "    </tr>\n",
              "    <tr>\n",
              "      <th>9</th>\n",
              "      <td>News &amp; Politics</td>\n",
              "      <td>8588593</td>\n",
              "      <td>886577</td>\n",
              "      <td>9.687363</td>\n",
              "      <td>1966963</td>\n",
              "      <td>484528348</td>\n",
              "      <td>246.333229</td>\n",
              "    </tr>\n",
              "    <tr>\n",
              "      <th>10</th>\n",
              "      <td>Nonprofits &amp; Activism</td>\n",
              "      <td>1552422</td>\n",
              "      <td>112895</td>\n",
              "      <td>13.751025</td>\n",
              "      <td>241257</td>\n",
              "      <td>54912730</td>\n",
              "      <td>227.610929</td>\n",
              "    </tr>\n",
              "    <tr>\n",
              "      <th>11</th>\n",
              "      <td>People &amp; Blogs</td>\n",
              "      <td>27644808</td>\n",
              "      <td>1553292</td>\n",
              "      <td>17.797560</td>\n",
              "      <td>3722915</td>\n",
              "      <td>1158125323</td>\n",
              "      <td>311.080248</td>\n",
              "    </tr>\n",
              "    <tr>\n",
              "      <th>12</th>\n",
              "      <td>Pets &amp; Animals</td>\n",
              "      <td>1861775</td>\n",
              "      <td>56753</td>\n",
              "      <td>32.804874</td>\n",
              "      <td>199815</td>\n",
              "      <td>44911855</td>\n",
              "      <td>224.767185</td>\n",
              "    </tr>\n",
              "    <tr>\n",
              "      <th>13</th>\n",
              "      <td>Science &amp; Technology</td>\n",
              "      <td>6356849</td>\n",
              "      <td>308288</td>\n",
              "      <td>20.619839</td>\n",
              "      <td>877589</td>\n",
              "      <td>185639462</td>\n",
              "      <td>211.533488</td>\n",
              "    </tr>\n",
              "    <tr>\n",
              "      <th>14</th>\n",
              "      <td>Shows</td>\n",
              "      <td>378819</td>\n",
              "      <td>89643</td>\n",
              "      <td>4.225863</td>\n",
              "      <td>63388</td>\n",
              "      <td>50252588</td>\n",
              "      <td>792.777624</td>\n",
              "    </tr>\n",
              "    <tr>\n",
              "      <th>15</th>\n",
              "      <td>Sports</td>\n",
              "      <td>15726644</td>\n",
              "      <td>908482</td>\n",
              "      <td>17.310903</td>\n",
              "      <td>1956546</td>\n",
              "      <td>782295659</td>\n",
              "      <td>399.835046</td>\n",
              "    </tr>\n",
              "    <tr>\n",
              "      <th>16</th>\n",
              "      <td>Trailers</td>\n",
              "      <td>0</td>\n",
              "      <td>0</td>\n",
              "      <td>0.000000</td>\n",
              "      <td>0</td>\n",
              "      <td>8804</td>\n",
              "      <td>inf</td>\n",
              "    </tr>\n",
              "    <tr>\n",
              "      <th>17</th>\n",
              "      <td>Travel &amp; Events</td>\n",
              "      <td>748797</td>\n",
              "      <td>28280</td>\n",
              "      <td>26.477970</td>\n",
              "      <td>94861</td>\n",
              "      <td>18519072</td>\n",
              "      <td>195.223242</td>\n",
              "    </tr>\n",
              "  </tbody>\n",
              "</table>\n",
              "</div>\n",
              "      <button class=\"colab-df-convert\" onclick=\"convertToInteractive('df-f80f5d33-a888-4695-89ee-e6236f290e2c')\"\n",
              "              title=\"Convert this dataframe to an interactive table.\"\n",
              "              style=\"display:none;\">\n",
              "        \n",
              "  <svg xmlns=\"http://www.w3.org/2000/svg\" height=\"24px\"viewBox=\"0 0 24 24\"\n",
              "       width=\"24px\">\n",
              "    <path d=\"M0 0h24v24H0V0z\" fill=\"none\"/>\n",
              "    <path d=\"M18.56 5.44l.94 2.06.94-2.06 2.06-.94-2.06-.94-.94-2.06-.94 2.06-2.06.94zm-11 1L8.5 8.5l.94-2.06 2.06-.94-2.06-.94L8.5 2.5l-.94 2.06-2.06.94zm10 10l.94 2.06.94-2.06 2.06-.94-2.06-.94-.94-2.06-.94 2.06-2.06.94z\"/><path d=\"M17.41 7.96l-1.37-1.37c-.4-.4-.92-.59-1.43-.59-.52 0-1.04.2-1.43.59L10.3 9.45l-7.72 7.72c-.78.78-.78 2.05 0 2.83L4 21.41c.39.39.9.59 1.41.59.51 0 1.02-.2 1.41-.59l7.78-7.78 2.81-2.81c.8-.78.8-2.07 0-2.86zM5.41 20L4 18.59l7.72-7.72 1.47 1.35L5.41 20z\"/>\n",
              "  </svg>\n",
              "      </button>\n",
              "      \n",
              "  <style>\n",
              "    .colab-df-container {\n",
              "      display:flex;\n",
              "      flex-wrap:wrap;\n",
              "      gap: 12px;\n",
              "    }\n",
              "\n",
              "    .colab-df-convert {\n",
              "      background-color: #E8F0FE;\n",
              "      border: none;\n",
              "      border-radius: 50%;\n",
              "      cursor: pointer;\n",
              "      display: none;\n",
              "      fill: #1967D2;\n",
              "      height: 32px;\n",
              "      padding: 0 0 0 0;\n",
              "      width: 32px;\n",
              "    }\n",
              "\n",
              "    .colab-df-convert:hover {\n",
              "      background-color: #E2EBFA;\n",
              "      box-shadow: 0px 1px 2px rgba(60, 64, 67, 0.3), 0px 1px 3px 1px rgba(60, 64, 67, 0.15);\n",
              "      fill: #174EA6;\n",
              "    }\n",
              "\n",
              "    [theme=dark] .colab-df-convert {\n",
              "      background-color: #3B4455;\n",
              "      fill: #D2E3FC;\n",
              "    }\n",
              "\n",
              "    [theme=dark] .colab-df-convert:hover {\n",
              "      background-color: #434B5C;\n",
              "      box-shadow: 0px 1px 3px 1px rgba(0, 0, 0, 0.15);\n",
              "      filter: drop-shadow(0px 1px 2px rgba(0, 0, 0, 0.3));\n",
              "      fill: #FFFFFF;\n",
              "    }\n",
              "  </style>\n",
              "\n",
              "      <script>\n",
              "        const buttonEl =\n",
              "          document.querySelector('#df-f80f5d33-a888-4695-89ee-e6236f290e2c button.colab-df-convert');\n",
              "        buttonEl.style.display =\n",
              "          google.colab.kernel.accessAllowed ? 'block' : 'none';\n",
              "\n",
              "        async function convertToInteractive(key) {\n",
              "          const element = document.querySelector('#df-f80f5d33-a888-4695-89ee-e6236f290e2c');\n",
              "          const dataTable =\n",
              "            await google.colab.kernel.invokeFunction('convertToInteractive',\n",
              "                                                     [key], {});\n",
              "          if (!dataTable) return;\n",
              "\n",
              "          const docLinkHtml = 'Like what you see? Visit the ' +\n",
              "            '<a target=\"_blank\" href=https://colab.research.google.com/notebooks/data_table.ipynb>data table notebook</a>'\n",
              "            + ' to learn more about interactive tables.';\n",
              "          element.innerHTML = '';\n",
              "          dataTable['output_type'] = 'display_data';\n",
              "          await google.colab.output.renderOutput(dataTable, element);\n",
              "          const docLink = document.createElement('div');\n",
              "          docLink.innerHTML = docLinkHtml;\n",
              "          element.appendChild(docLink);\n",
              "        }\n",
              "      </script>\n",
              "    </div>\n",
              "  </div>\n",
              "  "
            ]
          },
          "metadata": {},
          "execution_count": 39
        }
      ]
    },
    {
      "cell_type": "markdown",
      "source": [
        "Gráfico"
      ],
      "metadata": {
        "id": "CqdHCgPmG3sX"
      }
    },
    {
      "cell_type": "code",
      "source": [
        "ax = sns.barplot(y = 'category_title', x='ratio_view_comment', data = ld)\n",
        "ax.set(ylabel = 'Categoría', xlabel='Ratio View/Comment', title='Ratio View/Comment por categoria')\n",
        "plt.show()"
      ],
      "metadata": {
        "colab": {
          "base_uri": "https://localhost:8080/",
          "height": 295
        },
        "id": "25zM-a1TFv6j",
        "outputId": "26a2b7f9-608d-41ff-9cf1-97d53620b63b"
      },
      "execution_count": 40,
      "outputs": [
        {
          "output_type": "display_data",
          "data": {
            "text/plain": [
              "<Figure size 432x288 with 1 Axes>"
            ],
            "image/png": "[encoded data removed]"
          },
          "metadata": {
            "needs_background": "light"
          }
        }
      ]
    },
    {
      "cell_type": "markdown",
      "source": [
        "##Preguntas por el tiempo transcurrido"
      ],
      "metadata": {
        "id": "YaCejZ04bHUZ"
      }
    },
    {
      "cell_type": "markdown",
      "source": [
        "###Pregunta 5: ¿Cómo ha cambiado el volumen de los videos en tendencia a lo largo del tiempo?"
      ],
      "metadata": {
        "id": "-7IW5i3dZBoa"
      }
    },
    {
      "cell_type": "code",
      "source": [
        "date_gb = ds.groupby('trending_date')"
      ],
      "metadata": {
        "id": "BV7L8AXnGEr2"
      },
      "execution_count": 41,
      "outputs": []
    },
    {
      "cell_type": "code",
      "source": [
        "date_gb['title'].count()"
      ],
      "metadata": {
        "colab": {
          "base_uri": "https://localhost:8080/"
        },
        "id": "i0VVsTRLGEb4",
        "outputId": "577d060c-e22c-4aad-c55f-c6fed85404a8"
      },
      "execution_count": 42,
      "outputs": [
        {
          "output_type": "execute_result",
          "data": {
            "text/plain": [
              "trending_date\n",
              "2017-11-14    200\n",
              "2017-11-15    200\n",
              "2017-11-16    199\n",
              "2017-11-17    200\n",
              "2017-11-18    200\n",
              "             ... \n",
              "2018-06-10    177\n",
              "2018-06-11    197\n",
              "2018-06-12    199\n",
              "2018-06-13    193\n",
              "2018-06-14    200\n",
              "Name: title, Length: 205, dtype: int64"
            ]
          },
          "metadata": {},
          "execution_count": 42
        }
      ]
    },
    {
      "cell_type": "markdown",
      "source": [
        "Gráfico"
      ],
      "metadata": {
        "id": "FucE44f9YdTA"
      }
    },
    {
      "cell_type": "code",
      "source": [
        "ax =sns.lineplot(x = ds['trending_date'].unique(),  y = np.array(date_gb.count()['category_title']))\n",
        "ax.set(ylabel='Cantidad de videos en trending', xlabel=\"Tiempo\", title = 'Volumen de los videos en trending con respecto al tiempo')\n",
        "plt.show"
      ],
      "metadata": {
        "colab": {
          "base_uri": "https://localhost:8080/",
          "height": 312
        },
        "id": "pbijcY7xTw79",
        "outputId": "de4e52f0-ff9b-4677-8f15-8a59f2b80706"
      },
      "execution_count": 43,
      "outputs": [
        {
          "output_type": "execute_result",
          "data": {
            "text/plain": [
              "<function matplotlib.pyplot.show>"
            ]
          },
          "metadata": {},
          "execution_count": 43
        },
        {
          "output_type": "display_data",
          "data": {
            "text/plain": [
              "<Figure size 432x288 with 1 Axes>"
            ],
            "image/png": "[encoded data removed]"
          },
          "metadata": {
            "needs_background": "light"
          }
        }
      ]
    },
    {
      "cell_type": "markdown",
      "source": [
        "##Preguntas por Canales de Youtube"
      ],
      "metadata": {
        "id": "kANLF2mgbBmi"
      }
    },
    {
      "cell_type": "markdown",
      "source": [
        "###Pregunta 6: ¿Qué Canales de YouTube son tendencia más frecuentemente? ¿Y cuáles con menos frecuencia?"
      ],
      "metadata": {
        "id": "RAvfGPyobSUi"
      }
    },
    {
      "cell_type": "code",
      "source": [
        "channel_gb = ds.groupby('channel_title')"
      ],
      "metadata": {
        "id": "Ui8BieLegYg-"
      },
      "execution_count": 44,
      "outputs": []
    },
    {
      "cell_type": "code",
      "source": [
        "channel_count = np.array(channel_gb.count()['video_id'])"
      ],
      "metadata": {
        "id": "2EduniCkgdT2"
      },
      "execution_count": 45,
      "outputs": []
    },
    {
      "cell_type": "code",
      "source": [
        "canales = np.sort(ds['channel_title'].unique())"
      ],
      "metadata": {
        "id": "90GqJCVEg0JM"
      },
      "execution_count": 46,
      "outputs": []
    },
    {
      "cell_type": "code",
      "source": [
        "channel_count, canales = map(list, zip(*sorted(zip(channel_count, canales))))"
      ],
      "metadata": {
        "id": "TLgHyznFke9M"
      },
      "execution_count": 47,
      "outputs": []
    },
    {
      "cell_type": "markdown",
      "source": [
        "Se puede observar en la tabla que Galileo es el canal con mas frecuencia en tendencias. Además se sabe que hay muchos canales que solo aparecieron una vez"
      ],
      "metadata": {
        "id": "kBOIR6ZEbkNo"
      }
    },
    {
      "cell_type": "code",
      "source": [
        "ds['channel_title'].value_counts()"
      ],
      "metadata": {
        "colab": {
          "base_uri": "https://localhost:8080/"
        },
        "id": "f-OO8sBeWqqm",
        "outputId": "6dddd1d5-7f85-48f7-bbc7-b6be5a3d4480"
      },
      "execution_count": 48,
      "outputs": [
        {
          "output_type": "execute_result",
          "data": {
            "text/plain": [
              "Galileo                                  200\n",
              "Ruhrpottwache                            185\n",
              "Анатолий Шарий                           182\n",
              "Çukur                                    180\n",
              "Auf Streife                              180\n",
              "                                        ... \n",
              "BroSep Fitness                             1\n",
              "Kevkowich - Attack on Titan und Mehr!      1\n",
              "Geil also finde ich                        1\n",
              "MürderBeatzTV                              1\n",
              "DailyProFootball                           1\n",
              "Name: channel_title, Length: 6085, dtype: int64"
            ]
          },
          "metadata": {},
          "execution_count": 48
        }
      ]
    },
    {
      "cell_type": "markdown",
      "source": [
        "Debido a que son mas de 6000 canales diferentes, en la gráfica solo se mostraran los 5 primeros y los 5 últimos"
      ],
      "metadata": {
        "id": "ppbr824YhXbz"
      }
    },
    {
      "cell_type": "code",
      "source": [
        "grafic_channel = []\n",
        "grafic_count = []\n",
        "for i in range(5):\n",
        "  grafic_channel.append(canales[i])\n",
        "  grafic_channel.append(canales[len(canales)-i-1])\n",
        "  grafic_count.append(channel_count[i])\n",
        "  grafic_count.append(channel_count[len(channel_count)-i-1])"
      ],
      "metadata": {
        "id": "i312aspCheNB"
      },
      "execution_count": 49,
      "outputs": []
    },
    {
      "cell_type": "code",
      "source": [
        "ax = sns.barplot(y = grafic_channel, x=grafic_count)\n",
        "ax.set(ylabel = 'Canales', xlabel = 'Cantidad de veces que fueron tendencias', title = 'Canales con más y menos frecuencia en tendencias')\n",
        "plt.show()"
      ],
      "metadata": {
        "colab": {
          "base_uri": "https://localhost:8080/",
          "height": 295
        },
        "id": "e9XxVYivbawD",
        "outputId": "31b6eaa2-18dc-45d2-b102-036d28e9af3f"
      },
      "execution_count": 50,
      "outputs": [
        {
          "output_type": "display_data",
          "data": {
            "text/plain": [
              "<Figure size 432x288 with 1 Axes>"
            ],
            "image/png": "[encoded data removed]"
          },
          "metadata": {
            "needs_background": "light"
          }
        }
      ]
    },
    {
      "cell_type": "markdown",
      "source": [
        "##Preguntas por geografía del País"
      ],
      "metadata": {
        "id": "Qwnagr9QIqH5"
      }
    },
    {
      "cell_type": "markdown",
      "source": [
        "###Pregunta7: ¿En qué Estados se presenta el mayor número de “Vistas”, “Me gusta” y “No me gusta”? "
      ],
      "metadata": {
        "id": "rFkcLm8cDJKU"
      }
    },
    {
      "cell_type": "code",
      "source": [
        "state_gb = ds.groupby('state')"
      ],
      "metadata": {
        "id": "C9H_n_GMmCTX"
      },
      "execution_count": 51,
      "outputs": []
    },
    {
      "cell_type": "code",
      "source": [
        "_, lat =   map(list, zip(*sorted(zip(np.array(ds['state'].unique()), np.array(ds['lat'].unique())))))\n",
        "_ ,lon = map(list, zip(*sorted(zip(np.array(ds['state'].unique()), np.array(ds['lon'].unique())))))"
      ],
      "metadata": {
        "id": "U8RQxFAuDfKN"
      },
      "execution_count": 52,
      "outputs": []
    },
    {
      "cell_type": "code",
      "source": [
        "state_df = pd.DataFrame()"
      ],
      "metadata": {
        "id": "bu-yvnmjmbil"
      },
      "execution_count": 53,
      "outputs": []
    },
    {
      "cell_type": "code",
      "source": [
        "state_df['state'] = np.sort(ds['state'].unique())\n",
        "state_df['views'] = np.array(state_gb.sum()['views'])\n",
        "state_df['likes'] = np.array(state_gb.sum()['likes'])\n",
        "state_df['dislikes'] = np.array(state_gb.sum()['dislikes'])\n",
        "state_df['lat']=lat\n",
        "state_df['lon']=lon"
      ],
      "metadata": {
        "id": "S1wIKXEsmof1"
      },
      "execution_count": 54,
      "outputs": []
    },
    {
      "cell_type": "code",
      "source": [
        "state_df"
      ],
      "metadata": {
        "colab": {
          "base_uri": "https://localhost:8080/",
          "height": 551
        },
        "id": "WUk1mpkLm6--",
        "outputId": "272df44d-d5d9-41ed-eaa9-3492feea380b"
      },
      "execution_count": 55,
      "outputs": [
        {
          "output_type": "execute_result",
          "data": {
            "text/plain": [
              "                     state      views     likes  dislikes        lat  \\\n",
              "0        Baden Wurttemberg  640502469  18137171   1000173  48.999992   \n",
              "1                   Bayern  601554213  17281776    931775  50.266607   \n",
              "2                   Berlin  633292294  18439970    955406  52.521819   \n",
              "3              Brandenburg  621760172  18009783    938231  51.770418   \n",
              "4                   Bremen  620248608  18116460    989328  53.550438   \n",
              "5                  Hamburg  656708556  19120076   1045707  53.550025   \n",
              "6                   Hessen  637357371  18200266    967325  51.300007   \n",
              "7   Mecklenburg Vorpommern  598627084  16992068    910017  53.633304   \n",
              "8            Niedersachsen  600665205  17214183    930932  53.129999   \n",
              "9      Nordrhein Westfalen  623635481  17928851    941556  52.029988   \n",
              "10         Rheinland Pfalz  631027720  18281123    985273  49.982472   \n",
              "11                Saarland  598114701  16981991    903479  49.250390   \n",
              "12                 Sachsen  583191751  16775980    936171  50.829984   \n",
              "13          Sachsen Anhalt  615503473  17410617    944140  52.130421   \n",
              "14      Schleswig Holstein  619327827  18228160    981329  54.783748   \n",
              "15               Thuringen  648121417  18745334    998284  50.970053   \n",
              "\n",
              "          lon  \n",
              "0    8.399993  \n",
              "1   10.966607  \n",
              "2   13.401549  \n",
              "3   14.329967  \n",
              "4    8.579982  \n",
              "5    9.999999  \n",
              "6    9.500030  \n",
              "7   11.416699  \n",
              "8    8.220004  \n",
              "9    8.530011  \n",
              "10   8.273219  \n",
              "11   6.970003  \n",
              "12  12.919976  \n",
              "13  11.620004  \n",
              "14   9.433315  \n",
              "15  11.029962  "
            ],
            "text/html": [
              "\n",
              "  <div id=\"df-ae737e31-24c8-455a-a580-0d3a65315a37\">\n",
              "    <div class=\"colab-df-container\">\n",
              "      <div>\n",
              "<style scoped>\n",
              "    .dataframe tbody tr th:only-of-type {\n",
              "        vertical-align: middle;\n",
              "    }\n",
              "\n",
              "    .dataframe tbody tr th {\n",
              "        vertical-align: top;\n",
              "    }\n",
              "\n",
              "    .dataframe thead th {\n",
              "        text-align: right;\n",
              "    }\n",
              "</style>\n",
              "<table border=\"1\" class=\"dataframe\">\n",
              "  <thead>\n",
              "    <tr style=\"text-align: right;\">\n",
              "      <th></th>\n",
              "      <th>state</th>\n",
              "      <th>views</th>\n",
              "      <th>likes</th>\n",
              "      <th>dislikes</th>\n",
              "      <th>lat</th>\n",
              "      <th>lon</th>\n",
              "    </tr>\n",
              "  </thead>\n",
              "  <tbody>\n",
              "    <tr>\n",
              "      <th>0</th>\n",
              "      <td>Baden Wurttemberg</td>\n",
              "      <td>640502469</td>\n",
              "      <td>18137171</td>\n",
              "      <td>1000173</td>\n",
              "      <td>48.999992</td>\n",
              "      <td>8.399993</td>\n",
              "    </tr>\n",
              "    <tr>\n",
              "      <th>1</th>\n",
              "      <td>Bayern</td>\n",
              "      <td>601554213</td>\n",
              "      <td>17281776</td>\n",
              "      <td>931775</td>\n",
              "      <td>50.266607</td>\n",
              "      <td>10.966607</td>\n",
              "    </tr>\n",
              "    <tr>\n",
              "      <th>2</th>\n",
              "      <td>Berlin</td>\n",
              "      <td>633292294</td>\n",
              "      <td>18439970</td>\n",
              "      <td>955406</td>\n",
              "      <td>52.521819</td>\n",
              "      <td>13.401549</td>\n",
              "    </tr>\n",
              "    <tr>\n",
              "      <th>3</th>\n",
              "      <td>Brandenburg</td>\n",
              "      <td>621760172</td>\n",
              "      <td>18009783</td>\n",
              "      <td>938231</td>\n",
              "      <td>51.770418</td>\n",
              "      <td>14.329967</td>\n",
              "    </tr>\n",
              "    <tr>\n",
              "      <th>4</th>\n",
              "      <td>Bremen</td>\n",
              "      <td>620248608</td>\n",
              "      <td>18116460</td>\n",
              "      <td>989328</td>\n",
              "      <td>53.550438</td>\n",
              "      <td>8.579982</td>\n",
              "    </tr>\n",
              "    <tr>\n",
              "      <th>5</th>\n",
              "      <td>Hamburg</td>\n",
              "      <td>656708556</td>\n",
              "      <td>19120076</td>\n",
              "      <td>1045707</td>\n",
              "      <td>53.550025</td>\n",
              "      <td>9.999999</td>\n",
              "    </tr>\n",
              "    <tr>\n",
              "      <th>6</th>\n",
              "      <td>Hessen</td>\n",
              "      <td>637357371</td>\n",
              "      <td>18200266</td>\n",
              "      <td>967325</td>\n",
              "      <td>51.300007</td>\n",
              "      <td>9.500030</td>\n",
              "    </tr>\n",
              "    <tr>\n",
              "      <th>7</th>\n",
              "      <td>Mecklenburg Vorpommern</td>\n",
              "      <td>598627084</td>\n",
              "      <td>16992068</td>\n",
              "      <td>910017</td>\n",
              "      <td>53.633304</td>\n",
              "      <td>11.416699</td>\n",
              "    </tr>\n",
              "    <tr>\n",
              "      <th>8</th>\n",
              "      <td>Niedersachsen</td>\n",
              "      <td>600665205</td>\n",
              "      <td>17214183</td>\n",
              "      <td>930932</td>\n",
              "      <td>53.129999</td>\n",
              "      <td>8.220004</td>\n",
              "    </tr>\n",
              "    <tr>\n",
              "      <th>9</th>\n",
              "      <td>Nordrhein Westfalen</td>\n",
              "      <td>623635481</td>\n",
              "      <td>17928851</td>\n",
              "      <td>941556</td>\n",
              "      <td>52.029988</td>\n",
              "      <td>8.530011</td>\n",
              "    </tr>\n",
              "    <tr>\n",
              "      <th>10</th>\n",
              "      <td>Rheinland Pfalz</td>\n",
              "      <td>631027720</td>\n",
              "      <td>18281123</td>\n",
              "      <td>985273</td>\n",
              "      <td>49.982472</td>\n",
              "      <td>8.273219</td>\n",
              "    </tr>\n",
              "    <tr>\n",
              "      <th>11</th>\n",
              "      <td>Saarland</td>\n",
              "      <td>598114701</td>\n",
              "      <td>16981991</td>\n",
              "      <td>903479</td>\n",
              "      <td>49.250390</td>\n",
              "      <td>6.970003</td>\n",
              "    </tr>\n",
              "    <tr>\n",
              "      <th>12</th>\n",
              "      <td>Sachsen</td>\n",
              "      <td>583191751</td>\n",
              "      <td>16775980</td>\n",
              "      <td>936171</td>\n",
              "      <td>50.829984</td>\n",
              "      <td>12.919976</td>\n",
              "    </tr>\n",
              "    <tr>\n",
              "      <th>13</th>\n",
              "      <td>Sachsen Anhalt</td>\n",
              "      <td>615503473</td>\n",
              "      <td>17410617</td>\n",
              "      <td>944140</td>\n",
              "      <td>52.130421</td>\n",
              "      <td>11.620004</td>\n",
              "    </tr>\n",
              "    <tr>\n",
              "      <th>14</th>\n",
              "      <td>Schleswig Holstein</td>\n",
              "      <td>619327827</td>\n",
              "      <td>18228160</td>\n",
              "      <td>981329</td>\n",
              "      <td>54.783748</td>\n",
              "      <td>9.433315</td>\n",
              "    </tr>\n",
              "    <tr>\n",
              "      <th>15</th>\n",
              "      <td>Thuringen</td>\n",
              "      <td>648121417</td>\n",
              "      <td>18745334</td>\n",
              "      <td>998284</td>\n",
              "      <td>50.970053</td>\n",
              "      <td>11.029962</td>\n",
              "    </tr>\n",
              "  </tbody>\n",
              "</table>\n",
              "</div>\n",
              "      <button class=\"colab-df-convert\" onclick=\"convertToInteractive('df-ae737e31-24c8-455a-a580-0d3a65315a37')\"\n",
              "              title=\"Convert this dataframe to an interactive table.\"\n",
              "              style=\"display:none;\">\n",
              "        \n",
              "  <svg xmlns=\"http://www.w3.org/2000/svg\" height=\"24px\"viewBox=\"0 0 24 24\"\n",
              "       width=\"24px\">\n",
              "    <path d=\"M0 0h24v24H0V0z\" fill=\"none\"/>\n",
              "    <path d=\"M18.56 5.44l.94 2.06.94-2.06 2.06-.94-2.06-.94-.94-2.06-.94 2.06-2.06.94zm-11 1L8.5 8.5l.94-2.06 2.06-.94-2.06-.94L8.5 2.5l-.94 2.06-2.06.94zm10 10l.94 2.06.94-2.06 2.06-.94-2.06-.94-.94-2.06-.94 2.06-2.06.94z\"/><path d=\"M17.41 7.96l-1.37-1.37c-.4-.4-.92-.59-1.43-.59-.52 0-1.04.2-1.43.59L10.3 9.45l-7.72 7.72c-.78.78-.78 2.05 0 2.83L4 21.41c.39.39.9.59 1.41.59.51 0 1.02-.2 1.41-.59l7.78-7.78 2.81-2.81c.8-.78.8-2.07 0-2.86zM5.41 20L4 18.59l7.72-7.72 1.47 1.35L5.41 20z\"/>\n",
              "  </svg>\n",
              "      </button>\n",
              "      \n",
              "  <style>\n",
              "    .colab-df-container {\n",
              "      display:flex;\n",
              "      flex-wrap:wrap;\n",
              "      gap: 12px;\n",
              "    }\n",
              "\n",
              "    .colab-df-convert {\n",
              "      background-color: #E8F0FE;\n",
              "      border: none;\n",
              "      border-radius: 50%;\n",
              "      cursor: pointer;\n",
              "      display: none;\n",
              "      fill: #1967D2;\n",
              "      height: 32px;\n",
              "      padding: 0 0 0 0;\n",
              "      width: 32px;\n",
              "    }\n",
              "\n",
              "    .colab-df-convert:hover {\n",
              "      background-color: #E2EBFA;\n",
              "      box-shadow: 0px 1px 2px rgba(60, 64, 67, 0.3), 0px 1px 3px 1px rgba(60, 64, 67, 0.15);\n",
              "      fill: #174EA6;\n",
              "    }\n",
              "\n",
              "    [theme=dark] .colab-df-convert {\n",
              "      background-color: #3B4455;\n",
              "      fill: #D2E3FC;\n",
              "    }\n",
              "\n",
              "    [theme=dark] .colab-df-convert:hover {\n",
              "      background-color: #434B5C;\n",
              "      box-shadow: 0px 1px 3px 1px rgba(0, 0, 0, 0.15);\n",
              "      filter: drop-shadow(0px 1px 2px rgba(0, 0, 0, 0.3));\n",
              "      fill: #FFFFFF;\n",
              "    }\n",
              "  </style>\n",
              "\n",
              "      <script>\n",
              "        const buttonEl =\n",
              "          document.querySelector('#df-ae737e31-24c8-455a-a580-0d3a65315a37 button.colab-df-convert');\n",
              "        buttonEl.style.display =\n",
              "          google.colab.kernel.accessAllowed ? 'block' : 'none';\n",
              "\n",
              "        async function convertToInteractive(key) {\n",
              "          const element = document.querySelector('#df-ae737e31-24c8-455a-a580-0d3a65315a37');\n",
              "          const dataTable =\n",
              "            await google.colab.kernel.invokeFunction('convertToInteractive',\n",
              "                                                     [key], {});\n",
              "          if (!dataTable) return;\n",
              "\n",
              "          const docLinkHtml = 'Like what you see? Visit the ' +\n",
              "            '<a target=\"_blank\" href=https://colab.research.google.com/notebooks/data_table.ipynb>data table notebook</a>'\n",
              "            + ' to learn more about interactive tables.';\n",
              "          element.innerHTML = '';\n",
              "          dataTable['output_type'] = 'display_data';\n",
              "          await google.colab.output.renderOutput(dataTable, element);\n",
              "          const docLink = document.createElement('div');\n",
              "          docLink.innerHTML = docLinkHtml;\n",
              "          element.appendChild(docLink);\n",
              "        }\n",
              "      </script>\n",
              "    </div>\n",
              "  </div>\n",
              "  "
            ]
          },
          "metadata": {},
          "execution_count": 55
        }
      ]
    },
    {
      "cell_type": "markdown",
      "source": [
        "Mapa de views por Región"
      ],
      "metadata": {
        "id": "TMIPeY-zI7qd"
      }
    },
    {
      "cell_type": "code",
      "source": [
        "fig = px.scatter_mapbox(\n",
        "    state_df, \n",
        "    lat='lat',\n",
        "    lon='lon',\n",
        "    color='views',\n",
        "    color_continuous_scale='Inferno',\n",
        "    hover_name='state',\n",
        "    zoom=2,\n",
        "    size=\"views\",\n",
        "    size_max=15,\n",
        "    mapbox_style='carto-positron',\n",
        "    title='Views de videos según regiones en Alemania',\n",
        ")\n",
        "fig.show()"
      ],
      "metadata": {
        "colab": {
          "base_uri": "https://localhost:8080/",
          "height": 542
        },
        "id": "smMmo7JMGEro",
        "outputId": "0fa0b229-5cb1-4dc6-cd2e-ea620fb2575a"
      },
      "execution_count": 56,
      "outputs": [
        {
          "output_type": "display_data",
          "data": {
            "text/html": [
              "<html>\n",
              "<head><meta charset=\"utf-8\" /></head>\n",
              "<body>\n",
              "    <div>            <script src=\"https://cdnjs.cloudflare.com/ajax/libs/mathjax/2.7.5/MathJax.js?config=TeX-AMS-MML_SVG\"></script><script type=\"text/javascript\">if (window.MathJax) {MathJax.Hub.Config({SVG: {font: \"STIX-Web\"}});}</script>                <script type=\"text/javascript\">window.PlotlyConfig = {MathJaxConfig: 'local'};</script>\n",
              "        <script src=\"https://cdn.plot.ly/plotly-2.8.3.min.js\"></script>                <div id=\"bf556da7-04a2-44bd-a0a7-309a762dfef9\" class=\"plotly-graph-div\" style=\"height:525px; width:100%;\"></div>            <script type=\"text/javascript\">                                    window.PLOTLYENV=window.PLOTLYENV || {};                                    if (document.getElementById(\"bf556da7-04a2-44bd-a0a7-309a762dfef9\")) {                    Plotly.newPlot(                        \"bf556da7-04a2-44bd-a0a7-309a762dfef9\",                        [{\"hovertemplate\":\"<b>%{hovertext}</b><br><br>views=%{marker.color}<br>lat=%{lat}<br>lon=%{lon}<extra></extra>\",\"hovertext\":[\"Baden Wurttemberg\",\"Bayern\",\"Berlin\",\"Brandenburg\",\"Bremen\",\"Hamburg\",\"Hessen\",\"Mecklenburg Vorpommern\",\"Niedersachsen\",\"Nordrhein Westfalen\",\"Rheinland Pfalz\",\"Saarland\",\"Sachsen\",\"Sachsen Anhalt\",\"Schleswig Holstein\",\"Thuringen\"],\"lat\":[48.99999229,50.26660748,52.52181866,51.7704175,53.55043805,53.55002464,51.30000694,53.63330408,53.1299986,52.02998822,49.98247246,49.25039044,50.82998395,52.13042137,54.78374778,50.97005292],\"legendgroup\":\"\",\"lon\":[8.399993448,10.96660681,13.40154862,14.32996741,8.579982461,9.999999144,9.500029662,11.41669861,8.220004434,8.530011351,8.273219156,6.970003213,12.91997595,11.62000362,9.433315388,11.02996212],\"marker\":{\"color\":[640502469,601554213,633292294,621760172,620248608,656708556,637357371,598627084,600665205,623635481,631027720,598114701,583191751,615503473,619327827,648121417],\"coloraxis\":\"coloraxis\",\"size\":[640502469,601554213,633292294,621760172,620248608,656708556,637357371,598627084,600665205,623635481,631027720,598114701,583191751,615503473,619327827,648121417],\"sizemode\":\"area\",\"sizeref\":2918704.6933333334},\"mode\":\"markers\",\"name\":\"\",\"showlegend\":false,\"subplot\":\"mapbox\",\"type\":\"scattermapbox\"}],                        {\"template\":{\"data\":{\"bar\":[{\"error_x\":{\"color\":\"#2a3f5f\"},\"error_y\":{\"color\":\"#2a3f5f\"},\"marker\":{\"line\":{\"color\":\"#E5ECF6\",\"width\":0.5},\"pattern\":{\"fillmode\":\"overlay\",\"size\":10,\"solidity\":0.2}},\"type\":\"bar\"}],\"barpolar\":[{\"marker\":{\"line\":{\"color\":\"#E5ECF6\",\"width\":0.5},\"pattern\":{\"fillmode\":\"overlay\",\"size\":10,\"solidity\":0.2}},\"type\":\"barpolar\"}],\"carpet\":[{\"aaxis\":{\"endlinecolor\":\"#2a3f5f\",\"gridcolor\":\"white\",\"linecolor\":\"white\",\"minorgridcolor\":\"white\",\"startlinecolor\":\"#2a3f5f\"},\"baxis\":{\"endlinecolor\":\"#2a3f5f\",\"gridcolor\":\"white\",\"linecolor\":\"white\",\"minorgridcolor\":\"white\",\"startlinecolor\":\"#2a3f5f\"},\"type\":\"carpet\"}],\"choropleth\":[{\"colorbar\":{\"outlinewidth\":0,\"ticks\":\"\"},\"type\":\"choropleth\"}],\"contour\":[{\"colorbar\":{\"outlinewidth\":0,\"ticks\":\"\"},\"colorscale\":[[0.0,\"#0d0887\"],[0.1111111111111111,\"#46039f\"],[0.2222222222222222,\"#7201a8\"],[0.3333333333333333,\"#9c179e\"],[0.4444444444444444,\"#bd3786\"],[0.5555555555555556,\"#d8576b\"],[0.6666666666666666,\"#ed7953\"],[0.7777777777777778,\"#fb9f3a\"],[0.8888888888888888,\"#fdca26\"],[1.0,\"#f0f921\"]],\"type\":\"contour\"}],\"contourcarpet\":[{\"colorbar\":{\"outlinewidth\":0,\"ticks\":\"\"},\"type\":\"contourcarpet\"}],\"heatmap\":[{\"colorbar\":{\"outlinewidth\":0,\"ticks\":\"\"},\"colorscale\":[[0.0,\"#0d0887\"],[0.1111111111111111,\"#46039f\"],[0.2222222222222222,\"#7201a8\"],[0.3333333333333333,\"#9c179e\"],[0.4444444444444444,\"#bd3786\"],[0.5555555555555556,\"#d8576b\"],[0.6666666666666666,\"#ed7953\"],[0.7777777777777778,\"#fb9f3a\"],[0.8888888888888888,\"#fdca26\"],[1.0,\"#f0f921\"]],\"type\":\"heatmap\"}],\"heatmapgl\":[{\"colorbar\":{\"outlinewidth\":0,\"ticks\":\"\"},\"colorscale\":[[0.0,\"#0d0887\"],[0.1111111111111111,\"#46039f\"],[0.2222222222222222,\"#7201a8\"],[0.3333333333333333,\"#9c179e\"],[0.4444444444444444,\"#bd3786\"],[0.5555555555555556,\"#d8576b\"],[0.6666666666666666,\"#ed7953\"],[0.7777777777777778,\"#fb9f3a\"],[0.8888888888888888,\"#fdca26\"],[1.0,\"#f0f921\"]],\"type\":\"heatmapgl\"}],\"histogram\":[{\"marker\":{\"pattern\":{\"fillmode\":\"overlay\",\"size\":10,\"solidity\":0.2}},\"type\":\"histogram\"}],\"histogram2d\":[{\"colorbar\":{\"outlinewidth\":0,\"ticks\":\"\"},\"colorscale\":[[0.0,\"#0d0887\"],[0.1111111111111111,\"#46039f\"],[0.2222222222222222,\"#7201a8\"],[0.3333333333333333,\"#9c179e\"],[0.4444444444444444,\"#bd3786\"],[0.5555555555555556,\"#d8576b\"],[0.6666666666666666,\"#ed7953\"],[0.7777777777777778,\"#fb9f3a\"],[0.8888888888888888,\"#fdca26\"],[1.0,\"#f0f921\"]],\"type\":\"histogram2d\"}],\"histogram2dcontour\":[{\"colorbar\":{\"outlinewidth\":0,\"ticks\":\"\"},\"colorscale\":[[0.0,\"#0d0887\"],[0.1111111111111111,\"#46039f\"],[0.2222222222222222,\"#7201a8\"],[0.3333333333333333,\"#9c179e\"],[0.4444444444444444,\"#bd3786\"],[0.5555555555555556,\"#d8576b\"],[0.6666666666666666,\"#ed7953\"],[0.7777777777777778,\"#fb9f3a\"],[0.8888888888888888,\"#fdca26\"],[1.0,\"#f0f921\"]],\"type\":\"histogram2dcontour\"}],\"mesh3d\":[{\"colorbar\":{\"outlinewidth\":0,\"ticks\":\"\"},\"type\":\"mesh3d\"}],\"parcoords\":[{\"line\":{\"colorbar\":{\"outlinewidth\":0,\"ticks\":\"\"}},\"type\":\"parcoords\"}],\"pie\":[{\"automargin\":true,\"type\":\"pie\"}],\"scatter\":[{\"marker\":{\"colorbar\":{\"outlinewidth\":0,\"ticks\":\"\"}},\"type\":\"scatter\"}],\"scatter3d\":[{\"line\":{\"colorbar\":{\"outlinewidth\":0,\"ticks\":\"\"}},\"marker\":{\"colorbar\":{\"outlinewidth\":0,\"ticks\":\"\"}},\"type\":\"scatter3d\"}],\"scattercarpet\":[{\"marker\":{\"colorbar\":{\"outlinewidth\":0,\"ticks\":\"\"}},\"type\":\"scattercarpet\"}],\"scattergeo\":[{\"marker\":{\"colorbar\":{\"outlinewidth\":0,\"ticks\":\"\"}},\"type\":\"scattergeo\"}],\"scattergl\":[{\"marker\":{\"colorbar\":{\"outlinewidth\":0,\"ticks\":\"\"}},\"type\":\"scattergl\"}],\"scattermapbox\":[{\"marker\":{\"colorbar\":{\"outlinewidth\":0,\"ticks\":\"\"}},\"type\":\"scattermapbox\"}],\"scatterpolar\":[{\"marker\":{\"colorbar\":{\"outlinewidth\":0,\"ticks\":\"\"}},\"type\":\"scatterpolar\"}],\"scatterpolargl\":[{\"marker\":{\"colorbar\":{\"outlinewidth\":0,\"ticks\":\"\"}},\"type\":\"scatterpolargl\"}],\"scatterternary\":[{\"marker\":{\"colorbar\":{\"outlinewidth\":0,\"ticks\":\"\"}},\"type\":\"scatterternary\"}],\"surface\":[{\"colorbar\":{\"outlinewidth\":0,\"ticks\":\"\"},\"colorscale\":[[0.0,\"#0d0887\"],[0.1111111111111111,\"#46039f\"],[0.2222222222222222,\"#7201a8\"],[0.3333333333333333,\"#9c179e\"],[0.4444444444444444,\"#bd3786\"],[0.5555555555555556,\"#d8576b\"],[0.6666666666666666,\"#ed7953\"],[0.7777777777777778,\"#fb9f3a\"],[0.8888888888888888,\"#fdca26\"],[1.0,\"#f0f921\"]],\"type\":\"surface\"}],\"table\":[{\"cells\":{\"fill\":{\"color\":\"#EBF0F8\"},\"line\":{\"color\":\"white\"}},\"header\":{\"fill\":{\"color\":\"#C8D4E3\"},\"line\":{\"color\":\"white\"}},\"type\":\"table\"}]},\"layout\":{\"annotationdefaults\":{\"arrowcolor\":\"#2a3f5f\",\"arrowhead\":0,\"arrowwidth\":1},\"autotypenumbers\":\"strict\",\"coloraxis\":{\"colorbar\":{\"outlinewidth\":0,\"ticks\":\"\"}},\"colorscale\":{\"diverging\":[[0,\"#8e0152\"],[0.1,\"#c51b7d\"],[0.2,\"#de77ae\"],[0.3,\"#f1b6da\"],[0.4,\"#fde0ef\"],[0.5,\"#f7f7f7\"],[0.6,\"#e6f5d0\"],[0.7,\"#b8e186\"],[0.8,\"#7fbc41\"],[0.9,\"#4d9221\"],[1,\"#276419\"]],\"sequential\":[[0.0,\"#0d0887\"],[0.1111111111111111,\"#46039f\"],[0.2222222222222222,\"#7201a8\"],[0.3333333333333333,\"#9c179e\"],[0.4444444444444444,\"#bd3786\"],[0.5555555555555556,\"#d8576b\"],[0.6666666666666666,\"#ed7953\"],[0.7777777777777778,\"#fb9f3a\"],[0.8888888888888888,\"#fdca26\"],[1.0,\"#f0f921\"]],\"sequentialminus\":[[0.0,\"#0d0887\"],[0.1111111111111111,\"#46039f\"],[0.2222222222222222,\"#7201a8\"],[0.3333333333333333,\"#9c179e\"],[0.4444444444444444,\"#bd3786\"],[0.5555555555555556,\"#d8576b\"],[0.6666666666666666,\"#ed7953\"],[0.7777777777777778,\"#fb9f3a\"],[0.8888888888888888,\"#fdca26\"],[1.0,\"#f0f921\"]]},\"colorway\":[\"#636efa\",\"#EF553B\",\"#00cc96\",\"#ab63fa\",\"#FFA15A\",\"#19d3f3\",\"#FF6692\",\"#B6E880\",\"#FF97FF\",\"#FECB52\"],\"font\":{\"color\":\"#2a3f5f\"},\"geo\":{\"bgcolor\":\"white\",\"lakecolor\":\"white\",\"landcolor\":\"#E5ECF6\",\"showlakes\":true,\"showland\":true,\"subunitcolor\":\"white\"},\"hoverlabel\":{\"align\":\"left\"},\"hovermode\":\"closest\",\"mapbox\":{\"style\":\"light\"},\"paper_bgcolor\":\"white\",\"plot_bgcolor\":\"#E5ECF6\",\"polar\":{\"angularaxis\":{\"gridcolor\":\"white\",\"linecolor\":\"white\",\"ticks\":\"\"},\"bgcolor\":\"#E5ECF6\",\"radialaxis\":{\"gridcolor\":\"white\",\"linecolor\":\"white\",\"ticks\":\"\"}},\"scene\":{\"xaxis\":{\"backgroundcolor\":\"#E5ECF6\",\"gridcolor\":\"white\",\"gridwidth\":2,\"linecolor\":\"white\",\"showbackground\":true,\"ticks\":\"\",\"zerolinecolor\":\"white\"},\"yaxis\":{\"backgroundcolor\":\"#E5ECF6\",\"gridcolor\":\"white\",\"gridwidth\":2,\"linecolor\":\"white\",\"showbackground\":true,\"ticks\":\"\",\"zerolinecolor\":\"white\"},\"zaxis\":{\"backgroundcolor\":\"#E5ECF6\",\"gridcolor\":\"white\",\"gridwidth\":2,\"linecolor\":\"white\",\"showbackground\":true,\"ticks\":\"\",\"zerolinecolor\":\"white\"}},\"shapedefaults\":{\"line\":{\"color\":\"#2a3f5f\"}},\"ternary\":{\"aaxis\":{\"gridcolor\":\"white\",\"linecolor\":\"white\",\"ticks\":\"\"},\"baxis\":{\"gridcolor\":\"white\",\"linecolor\":\"white\",\"ticks\":\"\"},\"bgcolor\":\"#E5ECF6\",\"caxis\":{\"gridcolor\":\"white\",\"linecolor\":\"white\",\"ticks\":\"\"}},\"title\":{\"x\":0.05},\"xaxis\":{\"automargin\":true,\"gridcolor\":\"white\",\"linecolor\":\"white\",\"ticks\":\"\",\"title\":{\"standoff\":15},\"zerolinecolor\":\"white\",\"zerolinewidth\":2},\"yaxis\":{\"automargin\":true,\"gridcolor\":\"white\",\"linecolor\":\"white\",\"ticks\":\"\",\"title\":{\"standoff\":15},\"zerolinecolor\":\"white\",\"zerolinewidth\":2}}},\"mapbox\":{\"domain\":{\"x\":[0.0,1.0],\"y\":[0.0,1.0]},\"center\":{\"lat\":51.793729086249996,\"lon\":10.2244575873125},\"zoom\":2,\"style\":\"carto-positron\"},\"coloraxis\":{\"colorbar\":{\"title\":{\"text\":\"views\"}},\"colorscale\":[[0.0,\"#000004\"],[0.1111111111111111,\"#1b0c41\"],[0.2222222222222222,\"#4a0c6b\"],[0.3333333333333333,\"#781c6d\"],[0.4444444444444444,\"#a52c60\"],[0.5555555555555556,\"#cf4446\"],[0.6666666666666666,\"#ed6925\"],[0.7777777777777778,\"#fb9b06\"],[0.8888888888888888,\"#f7d13d\"],[1.0,\"#fcffa4\"]]},\"legend\":{\"tracegroupgap\":0,\"itemsizing\":\"constant\"},\"title\":{\"text\":\"Views de videos seg\\u00fan regiones en Alemania\"}},                        {\"responsive\": true}                    ).then(function(){\n",
              "                            \n",
              "var gd = document.getElementById('bf556da7-04a2-44bd-a0a7-309a762dfef9');\n",
              "var x = new MutationObserver(function (mutations, observer) {{\n",
              "        var display = window.getComputedStyle(gd).display;\n",
              "        if (!display || display === 'none') {{\n",
              "            console.log([gd, 'removed!']);\n",
              "            Plotly.purge(gd);\n",
              "            observer.disconnect();\n",
              "        }}\n",
              "}});\n",
              "\n",
              "// Listen for the removal of the full notebook cells\n",
              "var notebookContainer = gd.closest('#notebook-container');\n",
              "if (notebookContainer) {{\n",
              "    x.observe(notebookContainer, {childList: true});\n",
              "}}\n",
              "\n",
              "// Listen for the clearing of the current output cell\n",
              "var outputEl = gd.closest('.output');\n",
              "if (outputEl) {{\n",
              "    x.observe(outputEl, {childList: true});\n",
              "}}\n",
              "\n",
              "                        })                };                            </script>        </div>\n",
              "</body>\n",
              "</html>"
            ]
          },
          "metadata": {}
        }
      ]
    },
    {
      "cell_type": "markdown",
      "source": [
        "Mapa de likes por región"
      ],
      "metadata": {
        "id": "TB13pigOJE6-"
      }
    },
    {
      "cell_type": "code",
      "source": [
        "fig = px.scatter_mapbox(\n",
        "    state_df, \n",
        "    lat='lat',\n",
        "    lon='lon',\n",
        "    color='likes',\n",
        "    color_continuous_scale='Inferno',\n",
        "    hover_name='state',\n",
        "    zoom=2,\n",
        "    size=\"likes\",\n",
        "    size_max=15,\n",
        "    mapbox_style='carto-positron',\n",
        "    title='Likes de videos según regiones en Alemania',\n",
        ")\n",
        "fig.show()"
      ],
      "metadata": {
        "colab": {
          "base_uri": "https://localhost:8080/",
          "height": 542
        },
        "id": "FKkzMNhRHDbm",
        "outputId": "3b83f9ce-a75e-4afd-88aa-7680d9bddc88"
      },
      "execution_count": 57,
      "outputs": [
        {
          "output_type": "display_data",
          "data": {
            "text/html": [
              "<html>\n",
              "<head><meta charset=\"utf-8\" /></head>\n",
              "<body>\n",
              "    <div>            <script src=\"https://cdnjs.cloudflare.com/ajax/libs/mathjax/2.7.5/MathJax.js?config=TeX-AMS-MML_SVG\"></script><script type=\"text/javascript\">if (window.MathJax) {MathJax.Hub.Config({SVG: {font: \"STIX-Web\"}});}</script>                <script type=\"text/javascript\">window.PlotlyConfig = {MathJaxConfig: 'local'};</script>\n",
              "        <script src=\"https://cdn.plot.ly/plotly-2.8.3.min.js\"></script>                <div id=\"319421fa-1a13-4aa3-80e7-f5fbd5bd5c23\" class=\"plotly-graph-div\" style=\"height:525px; width:100%;\"></div>            <script type=\"text/javascript\">                                    window.PLOTLYENV=window.PLOTLYENV || {};                                    if (document.getElementById(\"319421fa-1a13-4aa3-80e7-f5fbd5bd5c23\")) {                    Plotly.newPlot(                        \"319421fa-1a13-4aa3-80e7-f5fbd5bd5c23\",                        [{\"hovertemplate\":\"<b>%{hovertext}</b><br><br>likes=%{marker.color}<br>lat=%{lat}<br>lon=%{lon}<extra></extra>\",\"hovertext\":[\"Baden Wurttemberg\",\"Bayern\",\"Berlin\",\"Brandenburg\",\"Bremen\",\"Hamburg\",\"Hessen\",\"Mecklenburg Vorpommern\",\"Niedersachsen\",\"Nordrhein Westfalen\",\"Rheinland Pfalz\",\"Saarland\",\"Sachsen\",\"Sachsen Anhalt\",\"Schleswig Holstein\",\"Thuringen\"],\"lat\":[48.99999229,50.26660748,52.52181866,51.7704175,53.55043805,53.55002464,51.30000694,53.63330408,53.1299986,52.02998822,49.98247246,49.25039044,50.82998395,52.13042137,54.78374778,50.97005292],\"legendgroup\":\"\",\"lon\":[8.399993448,10.96660681,13.40154862,14.32996741,8.579982461,9.999999144,9.500029662,11.41669861,8.220004434,8.530011351,8.273219156,6.970003213,12.91997595,11.62000362,9.433315388,11.02996212],\"marker\":{\"color\":[18137171,17281776,18439970,18009783,18116460,19120076,18200266,16992068,17214183,17928851,18281123,16981991,16775980,17410617,18228160,18745334],\"coloraxis\":\"coloraxis\",\"size\":[18137171,17281776,18439970,18009783,18116460,19120076,18200266,16992068,17214183,17928851,18281123,16981991,16775980,17410617,18228160,18745334],\"sizemode\":\"area\",\"sizeref\":84978.11555555556},\"mode\":\"markers\",\"name\":\"\",\"showlegend\":false,\"subplot\":\"mapbox\",\"type\":\"scattermapbox\"}],                        {\"template\":{\"data\":{\"bar\":[{\"error_x\":{\"color\":\"#2a3f5f\"},\"error_y\":{\"color\":\"#2a3f5f\"},\"marker\":{\"line\":{\"color\":\"#E5ECF6\",\"width\":0.5},\"pattern\":{\"fillmode\":\"overlay\",\"size\":10,\"solidity\":0.2}},\"type\":\"bar\"}],\"barpolar\":[{\"marker\":{\"line\":{\"color\":\"#E5ECF6\",\"width\":0.5},\"pattern\":{\"fillmode\":\"overlay\",\"size\":10,\"solidity\":0.2}},\"type\":\"barpolar\"}],\"carpet\":[{\"aaxis\":{\"endlinecolor\":\"#2a3f5f\",\"gridcolor\":\"white\",\"linecolor\":\"white\",\"minorgridcolor\":\"white\",\"startlinecolor\":\"#2a3f5f\"},\"baxis\":{\"endlinecolor\":\"#2a3f5f\",\"gridcolor\":\"white\",\"linecolor\":\"white\",\"minorgridcolor\":\"white\",\"startlinecolor\":\"#2a3f5f\"},\"type\":\"carpet\"}],\"choropleth\":[{\"colorbar\":{\"outlinewidth\":0,\"ticks\":\"\"},\"type\":\"choropleth\"}],\"contour\":[{\"colorbar\":{\"outlinewidth\":0,\"ticks\":\"\"},\"colorscale\":[[0.0,\"#0d0887\"],[0.1111111111111111,\"#46039f\"],[0.2222222222222222,\"#7201a8\"],[0.3333333333333333,\"#9c179e\"],[0.4444444444444444,\"#bd3786\"],[0.5555555555555556,\"#d8576b\"],[0.6666666666666666,\"#ed7953\"],[0.7777777777777778,\"#fb9f3a\"],[0.8888888888888888,\"#fdca26\"],[1.0,\"#f0f921\"]],\"type\":\"contour\"}],\"contourcarpet\":[{\"colorbar\":{\"outlinewidth\":0,\"ticks\":\"\"},\"type\":\"contourcarpet\"}],\"heatmap\":[{\"colorbar\":{\"outlinewidth\":0,\"ticks\":\"\"},\"colorscale\":[[0.0,\"#0d0887\"],[0.1111111111111111,\"#46039f\"],[0.2222222222222222,\"#7201a8\"],[0.3333333333333333,\"#9c179e\"],[0.4444444444444444,\"#bd3786\"],[0.5555555555555556,\"#d8576b\"],[0.6666666666666666,\"#ed7953\"],[0.7777777777777778,\"#fb9f3a\"],[0.8888888888888888,\"#fdca26\"],[1.0,\"#f0f921\"]],\"type\":\"heatmap\"}],\"heatmapgl\":[{\"colorbar\":{\"outlinewidth\":0,\"ticks\":\"\"},\"colorscale\":[[0.0,\"#0d0887\"],[0.1111111111111111,\"#46039f\"],[0.2222222222222222,\"#7201a8\"],[0.3333333333333333,\"#9c179e\"],[0.4444444444444444,\"#bd3786\"],[0.5555555555555556,\"#d8576b\"],[0.6666666666666666,\"#ed7953\"],[0.7777777777777778,\"#fb9f3a\"],[0.8888888888888888,\"#fdca26\"],[1.0,\"#f0f921\"]],\"type\":\"heatmapgl\"}],\"histogram\":[{\"marker\":{\"pattern\":{\"fillmode\":\"overlay\",\"size\":10,\"solidity\":0.2}},\"type\":\"histogram\"}],\"histogram2d\":[{\"colorbar\":{\"outlinewidth\":0,\"ticks\":\"\"},\"colorscale\":[[0.0,\"#0d0887\"],[0.1111111111111111,\"#46039f\"],[0.2222222222222222,\"#7201a8\"],[0.3333333333333333,\"#9c179e\"],[0.4444444444444444,\"#bd3786\"],[0.5555555555555556,\"#d8576b\"],[0.6666666666666666,\"#ed7953\"],[0.7777777777777778,\"#fb9f3a\"],[0.8888888888888888,\"#fdca26\"],[1.0,\"#f0f921\"]],\"type\":\"histogram2d\"}],\"histogram2dcontour\":[{\"colorbar\":{\"outlinewidth\":0,\"ticks\":\"\"},\"colorscale\":[[0.0,\"#0d0887\"],[0.1111111111111111,\"#46039f\"],[0.2222222222222222,\"#7201a8\"],[0.3333333333333333,\"#9c179e\"],[0.4444444444444444,\"#bd3786\"],[0.5555555555555556,\"#d8576b\"],[0.6666666666666666,\"#ed7953\"],[0.7777777777777778,\"#fb9f3a\"],[0.8888888888888888,\"#fdca26\"],[1.0,\"#f0f921\"]],\"type\":\"histogram2dcontour\"}],\"mesh3d\":[{\"colorbar\":{\"outlinewidth\":0,\"ticks\":\"\"},\"type\":\"mesh3d\"}],\"parcoords\":[{\"line\":{\"colorbar\":{\"outlinewidth\":0,\"ticks\":\"\"}},\"type\":\"parcoords\"}],\"pie\":[{\"automargin\":true,\"type\":\"pie\"}],\"scatter\":[{\"marker\":{\"colorbar\":{\"outlinewidth\":0,\"ticks\":\"\"}},\"type\":\"scatter\"}],\"scatter3d\":[{\"line\":{\"colorbar\":{\"outlinewidth\":0,\"ticks\":\"\"}},\"marker\":{\"colorbar\":{\"outlinewidth\":0,\"ticks\":\"\"}},\"type\":\"scatter3d\"}],\"scattercarpet\":[{\"marker\":{\"colorbar\":{\"outlinewidth\":0,\"ticks\":\"\"}},\"type\":\"scattercarpet\"}],\"scattergeo\":[{\"marker\":{\"colorbar\":{\"outlinewidth\":0,\"ticks\":\"\"}},\"type\":\"scattergeo\"}],\"scattergl\":[{\"marker\":{\"colorbar\":{\"outlinewidth\":0,\"ticks\":\"\"}},\"type\":\"scattergl\"}],\"scattermapbox\":[{\"marker\":{\"colorbar\":{\"outlinewidth\":0,\"ticks\":\"\"}},\"type\":\"scattermapbox\"}],\"scatterpolar\":[{\"marker\":{\"colorbar\":{\"outlinewidth\":0,\"ticks\":\"\"}},\"type\":\"scatterpolar\"}],\"scatterpolargl\":[{\"marker\":{\"colorbar\":{\"outlinewidth\":0,\"ticks\":\"\"}},\"type\":\"scatterpolargl\"}],\"scatterternary\":[{\"marker\":{\"colorbar\":{\"outlinewidth\":0,\"ticks\":\"\"}},\"type\":\"scatterternary\"}],\"surface\":[{\"colorbar\":{\"outlinewidth\":0,\"ticks\":\"\"},\"colorscale\":[[0.0,\"#0d0887\"],[0.1111111111111111,\"#46039f\"],[0.2222222222222222,\"#7201a8\"],[0.3333333333333333,\"#9c179e\"],[0.4444444444444444,\"#bd3786\"],[0.5555555555555556,\"#d8576b\"],[0.6666666666666666,\"#ed7953\"],[0.7777777777777778,\"#fb9f3a\"],[0.8888888888888888,\"#fdca26\"],[1.0,\"#f0f921\"]],\"type\":\"surface\"}],\"table\":[{\"cells\":{\"fill\":{\"color\":\"#EBF0F8\"},\"line\":{\"color\":\"white\"}},\"header\":{\"fill\":{\"color\":\"#C8D4E3\"},\"line\":{\"color\":\"white\"}},\"type\":\"table\"}]},\"layout\":{\"annotationdefaults\":{\"arrowcolor\":\"#2a3f5f\",\"arrowhead\":0,\"arrowwidth\":1},\"autotypenumbers\":\"strict\",\"coloraxis\":{\"colorbar\":{\"outlinewidth\":0,\"ticks\":\"\"}},\"colorscale\":{\"diverging\":[[0,\"#8e0152\"],[0.1,\"#c51b7d\"],[0.2,\"#de77ae\"],[0.3,\"#f1b6da\"],[0.4,\"#fde0ef\"],[0.5,\"#f7f7f7\"],[0.6,\"#e6f5d0\"],[0.7,\"#b8e186\"],[0.8,\"#7fbc41\"],[0.9,\"#4d9221\"],[1,\"#276419\"]],\"sequential\":[[0.0,\"#0d0887\"],[0.1111111111111111,\"#46039f\"],[0.2222222222222222,\"#7201a8\"],[0.3333333333333333,\"#9c179e\"],[0.4444444444444444,\"#bd3786\"],[0.5555555555555556,\"#d8576b\"],[0.6666666666666666,\"#ed7953\"],[0.7777777777777778,\"#fb9f3a\"],[0.8888888888888888,\"#fdca26\"],[1.0,\"#f0f921\"]],\"sequentialminus\":[[0.0,\"#0d0887\"],[0.1111111111111111,\"#46039f\"],[0.2222222222222222,\"#7201a8\"],[0.3333333333333333,\"#9c179e\"],[0.4444444444444444,\"#bd3786\"],[0.5555555555555556,\"#d8576b\"],[0.6666666666666666,\"#ed7953\"],[0.7777777777777778,\"#fb9f3a\"],[0.8888888888888888,\"#fdca26\"],[1.0,\"#f0f921\"]]},\"colorway\":[\"#636efa\",\"#EF553B\",\"#00cc96\",\"#ab63fa\",\"#FFA15A\",\"#19d3f3\",\"#FF6692\",\"#B6E880\",\"#FF97FF\",\"#FECB52\"],\"font\":{\"color\":\"#2a3f5f\"},\"geo\":{\"bgcolor\":\"white\",\"lakecolor\":\"white\",\"landcolor\":\"#E5ECF6\",\"showlakes\":true,\"showland\":true,\"subunitcolor\":\"white\"},\"hoverlabel\":{\"align\":\"left\"},\"hovermode\":\"closest\",\"mapbox\":{\"style\":\"light\"},\"paper_bgcolor\":\"white\",\"plot_bgcolor\":\"#E5ECF6\",\"polar\":{\"angularaxis\":{\"gridcolor\":\"white\",\"linecolor\":\"white\",\"ticks\":\"\"},\"bgcolor\":\"#E5ECF6\",\"radialaxis\":{\"gridcolor\":\"white\",\"linecolor\":\"white\",\"ticks\":\"\"}},\"scene\":{\"xaxis\":{\"backgroundcolor\":\"#E5ECF6\",\"gridcolor\":\"white\",\"gridwidth\":2,\"linecolor\":\"white\",\"showbackground\":true,\"ticks\":\"\",\"zerolinecolor\":\"white\"},\"yaxis\":{\"backgroundcolor\":\"#E5ECF6\",\"gridcolor\":\"white\",\"gridwidth\":2,\"linecolor\":\"white\",\"showbackground\":true,\"ticks\":\"\",\"zerolinecolor\":\"white\"},\"zaxis\":{\"backgroundcolor\":\"#E5ECF6\",\"gridcolor\":\"white\",\"gridwidth\":2,\"linecolor\":\"white\",\"showbackground\":true,\"ticks\":\"\",\"zerolinecolor\":\"white\"}},\"shapedefaults\":{\"line\":{\"color\":\"#2a3f5f\"}},\"ternary\":{\"aaxis\":{\"gridcolor\":\"white\",\"linecolor\":\"white\",\"ticks\":\"\"},\"baxis\":{\"gridcolor\":\"white\",\"linecolor\":\"white\",\"ticks\":\"\"},\"bgcolor\":\"#E5ECF6\",\"caxis\":{\"gridcolor\":\"white\",\"linecolor\":\"white\",\"ticks\":\"\"}},\"title\":{\"x\":0.05},\"xaxis\":{\"automargin\":true,\"gridcolor\":\"white\",\"linecolor\":\"white\",\"ticks\":\"\",\"title\":{\"standoff\":15},\"zerolinecolor\":\"white\",\"zerolinewidth\":2},\"yaxis\":{\"automargin\":true,\"gridcolor\":\"white\",\"linecolor\":\"white\",\"ticks\":\"\",\"title\":{\"standoff\":15},\"zerolinecolor\":\"white\",\"zerolinewidth\":2}}},\"mapbox\":{\"domain\":{\"x\":[0.0,1.0],\"y\":[0.0,1.0]},\"center\":{\"lat\":51.793729086249996,\"lon\":10.2244575873125},\"zoom\":2,\"style\":\"carto-positron\"},\"coloraxis\":{\"colorbar\":{\"title\":{\"text\":\"likes\"}},\"colorscale\":[[0.0,\"#000004\"],[0.1111111111111111,\"#1b0c41\"],[0.2222222222222222,\"#4a0c6b\"],[0.3333333333333333,\"#781c6d\"],[0.4444444444444444,\"#a52c60\"],[0.5555555555555556,\"#cf4446\"],[0.6666666666666666,\"#ed6925\"],[0.7777777777777778,\"#fb9b06\"],[0.8888888888888888,\"#f7d13d\"],[1.0,\"#fcffa4\"]]},\"legend\":{\"tracegroupgap\":0,\"itemsizing\":\"constant\"},\"title\":{\"text\":\"Likes de videos seg\\u00fan regiones en Alemania\"}},                        {\"responsive\": true}                    ).then(function(){\n",
              "                            \n",
              "var gd = document.getElementById('319421fa-1a13-4aa3-80e7-f5fbd5bd5c23');\n",
              "var x = new MutationObserver(function (mutations, observer) {{\n",
              "        var display = window.getComputedStyle(gd).display;\n",
              "        if (!display || display === 'none') {{\n",
              "            console.log([gd, 'removed!']);\n",
              "            Plotly.purge(gd);\n",
              "            observer.disconnect();\n",
              "        }}\n",
              "}});\n",
              "\n",
              "// Listen for the removal of the full notebook cells\n",
              "var notebookContainer = gd.closest('#notebook-container');\n",
              "if (notebookContainer) {{\n",
              "    x.observe(notebookContainer, {childList: true});\n",
              "}}\n",
              "\n",
              "// Listen for the clearing of the current output cell\n",
              "var outputEl = gd.closest('.output');\n",
              "if (outputEl) {{\n",
              "    x.observe(outputEl, {childList: true});\n",
              "}}\n",
              "\n",
              "                        })                };                            </script>        </div>\n",
              "</body>\n",
              "</html>"
            ]
          },
          "metadata": {}
        }
      ]
    },
    {
      "cell_type": "markdown",
      "source": [
        "Mapa dislikes por región"
      ],
      "metadata": {
        "id": "z0Li-gckJtgf"
      }
    },
    {
      "cell_type": "code",
      "source": [
        "fig = px.scatter_mapbox(\n",
        "    state_df, \n",
        "    lat='lat',\n",
        "    lon='lon',\n",
        "    color='dislikes',\n",
        "    color_continuous_scale='Inferno',\n",
        "    hover_name='state',\n",
        "    zoom=2,\n",
        "    size=\"dislikes\",\n",
        "    size_max=15,\n",
        "    mapbox_style='carto-positron',\n",
        "    title='Dislikes de videos según regiones en Alemania',\n",
        ")\n",
        "fig.show()"
      ],
      "metadata": {
        "colab": {
          "base_uri": "https://localhost:8080/",
          "height": 542
        },
        "id": "rKfA4DrKJS6b",
        "outputId": "966891ab-ffd3-4da2-f065-1c3fdcfceb37"
      },
      "execution_count": 58,
      "outputs": [
        {
          "output_type": "display_data",
          "data": {
            "text/html": [
              "<html>\n",
              "<head><meta charset=\"utf-8\" /></head>\n",
              "<body>\n",
              "    <div>            <script src=\"https://cdnjs.cloudflare.com/ajax/libs/mathjax/2.7.5/MathJax.js?config=TeX-AMS-MML_SVG\"></script><script type=\"text/javascript\">if (window.MathJax) {MathJax.Hub.Config({SVG: {font: \"STIX-Web\"}});}</script>                <script type=\"text/javascript\">window.PlotlyConfig = {MathJaxConfig: 'local'};</script>\n",
              "        <script src=\"https://cdn.plot.ly/plotly-2.8.3.min.js\"></script>                <div id=\"8c6d3aed-ce83-479e-ae65-08bec0c1fdf4\" class=\"plotly-graph-div\" style=\"height:525px; width:100%;\"></div>            <script type=\"text/javascript\">                                    window.PLOTLYENV=window.PLOTLYENV || {};                                    if (document.getElementById(\"8c6d3aed-ce83-479e-ae65-08bec0c1fdf4\")) {                    Plotly.newPlot(                        \"8c6d3aed-ce83-479e-ae65-08bec0c1fdf4\",                        [{\"hovertemplate\":\"<b>%{hovertext}</b><br><br>dislikes=%{marker.color}<br>lat=%{lat}<br>lon=%{lon}<extra></extra>\",\"hovertext\":[\"Baden Wurttemberg\",\"Bayern\",\"Berlin\",\"Brandenburg\",\"Bremen\",\"Hamburg\",\"Hessen\",\"Mecklenburg Vorpommern\",\"Niedersachsen\",\"Nordrhein Westfalen\",\"Rheinland Pfalz\",\"Saarland\",\"Sachsen\",\"Sachsen Anhalt\",\"Schleswig Holstein\",\"Thuringen\"],\"lat\":[48.99999229,50.26660748,52.52181866,51.7704175,53.55043805,53.55002464,51.30000694,53.63330408,53.1299986,52.02998822,49.98247246,49.25039044,50.82998395,52.13042137,54.78374778,50.97005292],\"legendgroup\":\"\",\"lon\":[8.399993448,10.96660681,13.40154862,14.32996741,8.579982461,9.999999144,9.500029662,11.41669861,8.220004434,8.530011351,8.273219156,6.970003213,12.91997595,11.62000362,9.433315388,11.02996212],\"marker\":{\"color\":[1000173,931775,955406,938231,989328,1045707,967325,910017,930932,941556,985273,903479,936171,944140,981329,998284],\"coloraxis\":\"coloraxis\",\"size\":[1000173,931775,955406,938231,989328,1045707,967325,910017,930932,941556,985273,903479,936171,944140,981329,998284],\"sizemode\":\"area\",\"sizeref\":4647.586666666667},\"mode\":\"markers\",\"name\":\"\",\"showlegend\":false,\"subplot\":\"mapbox\",\"type\":\"scattermapbox\"}],                        {\"template\":{\"data\":{\"bar\":[{\"error_x\":{\"color\":\"#2a3f5f\"},\"error_y\":{\"color\":\"#2a3f5f\"},\"marker\":{\"line\":{\"color\":\"#E5ECF6\",\"width\":0.5},\"pattern\":{\"fillmode\":\"overlay\",\"size\":10,\"solidity\":0.2}},\"type\":\"bar\"}],\"barpolar\":[{\"marker\":{\"line\":{\"color\":\"#E5ECF6\",\"width\":0.5},\"pattern\":{\"fillmode\":\"overlay\",\"size\":10,\"solidity\":0.2}},\"type\":\"barpolar\"}],\"carpet\":[{\"aaxis\":{\"endlinecolor\":\"#2a3f5f\",\"gridcolor\":\"white\",\"linecolor\":\"white\",\"minorgridcolor\":\"white\",\"startlinecolor\":\"#2a3f5f\"},\"baxis\":{\"endlinecolor\":\"#2a3f5f\",\"gridcolor\":\"white\",\"linecolor\":\"white\",\"minorgridcolor\":\"white\",\"startlinecolor\":\"#2a3f5f\"},\"type\":\"carpet\"}],\"choropleth\":[{\"colorbar\":{\"outlinewidth\":0,\"ticks\":\"\"},\"type\":\"choropleth\"}],\"contour\":[{\"colorbar\":{\"outlinewidth\":0,\"ticks\":\"\"},\"colorscale\":[[0.0,\"#0d0887\"],[0.1111111111111111,\"#46039f\"],[0.2222222222222222,\"#7201a8\"],[0.3333333333333333,\"#9c179e\"],[0.4444444444444444,\"#bd3786\"],[0.5555555555555556,\"#d8576b\"],[0.6666666666666666,\"#ed7953\"],[0.7777777777777778,\"#fb9f3a\"],[0.8888888888888888,\"#fdca26\"],[1.0,\"#f0f921\"]],\"type\":\"contour\"}],\"contourcarpet\":[{\"colorbar\":{\"outlinewidth\":0,\"ticks\":\"\"},\"type\":\"contourcarpet\"}],\"heatmap\":[{\"colorbar\":{\"outlinewidth\":0,\"ticks\":\"\"},\"colorscale\":[[0.0,\"#0d0887\"],[0.1111111111111111,\"#46039f\"],[0.2222222222222222,\"#7201a8\"],[0.3333333333333333,\"#9c179e\"],[0.4444444444444444,\"#bd3786\"],[0.5555555555555556,\"#d8576b\"],[0.6666666666666666,\"#ed7953\"],[0.7777777777777778,\"#fb9f3a\"],[0.8888888888888888,\"#fdca26\"],[1.0,\"#f0f921\"]],\"type\":\"heatmap\"}],\"heatmapgl\":[{\"colorbar\":{\"outlinewidth\":0,\"ticks\":\"\"},\"colorscale\":[[0.0,\"#0d0887\"],[0.1111111111111111,\"#46039f\"],[0.2222222222222222,\"#7201a8\"],[0.3333333333333333,\"#9c179e\"],[0.4444444444444444,\"#bd3786\"],[0.5555555555555556,\"#d8576b\"],[0.6666666666666666,\"#ed7953\"],[0.7777777777777778,\"#fb9f3a\"],[0.8888888888888888,\"#fdca26\"],[1.0,\"#f0f921\"]],\"type\":\"heatmapgl\"}],\"histogram\":[{\"marker\":{\"pattern\":{\"fillmode\":\"overlay\",\"size\":10,\"solidity\":0.2}},\"type\":\"histogram\"}],\"histogram2d\":[{\"colorbar\":{\"outlinewidth\":0,\"ticks\":\"\"},\"colorscale\":[[0.0,\"#0d0887\"],[0.1111111111111111,\"#46039f\"],[0.2222222222222222,\"#7201a8\"],[0.3333333333333333,\"#9c179e\"],[0.4444444444444444,\"#bd3786\"],[0.5555555555555556,\"#d8576b\"],[0.6666666666666666,\"#ed7953\"],[0.7777777777777778,\"#fb9f3a\"],[0.8888888888888888,\"#fdca26\"],[1.0,\"#f0f921\"]],\"type\":\"histogram2d\"}],\"histogram2dcontour\":[{\"colorbar\":{\"outlinewidth\":0,\"ticks\":\"\"},\"colorscale\":[[0.0,\"#0d0887\"],[0.1111111111111111,\"#46039f\"],[0.2222222222222222,\"#7201a8\"],[0.3333333333333333,\"#9c179e\"],[0.4444444444444444,\"#bd3786\"],[0.5555555555555556,\"#d8576b\"],[0.6666666666666666,\"#ed7953\"],[0.7777777777777778,\"#fb9f3a\"],[0.8888888888888888,\"#fdca26\"],[1.0,\"#f0f921\"]],\"type\":\"histogram2dcontour\"}],\"mesh3d\":[{\"colorbar\":{\"outlinewidth\":0,\"ticks\":\"\"},\"type\":\"mesh3d\"}],\"parcoords\":[{\"line\":{\"colorbar\":{\"outlinewidth\":0,\"ticks\":\"\"}},\"type\":\"parcoords\"}],\"pie\":[{\"automargin\":true,\"type\":\"pie\"}],\"scatter\":[{\"marker\":{\"colorbar\":{\"outlinewidth\":0,\"ticks\":\"\"}},\"type\":\"scatter\"}],\"scatter3d\":[{\"line\":{\"colorbar\":{\"outlinewidth\":0,\"ticks\":\"\"}},\"marker\":{\"colorbar\":{\"outlinewidth\":0,\"ticks\":\"\"}},\"type\":\"scatter3d\"}],\"scattercarpet\":[{\"marker\":{\"colorbar\":{\"outlinewidth\":0,\"ticks\":\"\"}},\"type\":\"scattercarpet\"}],\"scattergeo\":[{\"marker\":{\"colorbar\":{\"outlinewidth\":0,\"ticks\":\"\"}},\"type\":\"scattergeo\"}],\"scattergl\":[{\"marker\":{\"colorbar\":{\"outlinewidth\":0,\"ticks\":\"\"}},\"type\":\"scattergl\"}],\"scattermapbox\":[{\"marker\":{\"colorbar\":{\"outlinewidth\":0,\"ticks\":\"\"}},\"type\":\"scattermapbox\"}],\"scatterpolar\":[{\"marker\":{\"colorbar\":{\"outlinewidth\":0,\"ticks\":\"\"}},\"type\":\"scatterpolar\"}],\"scatterpolargl\":[{\"marker\":{\"colorbar\":{\"outlinewidth\":0,\"ticks\":\"\"}},\"type\":\"scatterpolargl\"}],\"scatterternary\":[{\"marker\":{\"colorbar\":{\"outlinewidth\":0,\"ticks\":\"\"}},\"type\":\"scatterternary\"}],\"surface\":[{\"colorbar\":{\"outlinewidth\":0,\"ticks\":\"\"},\"colorscale\":[[0.0,\"#0d0887\"],[0.1111111111111111,\"#46039f\"],[0.2222222222222222,\"#7201a8\"],[0.3333333333333333,\"#9c179e\"],[0.4444444444444444,\"#bd3786\"],[0.5555555555555556,\"#d8576b\"],[0.6666666666666666,\"#ed7953\"],[0.7777777777777778,\"#fb9f3a\"],[0.8888888888888888,\"#fdca26\"],[1.0,\"#f0f921\"]],\"type\":\"surface\"}],\"table\":[{\"cells\":{\"fill\":{\"color\":\"#EBF0F8\"},\"line\":{\"color\":\"white\"}},\"header\":{\"fill\":{\"color\":\"#C8D4E3\"},\"line\":{\"color\":\"white\"}},\"type\":\"table\"}]},\"layout\":{\"annotationdefaults\":{\"arrowcolor\":\"#2a3f5f\",\"arrowhead\":0,\"arrowwidth\":1},\"autotypenumbers\":\"strict\",\"coloraxis\":{\"colorbar\":{\"outlinewidth\":0,\"ticks\":\"\"}},\"colorscale\":{\"diverging\":[[0,\"#8e0152\"],[0.1,\"#c51b7d\"],[0.2,\"#de77ae\"],[0.3,\"#f1b6da\"],[0.4,\"#fde0ef\"],[0.5,\"#f7f7f7\"],[0.6,\"#e6f5d0\"],[0.7,\"#b8e186\"],[0.8,\"#7fbc41\"],[0.9,\"#4d9221\"],[1,\"#276419\"]],\"sequential\":[[0.0,\"#0d0887\"],[0.1111111111111111,\"#46039f\"],[0.2222222222222222,\"#7201a8\"],[0.3333333333333333,\"#9c179e\"],[0.4444444444444444,\"#bd3786\"],[0.5555555555555556,\"#d8576b\"],[0.6666666666666666,\"#ed7953\"],[0.7777777777777778,\"#fb9f3a\"],[0.8888888888888888,\"#fdca26\"],[1.0,\"#f0f921\"]],\"sequentialminus\":[[0.0,\"#0d0887\"],[0.1111111111111111,\"#46039f\"],[0.2222222222222222,\"#7201a8\"],[0.3333333333333333,\"#9c179e\"],[0.4444444444444444,\"#bd3786\"],[0.5555555555555556,\"#d8576b\"],[0.6666666666666666,\"#ed7953\"],[0.7777777777777778,\"#fb9f3a\"],[0.8888888888888888,\"#fdca26\"],[1.0,\"#f0f921\"]]},\"colorway\":[\"#636efa\",\"#EF553B\",\"#00cc96\",\"#ab63fa\",\"#FFA15A\",\"#19d3f3\",\"#FF6692\",\"#B6E880\",\"#FF97FF\",\"#FECB52\"],\"font\":{\"color\":\"#2a3f5f\"},\"geo\":{\"bgcolor\":\"white\",\"lakecolor\":\"white\",\"landcolor\":\"#E5ECF6\",\"showlakes\":true,\"showland\":true,\"subunitcolor\":\"white\"},\"hoverlabel\":{\"align\":\"left\"},\"hovermode\":\"closest\",\"mapbox\":{\"style\":\"light\"},\"paper_bgcolor\":\"white\",\"plot_bgcolor\":\"#E5ECF6\",\"polar\":{\"angularaxis\":{\"gridcolor\":\"white\",\"linecolor\":\"white\",\"ticks\":\"\"},\"bgcolor\":\"#E5ECF6\",\"radialaxis\":{\"gridcolor\":\"white\",\"linecolor\":\"white\",\"ticks\":\"\"}},\"scene\":{\"xaxis\":{\"backgroundcolor\":\"#E5ECF6\",\"gridcolor\":\"white\",\"gridwidth\":2,\"linecolor\":\"white\",\"showbackground\":true,\"ticks\":\"\",\"zerolinecolor\":\"white\"},\"yaxis\":{\"backgroundcolor\":\"#E5ECF6\",\"gridcolor\":\"white\",\"gridwidth\":2,\"linecolor\":\"white\",\"showbackground\":true,\"ticks\":\"\",\"zerolinecolor\":\"white\"},\"zaxis\":{\"backgroundcolor\":\"#E5ECF6\",\"gridcolor\":\"white\",\"gridwidth\":2,\"linecolor\":\"white\",\"showbackground\":true,\"ticks\":\"\",\"zerolinecolor\":\"white\"}},\"shapedefaults\":{\"line\":{\"color\":\"#2a3f5f\"}},\"ternary\":{\"aaxis\":{\"gridcolor\":\"white\",\"linecolor\":\"white\",\"ticks\":\"\"},\"baxis\":{\"gridcolor\":\"white\",\"linecolor\":\"white\",\"ticks\":\"\"},\"bgcolor\":\"#E5ECF6\",\"caxis\":{\"gridcolor\":\"white\",\"linecolor\":\"white\",\"ticks\":\"\"}},\"title\":{\"x\":0.05},\"xaxis\":{\"automargin\":true,\"gridcolor\":\"white\",\"linecolor\":\"white\",\"ticks\":\"\",\"title\":{\"standoff\":15},\"zerolinecolor\":\"white\",\"zerolinewidth\":2},\"yaxis\":{\"automargin\":true,\"gridcolor\":\"white\",\"linecolor\":\"white\",\"ticks\":\"\",\"title\":{\"standoff\":15},\"zerolinecolor\":\"white\",\"zerolinewidth\":2}}},\"mapbox\":{\"domain\":{\"x\":[0.0,1.0],\"y\":[0.0,1.0]},\"center\":{\"lat\":51.793729086249996,\"lon\":10.2244575873125},\"zoom\":2,\"style\":\"carto-positron\"},\"coloraxis\":{\"colorbar\":{\"title\":{\"text\":\"dislikes\"}},\"colorscale\":[[0.0,\"#000004\"],[0.1111111111111111,\"#1b0c41\"],[0.2222222222222222,\"#4a0c6b\"],[0.3333333333333333,\"#781c6d\"],[0.4444444444444444,\"#a52c60\"],[0.5555555555555556,\"#cf4446\"],[0.6666666666666666,\"#ed6925\"],[0.7777777777777778,\"#fb9b06\"],[0.8888888888888888,\"#f7d13d\"],[1.0,\"#fcffa4\"]]},\"legend\":{\"tracegroupgap\":0,\"itemsizing\":\"constant\"},\"title\":{\"text\":\"Dislikes de videos seg\\u00fan regiones en Alemania\"}},                        {\"responsive\": true}                    ).then(function(){\n",
              "                            \n",
              "var gd = document.getElementById('8c6d3aed-ce83-479e-ae65-08bec0c1fdf4');\n",
              "var x = new MutationObserver(function (mutations, observer) {{\n",
              "        var display = window.getComputedStyle(gd).display;\n",
              "        if (!display || display === 'none') {{\n",
              "            console.log([gd, 'removed!']);\n",
              "            Plotly.purge(gd);\n",
              "            observer.disconnect();\n",
              "        }}\n",
              "}});\n",
              "\n",
              "// Listen for the removal of the full notebook cells\n",
              "var notebookContainer = gd.closest('#notebook-container');\n",
              "if (notebookContainer) {{\n",
              "    x.observe(notebookContainer, {childList: true});\n",
              "}}\n",
              "\n",
              "// Listen for the clearing of the current output cell\n",
              "var outputEl = gd.closest('.output');\n",
              "if (outputEl) {{\n",
              "    x.observe(outputEl, {childList: true});\n",
              "}}\n",
              "\n",
              "                        })                };                            </script>        </div>\n",
              "</body>\n",
              "</html>"
            ]
          },
          "metadata": {}
        }
      ]
    },
    {
      "cell_type": "markdown",
      "source": [
        "Guardamos y descargamos el dataset final"
      ],
      "metadata": {
        "id": "4-BlmoryRX77"
      }
    },
    {
      "cell_type": "code",
      "source": [
        "from google.colab import files"
      ],
      "metadata": {
        "id": "OJAXS-p5LgGx"
      },
      "execution_count": 59,
      "outputs": []
    },
    {
      "cell_type": "code",
      "source": [
        "ds.to_csv('DEvideos_cc50_final.csv') \n",
        "files.download('DEvideos_cc50_final.csv')"
      ],
      "metadata": {
        "colab": {
          "base_uri": "https://localhost:8080/",
          "height": 17
        },
        "id": "4BtbrAF5Rxpr",
        "outputId": "b7c6f06f-5edf-4d8d-ec96-87956d38758b"
      },
      "execution_count": 60,
      "outputs": [
        {
          "output_type": "display_data",
          "data": {
            "text/plain": [
              "<IPython.core.display.Javascript object>"
            ],
            "application/javascript": [
              "\n",
              "    async function download(id, filename, size) {\n",
              "      if (!google.colab.kernel.accessAllowed) {\n",
              "        return;\n",
              "      }\n",
              "      const div = document.createElement('div');\n",
              "      const label = document.createElement('label');\n",
              "      label.textContent = `Downloading \"${filename}\": `;\n",
              "      div.appendChild(label);\n",
              "      const progress = document.createElement('progress');\n",
              "      progress.max = size;\n",
              "      div.appendChild(progress);\n",
              "      document.body.appendChild(div);\n",
              "\n",
              "      const buffers = [];\n",
              "      let downloaded = 0;\n",
              "\n",
              "      const channel = await google.colab.kernel.comms.open(id);\n",
              "      // Send a message to notify the kernel that we're ready.\n",
              "      channel.send({})\n",
              "\n",
              "      for await (const message of channel.messages) {\n",
              "        // Send a message to notify the kernel that we're ready.\n",
              "        channel.send({})\n",
              "        if (message.buffers) {\n",
              "          for (const buffer of message.buffers) {\n",
              "            buffers.push(buffer);\n",
              "            downloaded += buffer.byteLength;\n",
              "            progress.value = downloaded;\n",
              "          }\n",
              "        }\n",
              "      }\n",
              "      const blob = new Blob(buffers, {type: 'application/binary'});\n",
              "      const a = document.createElement('a');\n",
              "      a.href = window.URL.createObjectURL(blob);\n",
              "      a.download = filename;\n",
              "      div.appendChild(a);\n",
              "      a.click();\n",
              "      div.remove();\n",
              "    }\n",
              "  "
            ]
          },
          "metadata": {}
        },
        {
          "output_type": "display_data",
          "data": {
            "text/plain": [
              "<IPython.core.display.Javascript object>"
            ],
            "application/javascript": [
              "download(\"download_87281315-d0a7-4ca9-a9da-e10807de1153\", \"DEvideos_cc50_final.csv\", 67986475)"
            ]
          },
          "metadata": {}
        }
      ]
    }
  ]
}