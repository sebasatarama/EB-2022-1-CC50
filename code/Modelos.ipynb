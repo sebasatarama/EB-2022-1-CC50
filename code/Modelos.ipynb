{
  "nbformat": 4,
  "nbformat_minor": 0,
  "metadata": {
    "colab": {
      "name": "Modelo.ipynb",
      "provenance": [],
      "authorship_tag": "ABX9TyPtpj8rrvNWfsBgVpdQqKJq",
      "include_colab_link": true
    },
    "kernelspec": {
      "name": "python3",
      "display_name": "Python 3"
    },
    "language_info": {
      "name": "python"
    }
  },
  "cells": [
    {
      "cell_type": "markdown",
      "metadata": {
        "id": "view-in-github",
        "colab_type": "text"
      },
      "source": [
        "<a href=\"https://colab.research.google.com/github/sebasatarama/EB-2022-1-CC50/blob/main/Modelo.ipynb\" target=\"_parent\"><img src=\"https://colab.research.google.com/assets/colab-badge.svg\" alt=\"Open In Colab\"/></a>"
      ]
    },
    {
      "cell_type": "code",
      "execution_count": null,
      "metadata": {
        "id": "iPzhiMwTYLCq"
      },
      "outputs": [],
      "source": [
        "import pandas as pd\n",
        "import numpy as np\n",
        "import matplotlib.pyplot as plt\n",
        "import seaborn as ans\n",
        "from sklearn.model_selection import train_test_split\n",
        "from sklearn.linear_model import LinearRegression"
      ]
    },
    {
      "cell_type": "code",
      "source": [
        "ds = pd.read_csv('DEvideos_cc50.csv')"
      ],
      "metadata": {
        "id": "HDw3ndwsaU5r"
      },
      "execution_count": null,
      "outputs": []
    },
    {
      "cell_type": "markdown",
      "source": [
        "#Para predecir Likes:\n",
        "Predecir likes parece ser que es lo más sencillo, ya que se cuenta con una precisión de más del 86%"
      ],
      "metadata": {
        "id": "8XAtEhs8dxqO"
      }
    },
    {
      "cell_type": "code",
      "source": [
        "X = ds[['views', 'dislikes', 'comment_count']]\n",
        "y = ds['likes']"
      ],
      "metadata": {
        "id": "H3wBO1LVafnI"
      },
      "execution_count": null,
      "outputs": []
    },
    {
      "cell_type": "code",
      "source": [
        "X_train, X_test, y_train, y_test = train_test_split(X, y, test_size=0.4, random_state=101)"
      ],
      "metadata": {
        "id": "xMo8pH2Na0oi"
      },
      "execution_count": null,
      "outputs": []
    },
    {
      "cell_type": "code",
      "source": [
        "lm = LinearRegression()"
      ],
      "metadata": {
        "id": "Dd7hO1lAbBhk"
      },
      "execution_count": null,
      "outputs": []
    },
    {
      "cell_type": "code",
      "source": [
        "lm.fit(X_train, y_train)"
      ],
      "metadata": {
        "colab": {
          "base_uri": "https://localhost:8080/"
        },
        "id": "8SmfPt2_bFO0",
        "outputId": "62066ace-2f0c-4647-8117-74993db48fdd"
      },
      "execution_count": null,
      "outputs": [
        {
          "output_type": "execute_result",
          "data": {
            "text/plain": [
              "LinearRegression()"
            ]
          },
          "metadata": {},
          "execution_count": 17
        }
      ]
    },
    {
      "cell_type": "markdown",
      "source": [
        "Precisión del modelo"
      ],
      "metadata": {
        "id": "-Q3bLETpd6cF"
      }
    },
    {
      "cell_type": "code",
      "source": [
        "print(lm.score(X_test, y_test))"
      ],
      "metadata": {
        "colab": {
          "base_uri": "https://localhost:8080/"
        },
        "id": "iV4gu0ZkbqYj",
        "outputId": "44020ed7-c7d1-496e-c13a-14e7952abe2f"
      },
      "execution_count": null,
      "outputs": [
        {
          "output_type": "stream",
          "name": "stdout",
          "text": [
            "0.860788189775233\n"
          ]
        }
      ]
    },
    {
      "cell_type": "markdown",
      "source": [
        "Algunas de las predicciones"
      ],
      "metadata": {
        "id": "C45NOFv2exDR"
      }
    },
    {
      "cell_type": "code",
      "source": [
        "predictions = lm.predict(X_test)"
      ],
      "metadata": {
        "id": "bx8Q3BbrbU9q"
      },
      "execution_count": null,
      "outputs": []
    },
    {
      "cell_type": "code",
      "source": [
        "predictions"
      ],
      "metadata": {
        "colab": {
          "base_uri": "https://localhost:8080/"
        },
        "id": "2gwVyktJcYeF",
        "outputId": "8638e991-6479-4b39-ff39-2c7f0ce816fd"
      },
      "execution_count": null,
      "outputs": [
        {
          "output_type": "execute_result",
          "data": {
            "text/plain": [
              "array([4001.90446986, 1818.33714353,  829.46468466, ..., 1166.87413559,\n",
              "       1368.33503634,  449.58562162])"
            ]
          },
          "metadata": {},
          "execution_count": 22
        }
      ]
    },
    {
      "cell_type": "markdown",
      "source": [
        "#Para predecir Dislikes\n",
        "El modelo solo arroja una precisión del 56%, muy inferior a cuando se intentaban predecir los likes."
      ],
      "metadata": {
        "id": "RrL1NXEhd2PH"
      }
    },
    {
      "cell_type": "code",
      "source": [
        "X = ds[['views', 'likes', 'comment_count']]\n",
        "y = ds['dislikes']"
      ],
      "metadata": {
        "id": "q4Cy8UCrc34d"
      },
      "execution_count": null,
      "outputs": []
    },
    {
      "cell_type": "code",
      "source": [
        "X_train, X_test, y_train, y_test = train_test_split(X, y, test_size=0.4, random_state=101)"
      ],
      "metadata": {
        "id": "TJdICk-BeGfM"
      },
      "execution_count": null,
      "outputs": []
    },
    {
      "cell_type": "code",
      "source": [
        "lm = LinearRegression()"
      ],
      "metadata": {
        "id": "MfVFfLTueIeG"
      },
      "execution_count": null,
      "outputs": []
    },
    {
      "cell_type": "code",
      "source": [
        "lm.fit(X_train, y_train)"
      ],
      "metadata": {
        "colab": {
          "base_uri": "https://localhost:8080/"
        },
        "id": "_OV29jzceKNb",
        "outputId": "24a183c9-afb4-4605-f262-08eabe796e03"
      },
      "execution_count": null,
      "outputs": [
        {
          "output_type": "execute_result",
          "data": {
            "text/plain": [
              "LinearRegression()"
            ]
          },
          "metadata": {},
          "execution_count": 45
        }
      ]
    },
    {
      "cell_type": "markdown",
      "source": [
        "Precisión del modelo"
      ],
      "metadata": {
        "id": "uyAZCkICem-R"
      }
    },
    {
      "cell_type": "code",
      "source": [
        "print(lm.score(X_test, y_test))"
      ],
      "metadata": {
        "colab": {
          "base_uri": "https://localhost:8080/"
        },
        "id": "5Qo7matkeL3e",
        "outputId": "c999babe-5fed-4326-ee7f-e338fb6cd2ff"
      },
      "execution_count": null,
      "outputs": [
        {
          "output_type": "stream",
          "name": "stdout",
          "text": [
            "0.5623792703434035\n"
          ]
        }
      ]
    },
    {
      "cell_type": "markdown",
      "source": [
        "Algunas predicciones. Se puede observar que el modelo arroja incluso valores negativos. Este puede ser un motivo de la baja precisión."
      ],
      "metadata": {
        "id": "kMwFjCiVfKhZ"
      }
    },
    {
      "cell_type": "code",
      "source": [
        "predictions = lm.predict(X_test)"
      ],
      "metadata": {
        "id": "PDa4Ji6peOQJ"
      },
      "execution_count": null,
      "outputs": []
    },
    {
      "cell_type": "code",
      "source": [
        "predictions"
      ],
      "metadata": {
        "colab": {
          "base_uri": "https://localhost:8080/"
        },
        "id": "4mDHu9KNfHG-",
        "outputId": "6434d7ee-e099-4368-9090-ff0b7f744a61"
      },
      "execution_count": null,
      "outputs": [
        {
          "output_type": "execute_result",
          "data": {
            "text/plain": [
              "array([  70.76049362, -160.42651905, -221.28085246, ..., -216.50739359,\n",
              "       -147.64030567, -272.65543181])"
            ]
          },
          "metadata": {},
          "execution_count": 31
        }
      ]
    },
    {
      "cell_type": "markdown",
      "source": [
        "#Para predecir views\n",
        "Observamos que es un modelo más preciso que el que se usa para predecir dislikes, pero menos preciso que el predice likes."
      ],
      "metadata": {
        "id": "a8J_WTEeficF"
      }
    },
    {
      "cell_type": "code",
      "source": [
        "ÑX = ds[['dislikes', 'likes', 'comment_count']]\n",
        "y = ds['views']"
      ],
      "metadata": {
        "id": "oMWgOVHrfJ7a"
      },
      "execution_count": null,
      "outputs": []
    },
    {
      "cell_type": "code",
      "source": [
        "X_train, X_test, y_train, y_test = train_test_split(X, y, test_size=0.4, random_state=101)"
      ],
      "metadata": {
        "id": "VxbXa-GDf70n"
      },
      "execution_count": null,
      "outputs": []
    },
    {
      "cell_type": "code",
      "source": [
        "lm = LinearRegression()"
      ],
      "metadata": {
        "id": "SZj_gxUDf97m"
      },
      "execution_count": null,
      "outputs": []
    },
    {
      "cell_type": "code",
      "source": [
        "lm.fit(X_train, y_train)"
      ],
      "metadata": {
        "colab": {
          "base_uri": "https://localhost:8080/"
        },
        "id": "Auy8iOAsgAVB",
        "outputId": "5d0e7898-1d67-41d7-a2d9-12a39201cd2d"
      },
      "execution_count": null,
      "outputs": [
        {
          "output_type": "execute_result",
          "data": {
            "text/plain": [
              "LinearRegression()"
            ]
          },
          "metadata": {},
          "execution_count": 55
        }
      ]
    },
    {
      "cell_type": "markdown",
      "source": [
        "Precisión del modelo"
      ],
      "metadata": {
        "id": "_L195G5CgeAk"
      }
    },
    {
      "cell_type": "code",
      "source": [
        "print(lm.score(X_test, y_test))"
      ],
      "metadata": {
        "colab": {
          "base_uri": "https://localhost:8080/"
        },
        "id": "gmPgDlvWgB5Y",
        "outputId": "0eed9929-e869-4b29-fcfb-1fd34814db72"
      },
      "execution_count": null,
      "outputs": [
        {
          "output_type": "stream",
          "name": "stdout",
          "text": [
            "0.7346622045361078\n"
          ]
        }
      ]
    },
    {
      "cell_type": "markdown",
      "source": [
        "Algunas predicciones."
      ],
      "metadata": {
        "id": "McfO_-nNghdD"
      }
    },
    {
      "cell_type": "code",
      "source": [
        "predictions = lm.predict(X_test)"
      ],
      "metadata": {
        "id": "q7tDZWYLgDa3"
      },
      "execution_count": null,
      "outputs": []
    },
    {
      "cell_type": "code",
      "source": [
        "predictions"
      ],
      "metadata": {
        "colab": {
          "base_uri": "https://localhost:8080/"
        },
        "id": "2pOb92cngcMB",
        "outputId": "dfe5f613-3106-40b4-e637-313f063e467e"
      },
      "execution_count": null,
      "outputs": [
        {
          "output_type": "execute_result",
          "data": {
            "text/plain": [
              "array([232449.19653161, 201860.73890918, 185217.01195109, ...,\n",
              "       194055.05408915, 181254.03862219, 182447.05509513])"
            ]
          },
          "metadata": {},
          "execution_count": 58
        }
      ]
    }
  ]
}
